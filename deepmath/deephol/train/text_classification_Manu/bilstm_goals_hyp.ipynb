{
 "cells": [
  {
   "cell_type": "code",
   "execution_count": 1,
   "metadata": {},
   "outputs": [
    {
     "name": "stderr",
     "output_type": "stream",
     "text": [
      "Using TensorFlow backend.\n"
     ]
    }
   ],
   "source": [
    "import pandas as pd\n",
    "import numpy as np\n",
    "import tensorflow as tf\n",
    "from keras.models import Sequential\n",
    "from keras.layers import Dense, Embedding, LSTM, SpatialDropout1D, Bidirectional\n",
    "from sklearn.model_selection import train_test_split\n",
    "from keras.utils.np_utils import to_categorical\n",
    "from keras.callbacks import EarlyStopping\n",
    "from keras.layers import Dropout"
   ]
  },
  {
   "cell_type": "code",
   "execution_count": 2,
   "metadata": {},
   "outputs": [
    {
     "data": {
      "text/plain": [
       "array([[2., 6., 9., ..., 0., 0., 0.],\n",
       "       [2., 6., 6., ..., 0., 0., 0.],\n",
       "       [2., 6., 6., ..., 0., 0., 0.],\n",
       "       ...,\n",
       "       [2., 6., 6., ..., 0., 0., 0.],\n",
       "       [2., 6., 6., ..., 0., 0., 0.],\n",
       "       [2., 6., 9., ..., 0., 0., 0.]])"
      ]
     },
     "execution_count": 2,
     "metadata": {},
     "output_type": "execute_result"
    }
   ],
   "source": [
    "# load numpy array from csv file\n",
    "from numpy import loadtxt\n",
    "# load array\n",
    "X_train = loadtxt('x_train.csv', delimiter=',')\n",
    "hypotheses = loadtxt('hypotheses2.csv', delimiter=',')\n",
    "Y_train = loadtxt('y_train.csv', delimiter=',')\n",
    "# print the array\n",
    "X_train"
   ]
  },
  {
   "cell_type": "code",
   "execution_count": 3,
   "metadata": {},
   "outputs": [
    {
     "data": {
      "text/plain": [
       "array([[ 2., 70.,  6., ...,  0.,  0.,  0.],\n",
       "       [ 2., 70.,  6., ...,  0.,  0.,  0.],\n",
       "       [ 2., 70.,  6., ...,  0.,  0.,  0.],\n",
       "       ...,\n",
       "       [ 2., 70.,  6., ..., 45.,  6.,  9.],\n",
       "       [ 2., 70.,  6., ...,  0.,  0.,  0.],\n",
       "       [ 2., 70.,  6., ...,  0.,  0.,  0.]])"
      ]
     },
     "execution_count": 3,
     "metadata": {},
     "output_type": "execute_result"
    }
   ],
   "source": [
    "hypotheses"
   ]
  },
  {
   "cell_type": "code",
   "execution_count": 4,
   "metadata": {},
   "outputs": [
    {
     "data": {
      "text/plain": [
       "array([[0., 0., 0., ..., 0., 0., 0.],\n",
       "       [0., 0., 0., ..., 0., 0., 0.],\n",
       "       [0., 0., 0., ..., 0., 0., 0.],\n",
       "       ...,\n",
       "       [0., 0., 0., ..., 0., 0., 0.],\n",
       "       [0., 0., 0., ..., 0., 0., 0.],\n",
       "       [0., 0., 0., ..., 0., 0., 0.]])"
      ]
     },
     "execution_count": 4,
     "metadata": {},
     "output_type": "execute_result"
    }
   ],
   "source": [
    "Y_train"
   ]
  },
  {
   "cell_type": "code",
   "execution_count": 36,
   "metadata": {},
   "outputs": [
    {
     "name": "stdout",
     "output_type": "stream",
     "text": [
      "(2000, 3000)\n"
     ]
    }
   ],
   "source": [
    "# create feature matrix with goals and hypotheses\n",
    "length = len(X_train)\n",
    "\n",
    "X_train_hyp = []\n",
    "\n",
    "counter = 0\n",
    "\n",
    "# train_example = np.concatenate((X_train[0], hypotheses[0]))\n",
    "# train_example = train_example[train_example != 0]\n",
    "# train_example = train_example[0:3000]\n",
    "# train_example = np.pad(train_example, (0, 3000-len_conc), mode='constant')\n",
    "# X_train_hyp.append(np.asarray(train_example, dtype='float64').tolist())\n",
    "# print(train_example)\n",
    "# print(X_train_hyp)\n",
    "for i in range(length):\n",
    "    # concatenate goal and hypotheses\n",
    "    train_example = np.concatenate((X_train[i], hypotheses[i]))\n",
    "    # remove zeroes in between\n",
    "    train_example = train_example[train_example != 0]\n",
    "    # truncate to max hypothesis length of 3000 characters, i.e. truncating less than 10% of data\n",
    "    train_example = train_example[0:3000]\n",
    "    # pad with zeroes to make length 3000 (to save as csv)\n",
    "    len_conc = len(train_example)\n",
    "    train_example = np.pad(train_example, (0, 3000-len_conc), mode='constant')\n",
    "    X_train_hyp.append(np.asarray(train_example, dtype='float64').tolist())\n",
    "\n",
    "X_train_hyp = np.array(X_train_hyp)\n",
    "print(np.shape(X_train_hyp))"
   ]
  },
  {
   "cell_type": "code",
   "execution_count": 37,
   "metadata": {},
   "outputs": [],
   "source": [
    "VOCAB_SIZE = 1254\n",
    "INPUT_LENGTH = 3000\n",
    "EMBEDDING_DIM = 128"
   ]
  },
  {
   "cell_type": "code",
   "execution_count": 38,
   "metadata": {},
   "outputs": [],
   "source": [
    "# model\n",
    "def build_model(vocab_size, embedding_dim, input_length):\n",
    "    model = Sequential()\n",
    "    model.add(Embedding(vocab_size, embedding_dim, input_length=input_length))\n",
    "    model.add(SpatialDropout1D(0.2))\n",
    "    model.add(Bidirectional(LSTM(128, dropout=0.2, recurrent_dropout=0.2)))\n",
    "    model.add(Dense(41, activation='softmax'))\n",
    "    return model"
   ]
  },
  {
   "cell_type": "code",
   "execution_count": 39,
   "metadata": {},
   "outputs": [
    {
     "name": "stdout",
     "output_type": "stream",
     "text": [
      "WARNING:tensorflow:From /home/ec2-user/anaconda3/envs/tensorflow_p36/lib/python3.6/site-packages/keras/backend/tensorflow_backend.py:74: The name tf.get_default_graph is deprecated. Please use tf.compat.v1.get_default_graph instead.\n",
      "\n",
      "WARNING:tensorflow:From /home/ec2-user/anaconda3/envs/tensorflow_p36/lib/python3.6/site-packages/keras/backend/tensorflow_backend.py:517: The name tf.placeholder is deprecated. Please use tf.compat.v1.placeholder instead.\n",
      "\n",
      "WARNING:tensorflow:From /home/ec2-user/anaconda3/envs/tensorflow_p36/lib/python3.6/site-packages/keras/backend/tensorflow_backend.py:4138: The name tf.random_uniform is deprecated. Please use tf.random.uniform instead.\n",
      "\n",
      "WARNING:tensorflow:From /home/ec2-user/anaconda3/envs/tensorflow_p36/lib/python3.6/site-packages/keras/backend/tensorflow_backend.py:133: The name tf.placeholder_with_default is deprecated. Please use tf.compat.v1.placeholder_with_default instead.\n",
      "\n",
      "WARNING:tensorflow:From /home/ec2-user/anaconda3/envs/tensorflow_p36/lib/python3.6/site-packages/keras/backend/tensorflow_backend.py:3445: calling dropout (from tensorflow.python.ops.nn_ops) with keep_prob is deprecated and will be removed in a future version.\n",
      "Instructions for updating:\n",
      "Please use `rate` instead of `keep_prob`. Rate should be set to `rate = 1 - keep_prob`.\n",
      "WARNING:tensorflow:From /home/ec2-user/anaconda3/envs/tensorflow_p36/lib/python3.6/site-packages/keras/optimizers.py:790: The name tf.train.Optimizer is deprecated. Please use tf.compat.v1.train.Optimizer instead.\n",
      "\n",
      "WARNING:tensorflow:From /home/ec2-user/anaconda3/envs/tensorflow_p36/lib/python3.6/site-packages/keras/backend/tensorflow_backend.py:3295: The name tf.log is deprecated. Please use tf.math.log instead.\n",
      "\n",
      "_________________________________________________________________\n",
      "Layer (type)                 Output Shape              Param #   \n",
      "=================================================================\n",
      "embedding_1 (Embedding)      (None, 3000, 128)         160512    \n",
      "_________________________________________________________________\n",
      "spatial_dropout1d_1 (Spatial (None, 3000, 128)         0         \n",
      "_________________________________________________________________\n",
      "bidirectional_1 (Bidirection (None, 256)               263168    \n",
      "_________________________________________________________________\n",
      "dense_1 (Dense)              (None, 41)                10537     \n",
      "=================================================================\n",
      "Total params: 434,217\n",
      "Trainable params: 434,217\n",
      "Non-trainable params: 0\n",
      "_________________________________________________________________\n",
      "None\n"
     ]
    }
   ],
   "source": [
    "model = build_model(VOCAB_SIZE, EMBEDDING_DIM, INPUT_LENGTH)\n",
    "\n",
    "model.compile(loss='categorical_crossentropy', optimizer='adam', metrics=['accuracy'])\n",
    "print(model.summary())"
   ]
  },
  {
   "cell_type": "code",
   "execution_count": null,
   "metadata": {},
   "outputs": [
    {
     "name": "stdout",
     "output_type": "stream",
     "text": [
      "WARNING:tensorflow:From /home/ec2-user/anaconda3/envs/tensorflow_p36/lib/python3.6/site-packages/tensorflow/python/ops/math_grad.py:1250: add_dispatch_support.<locals>.wrapper (from tensorflow.python.ops.array_ops) is deprecated and will be removed in a future version.\n",
      "Instructions for updating:\n",
      "Use tf.where in 2.0, which has the same broadcast rule as np.where\n",
      "Train on 1800 samples, validate on 200 samples\n",
      "Epoch 1/1\n"
     ]
    }
   ],
   "source": [
    "epochs = 1\n",
    "batch_size = 64\n",
    "\n",
    "history = model.fit(X_train_hyp, Y_train, epochs=epochs, batch_size=batch_size,validation_split=0.1,callbacks=[EarlyStopping(monitor='val_loss', patience=3, min_delta=0.0001)])"
   ]
  },
  {
   "cell_type": "code",
   "execution_count": 50,
   "metadata": {},
   "outputs": [
    {
     "name": "stdout",
     "output_type": "stream",
     "text": [
      "(1000,)\n",
      "[3.3277813e-03 4.6333001e-04 3.3665893e-03 1.7790940e-02 2.7395245e-03\n",
      " 9.9761590e-02 2.7523418e-05 2.4764312e-03 4.7830066e-01 2.2886734e-05\n",
      " 1.2410913e-03 2.4061750e-05 6.1879552e-04 8.9632417e-04 2.2381822e-05\n",
      " 1.1343738e-02 9.9106692e-03 1.4475737e-03 2.1933309e-05 1.2322307e-03\n",
      " 4.6435562e-05 4.2002437e-05 2.2296049e-02 6.1855331e-05 7.3380455e-02\n",
      " 2.8661441e-03 3.1887814e-03 1.4985760e-02 8.8705450e-02 7.1094022e-04\n",
      " 4.1491086e-05 6.6978903e-03 9.3864888e-02 2.0217614e-03 4.1907849e-03\n",
      " 1.0440013e-04 7.2640209e-03 3.4092292e-02 7.4351090e-03 2.6554952e-03\n",
      " 3.1195482e-04]\n",
      "8\n",
      "37\n",
      "37\n",
      "37\n",
      "37\n",
      "37\n",
      "3\n",
      "5\n",
      "31\n",
      "37\n",
      "8\n",
      "37\n",
      "5\n",
      "37\n",
      "3\n",
      "3\n",
      "8\n",
      "24\n",
      "8\n",
      "13\n",
      "8\n",
      "24\n",
      "3\n",
      "8\n",
      "5\n",
      "5\n",
      "8\n",
      "5\n",
      "37\n",
      "37\n",
      "8\n",
      "5\n",
      "37\n",
      "8\n",
      "5\n",
      "5\n",
      "5\n",
      "37\n",
      "5\n",
      "3\n",
      "37\n",
      "37\n",
      "5\n",
      "3\n",
      "37\n",
      "24\n",
      "31\n",
      "5\n",
      "37\n",
      "37\n",
      "37\n",
      "5\n",
      "5\n",
      "37\n",
      "5\n",
      "5\n",
      "3\n",
      "3\n",
      "3\n",
      "22\n",
      "8\n",
      "13\n",
      "31\n",
      "31\n",
      "3\n",
      "5\n",
      "5\n",
      "22\n",
      "24\n",
      "37\n",
      "37\n",
      "5\n",
      "5\n",
      "37\n",
      "3\n",
      "8\n",
      "13\n",
      "5\n",
      "5\n",
      "37\n",
      "3\n",
      "37\n",
      "13\n",
      "37\n",
      "13\n",
      "24\n",
      "13\n",
      "37\n",
      "37\n",
      "3\n",
      "3\n",
      "37\n",
      "5\n",
      "8\n",
      "37\n",
      "24\n",
      "13\n",
      "8\n",
      "3\n",
      "3\n"
     ]
    }
   ],
   "source": [
    "example_x = X_train[0]\n",
    "print(np.shape(example_x))\n",
    "temp = model.predict(X_train[0:100])\n",
    "# print(len(temp)), temp\n",
    "print(temp[0])\n",
    "for i in temp:\n",
    "    print(np.argmax(i))\n"
   ]
  },
  {
   "cell_type": "code",
   "execution_count": null,
   "metadata": {},
   "outputs": [],
   "source": []
  }
 ],
 "metadata": {
  "kernelspec": {
   "display_name": "conda_tensorflow_p36",
   "language": "python",
   "name": "conda_tensorflow_p36"
  },
  "language_info": {
   "codemirror_mode": {
    "name": "ipython",
    "version": 3
   },
   "file_extension": ".py",
   "mimetype": "text/x-python",
   "name": "python",
   "nbconvert_exporter": "python",
   "pygments_lexer": "ipython3",
   "version": "3.6.5"
  }
 },
 "nbformat": 4,
 "nbformat_minor": 4
}

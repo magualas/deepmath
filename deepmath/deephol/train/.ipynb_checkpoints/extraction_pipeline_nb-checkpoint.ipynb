{
 "cells": [
  {
   "cell_type": "code",
   "execution_count": null,
   "metadata": {},
   "outputs": [],
   "source": [
    "# ! pip install progressbar"
   ]
  },
  {
   "cell_type": "code",
   "execution_count": 1,
   "metadata": {},
   "outputs": [
    {
     "name": "stdout",
     "output_type": "stream",
     "text": [
      "Tesor Flow Version: 1.14.0 Ingest File\n",
      "Tesor Flow Version: 1.14.0  Utility File\n",
      "Tesor Flow Version: 1.14.0 Extactor 2\n"
     ]
    }
   ],
   "source": [
    "\"\"\"\n",
    "\n",
    "extraction_pipeline.py\n",
    "\n",
    "by Jeff, Manu and Tanc\n",
    "\n",
    "\"\"\"\n",
    "\n",
    "import os\n",
    "import numpy as np\n",
    "import tensorflow as tf\n",
    "import tensorflow.contrib.eager as tfe\n",
    "import boto3\n",
    "# print(tf.__version__)\n",
    "import ingestor\n",
    "import extractor2\n",
    "import data\n",
    "import functools\n",
    "import progressbar\n",
    "\n",
    "# config\n",
    "BUCKET_NAME = 'sagemaker-cs281'\n",
    "data_paths = {\n",
    "#     'train':'deephol-data-processed/proofs/human/train_new',\n",
    "    'valid':'deephol-data-processed/proofs/human/valid_new',\n",
    "    'test':'deephol-data-processed/proofs/human/test_new'\n",
    "}"
   ]
  },
  {
   "cell_type": "code",
   "execution_count": 2,
   "metadata": {},
   "outputs": [
    {
     "name": "stdout",
     "output_type": "stream",
     "text": [
      "def get_train_dataset(params):\n",
      "  path = os.path.join(params.dataset_dir, 'test') # 'train*')\n",
      "  files =  tf.io.gfile.listdir(path)\n",
      "  files = [os.path.join(path, f) for f in files if 'pbtxt' not in f]\n",
      "#   return tf.data.TFRecordDataset(files)\n",
      "  if not files:\n",
      "    raise ValueError('No training files found in %s' % path)\n",
      "  return tfrecord_dataset_with_source(files, SOURCE_DATASETDIR)\n",
      "\n"
     ]
    }
   ],
   "source": [
    "data_split ='valid'\n",
    "\n",
    "# check\n",
    "import inspect\n",
    "print(inspect.getsource(data.get_train_dataset))"
   ]
  },
  {
   "cell_type": "markdown",
   "metadata": {},
   "source": [
    "# Functions"
   ]
  },
  {
   "cell_type": "code",
   "execution_count": 3,
   "metadata": {},
   "outputs": [],
   "source": [
    "def upload_np_to_s3(array, object_name):    \n",
    "    # save localy\n",
    "    local_filename = '/tmp/temp.csv'\n",
    "    \n",
    "    np.savetxt(local_filename, array, delimiter=',')\n",
    "    \n",
    "    # s3 upload\n",
    "    s3_client = boto3.client('s3')\n",
    "    response = s3_client.upload_file(local_filename, BUCKET_NAME, object_name)"
   ]
  },
  {
   "cell_type": "markdown",
   "metadata": {},
   "source": [
    "# Run"
   ]
  },
  {
   "cell_type": "code",
   "execution_count": 4,
   "metadata": {},
   "outputs": [
    {
     "name": "stdout",
     "output_type": "stream",
     "text": [
      "WARNING:tensorflow:From /home/ec2-user/SageMaker/deepmath/deepmath/deephol/train/data.py:66: The name tf.parse_single_example is deprecated. Please use tf.io.parse_single_example instead.\n",
      "\n",
      "WARNING:tensorflow:From /home/ec2-user/SageMaker/deepmath/deepmath/deephol/train/data.py:71: The name tf.FixedLenFeature is deprecated. Please use tf.io.FixedLenFeature instead.\n",
      "\n",
      "WARNING:tensorflow:From /home/ec2-user/SageMaker/deepmath/deepmath/deephol/train/data.py:73: The name tf.VarLenFeature is deprecated. Please use tf.io.VarLenFeature instead.\n",
      "\n",
      "WARNING:tensorflow:From /home/ec2-user/SageMaker/deepmath/deepmath/deephol/train/data.py:88: The name tf.sparse_tensor_to_dense is deprecated. Please use tf.sparse.to_dense instead.\n",
      "\n"
     ]
    }
   ],
   "source": [
    "\n",
    "# make tf dataset of parsed examples\n",
    "params = ingestor.get_params()\n",
    "train_data = data.get_train_dataset(params)\n",
    "parser = data.tristan_parser\n",
    "train_parsed = train_data.map(functools.partial(parser, params=params))\n",
    "\n",
    "# set features and labels\n",
    "features = {'goal': [], 'goal_asl': [], 'thms': [], 'thms_hard_negatives': []}\n",
    "labels = {'tac_id': []}\n",
    "\n",
    "# iterate over dataset to extract data into arrays\n",
    "train_parsed = train_parsed\n",
    "for raw_record in train_parsed:\n",
    "    fx, lx = raw_record[0], raw_record[1]\n",
    "    features['goal'].append(fx['goal'])\n",
    "    features['goal_asl'].append(fx['goal_asl'])\n",
    "    features['thms'].append(fx['thms'])\n",
    "    features['thms_hard_negatives'].append(fx['thms_hard_negatives'])\n",
    "    labels['tac_id'].append(lx['tac_id'])"
   ]
  },
  {
   "cell_type": "code",
   "execution_count": 5,
   "metadata": {},
   "outputs": [
    {
     "name": "stdout",
     "output_type": "stream",
     "text": [
      "WARNING:tensorflow:From /home/ec2-user/SageMaker/deepmath/deepmath/deephol/train/utils.py:20: The name tf.gfile.Open is deprecated. Please use tf.io.gfile.GFile instead.\n",
      "\n",
      "WARNING:tensorflow:From /home/ec2-user/SageMaker/deepmath/deepmath/deephol/train/extractor2.py:58: to_int32 (from tensorflow.python.ops.math_ops) is deprecated and will be removed in a future version.\n",
      "Instructions for updating:\n",
      "Use `tf.cast` instead.\n"
     ]
    }
   ],
   "source": [
    "# instantiate extractor object\n",
    "ex = extractor2.Extractor(params)\n",
    "\n",
    "# tokenize goals\n",
    "features['goal_ids'] = ex.tokenize(features['goal'], ex.vocab_table)\n",
    "\n",
    "# tokenize hypotheses\n",
    "length = len(features['goal'])\n",
    "features['goal_asl_ids'] = []\n",
    "for i in range(length):\n",
    "    temp = ex.tokenize(features['goal_asl'][i], ex.vocab_table)\n",
    "    features['goal_asl_ids'].append(temp)"
   ]
  },
  {
   "cell_type": "code",
   "execution_count": 6,
   "metadata": {},
   "outputs": [],
   "source": [
    "# free memory\n",
    "del features['goal']\n",
    "del features['goal_asl']\n",
    "del features['thms']\n",
    "del features['thms_hard_negatives']"
   ]
  },
  {
   "cell_type": "code",
   "execution_count": 7,
   "metadata": {},
   "outputs": [
    {
     "name": "stdout",
     "output_type": "stream",
     "text": [
      "Number of training examples: 122928\n",
      "Size of training examples: 1000\n",
      "Number of training examples: 122928\n",
      "Number of hypotheses for an example: 2\n"
     ]
    }
   ],
   "source": [
    "# features['goal_ids'] is now an array of size N x 1000\n",
    "features['goal_ids'] = features['goal_ids'].numpy()\n",
    "print('Number of training examples:', len(features['goal_ids']))\n",
    "print('Size of training examples:', len(features['goal_ids'][0]))\n",
    "\n",
    "# features['goal_asl_ids'] is now an array of size  N x ? x 1000\n",
    "length = len(features['goal_asl_ids'])\n",
    "for i in range(length):\n",
    "    features['goal_asl_ids'][i] = [hypothesis.numpy() \n",
    "                                   for hypothesis in features['goal_asl_ids'][i]]\n",
    "print('Number of training examples:', len(features['goal_asl_ids']))\n",
    "print('Number of hypotheses for an example:', len(features['goal_asl_ids'][0]))"
   ]
  },
  {
   "cell_type": "code",
   "execution_count": 8,
   "metadata": {},
   "outputs": [
    {
     "name": "stdout",
     "output_type": "stream",
     "text": [
      "Number of training examples: 122928\n"
     ]
    }
   ],
   "source": [
    "# features['tactic_ids'] is now an array of size N x 1\n",
    "labels['tac_id'] = [i.numpy() for i in labels['tac_id']]\n",
    "print('Number of training examples:', len(labels['tac_id']))"
   ]
  },
  {
   "cell_type": "code",
   "execution_count": 9,
   "metadata": {},
   "outputs": [
    {
     "name": "stdout",
     "output_type": "stream",
     "text": [
      "(122928, 1000)\n"
     ]
    }
   ],
   "source": [
    "\n",
    "# convert goals to numpy arrays\n",
    "goals = np.array(features['goal_ids'])\n",
    "print(np.shape(goals))"
   ]
  },
  {
   "cell_type": "code",
   "execution_count": 10,
   "metadata": {},
   "outputs": [
    {
     "name": "stdout",
     "output_type": "stream",
     "text": [
      "(122928, 3000)\n"
     ]
    }
   ],
   "source": [
    "# convert goal hypotheses to numpy arrays and concatenate\n",
    "hypotheses = features['goal_asl_ids']\n",
    "length_hyp = len(hypotheses)\n",
    "for i in range(length_hyp):\n",
    "    if (len(hypotheses[i]) != 0):\n",
    "        hypotheses[i] = np.concatenate(hypotheses[i])  # concatenate hypotheses in a given hypothesis list\n",
    "        hypotheses[i] = hypotheses[i][hypotheses[i] != 0]  # remove zeroes in between\n",
    "        hypotheses[i] = hypotheses[i][0:3000]  # truncate to max hyp length = 3000 chars (< than 10% of data\n",
    "        len_conc = len(hypotheses[i]) # pad with zeroes to make length 3000 (to save as csv)\n",
    "        hypotheses[i] = np.pad(hypotheses[i], (0, 3000-len_conc), mode='constant')\n",
    "    else:\n",
    "        hypotheses[i] = np.zeros(3000, dtype = 'int32')\n",
    "np.set_printoptions(threshold=np.sys.maxsize)\n",
    "print(np.shape(hypotheses))\n"
   ]
  },
  {
   "cell_type": "code",
   "execution_count": 11,
   "metadata": {},
   "outputs": [
    {
     "name": "stdout",
     "output_type": "stream",
     "text": [
      "(122928, 41)\n",
      "(122928, 1000)\n",
      "(122928, 41)\n",
      "(122928, 3000)\n"
     ]
    }
   ],
   "source": [
    "# convert tactics to numpy arrays and one-hot encode\n",
    "a = np.array(labels['tac_id'])\n",
    "tactics = np.zeros((a.size, 40+1))\n",
    "tactics[np.arange(a.size),a] = 1\n",
    "print(np.shape(tactics))\n",
    "\n",
    "X_train, Y_train = goals, tactics\n",
    "print(np.shape(X_train))\n",
    "print(np.shape(Y_train))\n",
    "print(np.shape(hypotheses))"
   ]
  },
  {
   "cell_type": "code",
   "execution_count": 12,
   "metadata": {},
   "outputs": [
    {
     "name": "stdout",
     "output_type": "stream",
     "text": [
      "(122928, 3000)\n"
     ]
    }
   ],
   "source": [
    "# create feature matrix with goals and hypotheses\n",
    "length = len(X_train)\n",
    "X_train_hyp = []\n",
    "for i in range(length):\n",
    "    train_example = np.concatenate((X_train[i], hypotheses[i]))  # concatenate goal and hypotheses\n",
    "    train_example = train_example[train_example != 0]  # remove zeroes in between\n",
    "    train_example = train_example[0:3000]  # truncate to max hyp length of 3000 chars (less than 10% of data\n",
    "    len_conc = len(train_example)  # pad with zeroes to make length 3000 (to save as csv)\n",
    "    train_example = np.pad(train_example, (0, 3000-len_conc), mode='constant')\n",
    "    X_train_hyp.append(np.asarray(train_example, dtype='float64').tolist())\n",
    "X_train_hyp = np.array(X_train_hyp)\n",
    "print(np.shape(X_train_hyp))    "
   ]
  },
  {
   "cell_type": "code",
   "execution_count": 13,
   "metadata": {},
   "outputs": [],
   "source": [
    "# # save to s3\n",
    "# partition_size = PARTITION_SIZE if len(Y_train) > PARTITION_SIZE else len(Y_train) \n",
    "# n_partitions = len(Y_train) // partition_size\n",
    "# print(len(Y_train), partition_size, n_partitions)\n",
    "\n",
    "# for i, split in enumerate(np.array_split(X_train, n_partitions), 1):\n",
    "#     upload_np_to_s3(split, os.path.join(data_paths[data_split], 'X_train_{}.csv'.format(i)))\n",
    "# print('Uploaded all X_train files')\n",
    "b\n",
    "# for i, split in enumerate(np.array_split(X_train_hyp, n_partitions), 1):\n",
    "#     upload_np_to_s3(split, os.path.join(data_paths[data_split], 'X_train_hyp_{}.csv'.format(i)))\n",
    "# print('Uploaded all X_train_hyp files')\n",
    "\n",
    "# upload_np_to_s3(Y_train, os.path.join(data_paths[data_split], 'Y_train.csv'))\n",
    "# print('Uploaded Y_train file')\n"
   ]
  },
  {
   "cell_type": "code",
   "execution_count": 14,
   "metadata": {},
   "outputs": [
    {
     "name": "stdout",
     "output_type": "stream",
     "text": [
      "[(122928, 1000), (122928, 3000), (122928, 41)]\n"
     ]
    }
   ],
   "source": [
    "# NEED TO SPLIT ARRAYS THE RIGHT WAY\n",
    "print([x.shape for x in [X_train, X_train_hyp, Y_train]])"
   ]
  },
  {
   "cell_type": "code",
   "execution_count": null,
   "metadata": {},
   "outputs": [],
   "source": []
  },
  {
   "cell_type": "code",
   "execution_count": 47,
   "metadata": {},
   "outputs": [
    {
     "name": "stdout",
     "output_type": "stream",
     "text": [
      "skipping 1654 examples to have equal length batches\n",
      "partition size: 4096\n",
      "shape of truncated array:  (102400, 1000)\n"
     ]
    }
   ],
   "source": [
    "splits = split_array_batches(X_train)"
   ]
  },
  {
   "cell_type": "code",
   "execution_count": 49,
   "metadata": {},
   "outputs": [
    {
     "name": "stdout",
     "output_type": "stream",
     "text": [
      "[(4096, 1000), (4096, 1000), (4096, 1000), (4096, 1000), (4096, 1000), (4096, 1000), (4096, 1000), (4096, 1000), (4096, 1000), (4096, 1000), (4096, 1000), (4096, 1000), (4096, 1000), (4096, 1000), (4096, 1000), (4096, 1000), (4096, 1000), (4096, 1000), (4096, 1000), (4096, 1000), (4096, 1000), (4096, 1000), (4096, 1000), (4096, 1000), (4096, 1000)]\n"
     ]
    }
   ],
   "source": [
    "print([x.shape for x in splits])"
   ]
  },
  {
   "cell_type": "code",
   "execution_count": null,
   "metadata": {},
   "outputs": [],
   "source": []
  },
  {
   "cell_type": "code",
   "execution_count": null,
   "metadata": {},
   "outputs": [],
   "source": []
  },
  {
   "cell_type": "markdown",
   "metadata": {},
   "source": [
    "## Split arrays"
   ]
  },
  {
   "cell_type": "code",
   "execution_count": 16,
   "metadata": {},
   "outputs": [],
   "source": [
    "def split_array_batches(array):\n",
    "    \"\"\" split in equal length array \"\"\"\n",
    "    n_examples = len(array)\n",
    "    partition_size = 4096\n",
    "    end_to_skip = n_examples % partition_size  # arbitrary\n",
    "    print('skipping {} examples to have equal length batches'.format(end_to_skip))\n",
    "    n_partitions = (n_examples - end_to_skip) / partition_size \n",
    "\n",
    "    print('partition size: {}'.format(partition_size))\n",
    "    print('shape of truncated array: ', array[:-end_to_skip].shape)\n",
    "\n",
    "    splits = np.split(array[:-end_to_skip], n_partitions)\n",
    "    \n",
    "    return splits"
   ]
  },
  {
   "cell_type": "markdown",
   "metadata": {},
   "source": [
    "# Read and re split"
   ]
  },
  {
   "cell_type": "code",
   "execution_count": 16,
   "metadata": {},
   "outputs": [
    {
     "data": {
      "text/plain": [
       "<module 'generator' from '/home/ec2-user/SageMaker/deepmath/deepmath/deephol/train/generator.py'>"
      ]
     },
     "execution_count": 16,
     "metadata": {},
     "output_type": "execute_result"
    }
   ],
   "source": [
    "# import pandas as pd\n",
    "# import generator\n",
    "# import importlib\n",
    "\n",
    "# importlib.reload(generator)"
   ]
  },
  {
   "cell_type": "code",
   "execution_count": 17,
   "metadata": {},
   "outputs": [],
   "source": [
    "data_paths = {'train':'deephol-data-processed/proofs/human/train',\n",
    "            'valid':'deephol-data-processed/proofs/human/valid',\n",
    "            'test':'deephol-data-processed/proofs/human/test'}"
   ]
  },
  {
   "cell_type": "code",
   "execution_count": 55,
   "metadata": {},
   "outputs": [
    {
     "name": "stdout",
     "output_type": "stream",
     "text": [
      "THIS IS data_dir \n",
      "Retrieving data from deephol-data-processed/proofs/human/train/\n",
      "Generating examples from a set of 376968 examples\n"
     ]
    }
   ],
   "source": [
    "# generators\n",
    "W_HYP = True\n",
    "BATCH_SIZE = 64\n",
    "shuffle = False\n",
    "\n",
    "training_generator = generator.Keras_DataGenerator(data_dir='', dataset='train', \n",
    "                                                  w_hyp=W_HYP, batch_size=BATCH_SIZE,\n",
    "                                                  shuffle=shuffle)\n",
    "# validation_generator = generator.Keras_DataGenerator(data_dir='', dataset='valid', \n",
    "#                                                     w_hyp=W_HYP, batch_size=BATCH_SIZE,\n",
    "#                                                     shuffle=shuffle)"
   ]
  },
  {
   "cell_type": "code",
   "execution_count": 56,
   "metadata": {},
   "outputs": [
    {
     "data": {
      "text/plain": [
       "'deephol-data-processed/proofs/human/train/X_train_hyp_2.csv'"
      ]
     },
     "execution_count": 56,
     "metadata": {},
     "output_type": "execute_result"
    }
   ],
   "source": [
    "training_generator.features_keys_lst[1]"
   ]
  },
  {
   "cell_type": "code",
   "execution_count": null,
   "metadata": {},
   "outputs": [],
   "source": []
  },
  {
   "cell_type": "markdown",
   "metadata": {},
   "source": [
    "## For features\n",
    "make sure to do both with and without `hypotheses`"
   ]
  },
  {
   "cell_type": "code",
   "execution_count": 60,
   "metadata": {
    "collapsed": true,
    "jupyter": {
     "outputs_hidden": true
    }
   },
   "outputs": [
    {
     "name": "stdout",
     "output_type": "stream",
     "text": [
      "s3://sagemaker-cs281/deephol-data-processed/proofs/human/train/X_train_hyp_1.csv\n",
      "s3://sagemaker-cs281/deephol-data-processed/proofs/human/train/X_train_hyp_2.csv\n",
      "s3://sagemaker-cs281/deephol-data-processed/proofs/human/train/X_train_hyp_3.csv\n",
      "s3://sagemaker-cs281/deephol-data-processed/proofs/human/train/X_train_hyp_4.csv\n",
      "s3://sagemaker-cs281/deephol-data-processed/proofs/human/train/X_train_hyp_5.csv\n",
      "s3://sagemaker-cs281/deephol-data-processed/proofs/human/train/X_train_hyp_6.csv\n",
      "s3://sagemaker-cs281/deephol-data-processed/proofs/human/train/X_train_hyp_7.csv\n",
      "s3://sagemaker-cs281/deephol-data-processed/proofs/human/train/X_train_hyp_8.csv\n",
      "s3://sagemaker-cs281/deephol-data-processed/proofs/human/train/X_train_hyp_9.csv\n",
      "s3://sagemaker-cs281/deephol-data-processed/proofs/human/train/X_train_hyp_10.csv\n",
      "s3://sagemaker-cs281/deephol-data-processed/proofs/human/train/X_train_hyp_11.csv\n",
      "s3://sagemaker-cs281/deephol-data-processed/proofs/human/train/X_train_hyp_12.csv\n",
      "s3://sagemaker-cs281/deephol-data-processed/proofs/human/train/X_train_hyp_13.csv\n",
      "s3://sagemaker-cs281/deephol-data-processed/proofs/human/train/X_train_hyp_14.csv\n",
      "s3://sagemaker-cs281/deephol-data-processed/proofs/human/train/X_train_hyp_15.csv\n",
      "s3://sagemaker-cs281/deephol-data-processed/proofs/human/train/X_train_hyp_16.csv\n",
      "s3://sagemaker-cs281/deephol-data-processed/proofs/human/train/X_train_hyp_17.csv\n",
      "s3://sagemaker-cs281/deephol-data-processed/proofs/human/train/X_train_hyp_18.csv\n",
      "s3://sagemaker-cs281/deephol-data-processed/proofs/human/train/X_train_hyp_19.csv\n",
      "s3://sagemaker-cs281/deephol-data-processed/proofs/human/train/X_train_hyp_20.csv\n",
      "s3://sagemaker-cs281/deephol-data-processed/proofs/human/train/X_train_hyp_21.csv\n",
      "s3://sagemaker-cs281/deephol-data-processed/proofs/human/train/X_train_hyp_22.csv\n",
      "s3://sagemaker-cs281/deephol-data-processed/proofs/human/train/X_train_hyp_23.csv\n",
      "s3://sagemaker-cs281/deephol-data-processed/proofs/human/train/X_train_hyp_24.csv\n",
      "s3://sagemaker-cs281/deephol-data-processed/proofs/human/train/X_train_hyp_25.csv\n",
      "s3://sagemaker-cs281/deephol-data-processed/proofs/human/train/X_train_hyp_26.csv\n",
      "s3://sagemaker-cs281/deephol-data-processed/proofs/human/train/X_train_hyp_27.csv\n",
      "s3://sagemaker-cs281/deephol-data-processed/proofs/human/train/X_train_hyp_28.csv\n",
      "s3://sagemaker-cs281/deephol-data-processed/proofs/human/train/X_train_hyp_29.csv\n",
      "s3://sagemaker-cs281/deephol-data-processed/proofs/human/train/X_train_hyp_30.csv\n",
      "s3://sagemaker-cs281/deephol-data-processed/proofs/human/train/X_train_hyp_31.csv\n",
      "s3://sagemaker-cs281/deephol-data-processed/proofs/human/train/X_train_hyp_32.csv\n",
      "s3://sagemaker-cs281/deephol-data-processed/proofs/human/train/X_train_hyp_33.csv\n",
      "s3://sagemaker-cs281/deephol-data-processed/proofs/human/train/X_train_hyp_34.csv\n",
      "s3://sagemaker-cs281/deephol-data-processed/proofs/human/train/X_train_hyp_35.csv\n",
      "s3://sagemaker-cs281/deephol-data-processed/proofs/human/train/X_train_hyp_36.csv\n",
      "s3://sagemaker-cs281/deephol-data-processed/proofs/human/train/X_train_hyp_37.csv\n",
      "s3://sagemaker-cs281/deephol-data-processed/proofs/human/train/X_train_hyp_38.csv\n",
      "s3://sagemaker-cs281/deephol-data-processed/proofs/human/train/X_train_hyp_39.csv\n",
      "s3://sagemaker-cs281/deephol-data-processed/proofs/human/train/X_train_hyp_40.csv\n",
      "s3://sagemaker-cs281/deephol-data-processed/proofs/human/train/X_train_hyp_41.csv\n",
      "s3://sagemaker-cs281/deephol-data-processed/proofs/human/train/X_train_hyp_42.csv\n",
      "s3://sagemaker-cs281/deephol-data-processed/proofs/human/train/X_train_hyp_43.csv\n",
      "s3://sagemaker-cs281/deephol-data-processed/proofs/human/train/X_train_hyp_44.csv\n",
      "s3://sagemaker-cs281/deephol-data-processed/proofs/human/train/X_train_hyp_45.csv\n",
      "s3://sagemaker-cs281/deephol-data-processed/proofs/human/train/X_train_hyp_46.csv\n",
      "s3://sagemaker-cs281/deephol-data-processed/proofs/human/train/X_train_hyp_47.csv\n",
      "s3://sagemaker-cs281/deephol-data-processed/proofs/human/train/X_train_hyp_48.csv\n",
      "s3://sagemaker-cs281/deephol-data-processed/proofs/human/train/X_train_hyp_49.csv\n",
      "s3://sagemaker-cs281/deephol-data-processed/proofs/human/train/X_train_hyp_50.csv\n",
      "s3://sagemaker-cs281/deephol-data-processed/proofs/human/train/X_train_hyp_51.csv\n",
      "s3://sagemaker-cs281/deephol-data-processed/proofs/human/train/X_train_hyp_52.csv\n",
      "s3://sagemaker-cs281/deephol-data-processed/proofs/human/train/X_train_hyp_53.csv\n",
      "s3://sagemaker-cs281/deephol-data-processed/proofs/human/train/X_train_hyp_54.csv\n",
      "s3://sagemaker-cs281/deephol-data-processed/proofs/human/train/X_train_hyp_55.csv\n",
      "s3://sagemaker-cs281/deephol-data-processed/proofs/human/train/X_train_hyp_56.csv\n",
      "s3://sagemaker-cs281/deephol-data-processed/proofs/human/train/X_train_hyp_57.csv\n",
      "s3://sagemaker-cs281/deephol-data-processed/proofs/human/train/X_train_hyp_58.csv\n",
      "s3://sagemaker-cs281/deephol-data-processed/proofs/human/train/X_train_hyp_59.csv\n",
      "s3://sagemaker-cs281/deephol-data-processed/proofs/human/train/X_train_hyp_60.csv\n",
      "s3://sagemaker-cs281/deephol-data-processed/proofs/human/train/X_train_hyp_61.csv\n",
      "s3://sagemaker-cs281/deephol-data-processed/proofs/human/train/X_train_hyp_62.csv\n",
      "s3://sagemaker-cs281/deephol-data-processed/proofs/human/train/X_train_hyp_63.csv\n",
      "s3://sagemaker-cs281/deephol-data-processed/proofs/human/train/X_train_hyp_64.csv\n",
      "s3://sagemaker-cs281/deephol-data-processed/proofs/human/train/X_train_hyp_65.csv\n",
      "s3://sagemaker-cs281/deephol-data-processed/proofs/human/train/X_train_hyp_66.csv\n",
      "s3://sagemaker-cs281/deephol-data-processed/proofs/human/train/X_train_hyp_67.csv\n",
      "s3://sagemaker-cs281/deephol-data-processed/proofs/human/train/X_train_hyp_68.csv\n",
      "s3://sagemaker-cs281/deephol-data-processed/proofs/human/train/X_train_hyp_69.csv\n",
      "s3://sagemaker-cs281/deephol-data-processed/proofs/human/train/X_train_hyp_70.csv\n",
      "s3://sagemaker-cs281/deephol-data-processed/proofs/human/train/X_train_hyp_71.csv\n",
      "s3://sagemaker-cs281/deephol-data-processed/proofs/human/train/X_train_hyp_72.csv\n",
      "s3://sagemaker-cs281/deephol-data-processed/proofs/human/train/X_train_hyp_73.csv\n",
      "s3://sagemaker-cs281/deephol-data-processed/proofs/human/train/X_train_hyp_74.csv\n",
      "s3://sagemaker-cs281/deephol-data-processed/proofs/human/train/X_train_hyp_75.csv\n"
     ]
    }
   ],
   "source": [
    "# read all\n",
    "dfs = []\n",
    "for x in training_generator.features_keys_lst:\n",
    "    path_x = os.path.join('s3://', BUCKET_NAME, x)\n",
    "    print(path_x)\n",
    "    df = pd.read_csv(path_x, header=None)\n",
    "    dfs.append(df)"
   ]
  },
  {
   "cell_type": "code",
   "execution_count": 61,
   "metadata": {},
   "outputs": [
    {
     "name": "stdout",
     "output_type": "stream",
     "text": [
      "[(5027, 3000), (5027, 3000), (5027, 3000), (5027, 3000), (5027, 3000), (5027, 3000), (5027, 3000), (5027, 3000), (5027, 3000), (5027, 3000), (5027, 3000), (5027, 3000), (5027, 3000), (5027, 3000), (5027, 3000), (5027, 3000), (5027, 3000), (5027, 3000), (5026, 3000), (5026, 3000), (5026, 3000), (5026, 3000), (5026, 3000), (5026, 3000), (5026, 3000), (5026, 3000), (5026, 3000), (5026, 3000), (5026, 3000), (5026, 3000), (5026, 3000), (5026, 3000), (5026, 3000), (5026, 3000), (5026, 3000), (5026, 3000), (5026, 3000), (5026, 3000), (5026, 3000), (5026, 3000), (5026, 3000), (5026, 3000), (5026, 3000), (5026, 3000), (5026, 3000), (5026, 3000), (5026, 3000), (5026, 3000), (5026, 3000), (5026, 3000), (5026, 3000), (5026, 3000), (5026, 3000), (5026, 3000), (5026, 3000), (5026, 3000), (5026, 3000), (5026, 3000), (5026, 3000), (5026, 3000), (5026, 3000), (5026, 3000), (5026, 3000), (5026, 3000), (5026, 3000), (5026, 3000), (5026, 3000), (5026, 3000), (5026, 3000), (5026, 3000), (5026, 3000), (5026, 3000), (5026, 3000), (5026, 3000), (5026, 3000)]\n",
      "\n",
      " 75\n"
     ]
    }
   ],
   "source": [
    "print([x.shape for x in dfs])\n",
    "print('\\n', len(dfs))"
   ]
  },
  {
   "cell_type": "code",
   "execution_count": 62,
   "metadata": {},
   "outputs": [
    {
     "name": "stdout",
     "output_type": "stream",
     "text": [
      "(376968, 3000)\n"
     ]
    }
   ],
   "source": [
    "X_train_concat = pd.concat(dfs)\n",
    "print(X_train_concat.shape)"
   ]
  },
  {
   "cell_type": "code",
   "execution_count": 20,
   "metadata": {},
   "outputs": [
    {
     "name": "stdout",
     "output_type": "stream",
     "text": [
      "skipping 48 examples to have equal length batches\n",
      "partition size: 4096\n",
      "shape of truncated array:  (122880, 1000)\n"
     ]
    }
   ],
   "source": [
    "splits = split_array_batches(X_train)"
   ]
  },
  {
   "cell_type": "code",
   "execution_count": 21,
   "metadata": {},
   "outputs": [
    {
     "name": "stdout",
     "output_type": "stream",
     "text": [
      "[(4096, 1000), (4096, 1000), (4096, 1000), (4096, 1000), (4096, 1000), (4096, 1000), (4096, 1000), (4096, 1000), (4096, 1000), (4096, 1000), (4096, 1000), (4096, 1000), (4096, 1000), (4096, 1000), (4096, 1000), (4096, 1000), (4096, 1000), (4096, 1000), (4096, 1000), (4096, 1000), (4096, 1000), (4096, 1000), (4096, 1000), (4096, 1000), (4096, 1000), (4096, 1000), (4096, 1000), (4096, 1000), (4096, 1000), (4096, 1000)]\n"
     ]
    }
   ],
   "source": [
    "print([x.shape for x in splits])"
   ]
  },
  {
   "cell_type": "code",
   "execution_count": null,
   "metadata": {},
   "outputs": [],
   "source": []
  },
  {
   "cell_type": "code",
   "execution_count": 22,
   "metadata": {},
   "outputs": [
    {
     "name": "stdout",
     "output_type": "stream",
     "text": [
      "skipping 48 examples to have equal length batches\n",
      "partition size: 4096\n",
      "shape of truncated array:  (122880, 1000)\n",
      "deephol-data-processed/proofs/human/test_new/X_train_0.csv\n",
      "deephol-data-processed/proofs/human/test_new/X_train_1.csv\n",
      "deephol-data-processed/proofs/human/test_new/X_train_2.csv\n",
      "deephol-data-processed/proofs/human/test_new/X_train_3.csv\n",
      "deephol-data-processed/proofs/human/test_new/X_train_4.csv\n",
      "deephol-data-processed/proofs/human/test_new/X_train_5.csv\n",
      "deephol-data-processed/proofs/human/test_new/X_train_6.csv\n",
      "deephol-data-processed/proofs/human/test_new/X_train_7.csv\n",
      "deephol-data-processed/proofs/human/test_new/X_train_8.csv\n",
      "deephol-data-processed/proofs/human/test_new/X_train_9.csv\n",
      "deephol-data-processed/proofs/human/test_new/X_train_10.csv\n",
      "deephol-data-processed/proofs/human/test_new/X_train_11.csv\n",
      "deephol-data-processed/proofs/human/test_new/X_train_12.csv\n",
      "deephol-data-processed/proofs/human/test_new/X_train_13.csv\n",
      "deephol-data-processed/proofs/human/test_new/X_train_14.csv\n",
      "deephol-data-processed/proofs/human/test_new/X_train_15.csv\n",
      "deephol-data-processed/proofs/human/test_new/X_train_16.csv\n",
      "deephol-data-processed/proofs/human/test_new/X_train_17.csv\n",
      "deephol-data-processed/proofs/human/test_new/X_train_18.csv\n",
      "deephol-data-processed/proofs/human/test_new/X_train_19.csv\n",
      "deephol-data-processed/proofs/human/test_new/X_train_20.csv\n",
      "deephol-data-processed/proofs/human/test_new/X_train_21.csv\n",
      "deephol-data-processed/proofs/human/test_new/X_train_22.csv\n",
      "deephol-data-processed/proofs/human/test_new/X_train_23.csv\n",
      "deephol-data-processed/proofs/human/test_new/X_train_24.csv\n",
      "deephol-data-processed/proofs/human/test_new/X_train_25.csv\n",
      "deephol-data-processed/proofs/human/test_new/X_train_26.csv\n",
      "deephol-data-processed/proofs/human/test_new/X_train_27.csv\n",
      "deephol-data-processed/proofs/human/test_new/X_train_28.csv\n",
      "deephol-data-processed/proofs/human/test_new/X_train_29.csv\n"
     ]
    }
   ],
   "source": [
    "# upload all\n",
    "for i, x in enumerate(split_array_batches(X_train)):\n",
    "    key = 'deephol-data-processed/proofs/human/test_new/X_train_{}.csv'.format(i)\n",
    "    upload_np_to_s3(x, key)\n",
    "    print(key)"
   ]
  },
  {
   "cell_type": "code",
   "execution_count": null,
   "metadata": {},
   "outputs": [],
   "source": [
    "! NOW DO X_train_hyp"
   ]
  },
  {
   "cell_type": "code",
   "execution_count": null,
   "metadata": {},
   "outputs": [],
   "source": []
  },
  {
   "cell_type": "markdown",
   "metadata": {},
   "source": [
    "## For labels"
   ]
  },
  {
   "cell_type": "code",
   "execution_count": 125,
   "metadata": {},
   "outputs": [],
   "source": [
    "# read\n",
    "path_y = os.path.join('s3://', BUCKET_NAME, \n",
    "                              os.path.join(data_paths[data_split], 'Y_train.csv'))\n",
    "print(path_y)\n",
    "df = pd.read_csv(path_y, header=None)"
   ]
  },
  {
   "cell_type": "code",
   "execution_count": null,
   "metadata": {},
   "outputs": [],
   "source": []
  },
  {
   "cell_type": "code",
   "execution_count": 24,
   "metadata": {},
   "outputs": [
    {
     "name": "stdout",
     "output_type": "stream",
     "text": [
      "skipping 48 examples to have equal length batches\n",
      "partition size: 4096\n",
      "shape of truncated array:  (122880, 41)\n"
     ]
    }
   ],
   "source": [
    "for i, x in enumerate(split_array_batches(Y_train)):\n",
    "    key = 'deephol-data-processed/proofs/human/test_new/Y_train_{}.csv'.format(i)\n",
    "    upload_np_to_s3(x, key)"
   ]
  },
  {
   "cell_type": "code",
   "execution_count": 139,
   "metadata": {},
   "outputs": [
    {
     "data": {
      "text/plain": [
       "array([34, 37,  5,  3, 26])"
      ]
     },
     "execution_count": 139,
     "metadata": {},
     "output_type": "execute_result"
    }
   ],
   "source": [
    "# REVERSE ONE HOT\n",
    "np.argmax(df.head().values, axis=1)"
   ]
  },
  {
   "cell_type": "code",
   "execution_count": 23,
   "metadata": {},
   "outputs": [
    {
     "name": "stdout",
     "output_type": "stream",
     "text": [
      "skipping 48 examples to have equal length batches\n",
      "partition size: 4096\n",
      "shape of truncated array:  (122880, 41)\n"
     ]
    },
    {
     "data": {
      "text/plain": [
       "[(4096, 41),\n",
       " (4096, 41),\n",
       " (4096, 41),\n",
       " (4096, 41),\n",
       " (4096, 41),\n",
       " (4096, 41),\n",
       " (4096, 41),\n",
       " (4096, 41),\n",
       " (4096, 41),\n",
       " (4096, 41),\n",
       " (4096, 41),\n",
       " (4096, 41),\n",
       " (4096, 41),\n",
       " (4096, 41),\n",
       " (4096, 41),\n",
       " (4096, 41),\n",
       " (4096, 41),\n",
       " (4096, 41),\n",
       " (4096, 41),\n",
       " (4096, 41),\n",
       " (4096, 41),\n",
       " (4096, 41),\n",
       " (4096, 41),\n",
       " (4096, 41),\n",
       " (4096, 41),\n",
       " (4096, 41),\n",
       " (4096, 41),\n",
       " (4096, 41),\n",
       " (4096, 41),\n",
       " (4096, 41)]"
      ]
     },
     "execution_count": 23,
     "metadata": {},
     "output_type": "execute_result"
    }
   ],
   "source": [
    "splits = split_array_batches(Y_train)\n",
    "[x.shape for x in splits]"
   ]
  },
  {
   "cell_type": "code",
   "execution_count": 58,
   "metadata": {},
   "outputs": [
    {
     "data": {
      "text/plain": [
       "[(4096, 41),\n",
       " (4096, 41),\n",
       " (4096, 41),\n",
       " (4096, 41),\n",
       " (4096, 41),\n",
       " (4096, 41),\n",
       " (4096, 41),\n",
       " (4096, 41),\n",
       " (4096, 41),\n",
       " (4096, 41),\n",
       " (4096, 41),\n",
       " (4096, 41),\n",
       " (4096, 41),\n",
       " (4096, 41),\n",
       " (4096, 41),\n",
       " (4096, 41),\n",
       " (4096, 41),\n",
       " (4096, 41),\n",
       " (4096, 41),\n",
       " (4096, 41),\n",
       " (4096, 41),\n",
       " (4096, 41),\n",
       " (4096, 41),\n",
       " (4096, 41),\n",
       " (4096, 41)]"
      ]
     },
     "execution_count": 58,
     "metadata": {},
     "output_type": "execute_result"
    }
   ],
   "source": []
  },
  {
   "cell_type": "code",
   "execution_count": null,
   "metadata": {},
   "outputs": [],
   "source": []
  }
 ],
 "metadata": {
  "kernelspec": {
   "display_name": "conda_tensorflow_p36",
   "language": "python",
   "name": "conda_tensorflow_p36"
  },
  "language_info": {
   "codemirror_mode": {
    "name": "ipython",
    "version": 3
   },
   "file_extension": ".py",
   "mimetype": "text/x-python",
   "name": "python",
   "nbconvert_exporter": "python",
   "pygments_lexer": "ipython3",
   "version": "3.6.5"
  }
 },
 "nbformat": 4,
 "nbformat_minor": 4
}

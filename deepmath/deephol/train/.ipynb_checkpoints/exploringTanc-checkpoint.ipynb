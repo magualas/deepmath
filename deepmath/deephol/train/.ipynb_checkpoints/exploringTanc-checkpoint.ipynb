{
 "cells": [
  {
   "cell_type": "code",
   "execution_count": 8,
   "metadata": {},
   "outputs": [
    {
     "data": {
      "text/plain": [
       "'1.14.0'"
      ]
     },
     "execution_count": 8,
     "metadata": {},
     "output_type": "execute_result"
    }
   ],
   "source": [
    "import tensorflow as tf\n",
    "import tensorflow.contrib.eager as tfe\n",
    "import time\n",
    "tf.__version__"
   ]
  },
  {
   "cell_type": "code",
   "execution_count": 9,
   "metadata": {},
   "outputs": [],
   "source": [
    "# list of things to do:\n",
    "import ingestor\n",
    "import extractor2\n",
    "import numpy as np"
   ]
  },
  {
   "cell_type": "code",
   "execution_count": 10,
   "metadata": {},
   "outputs": [],
   "source": [
    "def manual_iterator(is_train):\n",
    "    '''\n",
    "    returns a batch\n",
    "    '''\n",
    "    input_fn, params = ingestor.get_input_fn(is_train)\n",
    "    features, labels = input_fn()[0], input_fn()[1]\n",
    "    features, labels = extractor2.Extractor(params).extractor(features, labels)\n",
    "    \n",
    "    goals_X = features['goal_ids']\n",
    "    tacid_y = labels['tac_id']\n",
    "    return goals_X, tacid_y\n",
    "    "
   ]
  },
  {
   "cell_type": "code",
   "execution_count": null,
   "metadata": {},
   "outputs": [],
   "source": []
  },
  {
   "cell_type": "code",
   "execution_count": null,
   "metadata": {},
   "outputs": [],
   "source": []
  },
  {
   "cell_type": "code",
   "execution_count": 19,
   "metadata": {},
   "outputs": [
    {
     "name": "stdout",
     "output_type": "stream",
     "text": [
      "INFO:tensorflow:PASSED IN parser is None\n"
     ]
    },
    {
     "data": {
      "text/plain": [
       "(TensorShape([Dimension(10000), Dimension(1000)]),\n",
       " TensorShape([Dimension(10000)]))"
      ]
     },
     "execution_count": 19,
     "metadata": {},
     "output_type": "execute_result"
    }
   ],
   "source": [
    "train_x, train_y = manual_iterator(True)\n",
    "train_x.shape, train_y.shape"
   ]
  },
  {
   "cell_type": "code",
   "execution_count": 20,
   "metadata": {},
   "outputs": [
    {
     "name": "stdout",
     "output_type": "stream",
     "text": [
      "INFO:tensorflow:PASSED IN parser is None\n"
     ]
    },
    {
     "data": {
      "text/plain": [
       "(TensorShape([Dimension(10000), Dimension(1000)]),\n",
       " TensorShape([Dimension(10000)]))"
      ]
     },
     "execution_count": 20,
     "metadata": {},
     "output_type": "execute_result"
    }
   ],
   "source": [
    "test_x, test_y = manual_iterator(False)\n",
    "test_x.shape, test_y.shape"
   ]
  },
  {
   "cell_type": "code",
   "execution_count": 21,
   "metadata": {},
   "outputs": [],
   "source": [
    "x_train = tf.cast(train_x, tf.float32)\n",
    "y_train = tf.cast(train_y, tf.float32) "
   ]
  },
  {
   "cell_type": "code",
   "execution_count": 22,
   "metadata": {},
   "outputs": [],
   "source": [
    "x_test = tf.cast(test_x, tf.float32)\n",
    "y_test = tf.cast(test_y, tf.float32) "
   ]
  },
  {
   "cell_type": "code",
   "execution_count": 23,
   "metadata": {},
   "outputs": [],
   "source": [
    "model = tf.keras.models.Sequential([\n",
    "  tf.keras.layers.Dense(500, activation='relu'),\n",
    "  tf.keras.layers.Dropout(0.2),\n",
    "  tf.keras.layers.Dense(41, activation='softmax')\n",
    "])\n",
    "\n",
    "model.compile(optimizer='adam',\n",
    "              loss='sparse_categorical_crossentropy',\n",
    "              metrics=['accuracy'])"
   ]
  },
  {
   "cell_type": "code",
   "execution_count": 24,
   "metadata": {},
   "outputs": [
    {
     "name": "stdout",
     "output_type": "stream",
     "text": [
      "Epoch 1/20\n",
      "10000/10000 [==============================] - 2s 157us/sample - loss: 11.6501 - acc: 0.1294\n",
      "Epoch 2/20\n",
      "10000/10000 [==============================] - 1s 97us/sample - loss: 6.5925 - acc: 0.1441\n",
      "Epoch 3/20\n",
      "10000/10000 [==============================] - 1s 94us/sample - loss: 3.4042 - acc: 0.1737\n",
      "Epoch 4/20\n",
      "10000/10000 [==============================] - 1s 94us/sample - loss: 2.8820 - acc: 0.1894\n",
      "Epoch 5/20\n",
      "10000/10000 [==============================] - 1s 97us/sample - loss: 2.7588 - acc: 0.1939\n",
      "Epoch 6/20\n",
      "10000/10000 [==============================] - 1s 98us/sample - loss: 2.6965 - acc: 0.2011\n",
      "Epoch 7/20\n",
      "10000/10000 [==============================] - 1s 96us/sample - loss: 2.6578 - acc: 0.2024\n",
      "Epoch 8/20\n",
      "10000/10000 [==============================] - 1s 99us/sample - loss: 2.6382 - acc: 0.2083\n",
      "Epoch 9/20\n",
      "10000/10000 [==============================] - 1s 95us/sample - loss: 2.5940 - acc: 0.2109\n",
      "Epoch 10/20\n",
      "10000/10000 [==============================] - 1s 93us/sample - loss: 2.5835 - acc: 0.2144\n",
      "Epoch 11/20\n",
      "10000/10000 [==============================] - 1s 94us/sample - loss: 2.5614 - acc: 0.2214\n",
      "Epoch 12/20\n",
      "10000/10000 [==============================] - 1s 95us/sample - loss: 2.5381 - acc: 0.2239\n",
      "Epoch 13/20\n",
      "10000/10000 [==============================] - 1s 97us/sample - loss: 2.5308 - acc: 0.2275\n",
      "Epoch 14/20\n",
      "10000/10000 [==============================] - 1s 98us/sample - loss: 2.5211 - acc: 0.2306\n",
      "Epoch 15/20\n",
      "10000/10000 [==============================] - 1s 82us/sample - loss: 2.4974 - acc: 0.2330\n",
      "Epoch 16/20\n",
      "10000/10000 [==============================] - 1s 79us/sample - loss: 2.4787 - acc: 0.2411\n",
      "Epoch 17/20\n",
      "10000/10000 [==============================] - 1s 80us/sample - loss: 2.4779 - acc: 0.2384\n",
      "Epoch 18/20\n",
      "10000/10000 [==============================] - 1s 79us/sample - loss: 2.4637 - acc: 0.2424\n",
      "Epoch 19/20\n",
      "10000/10000 [==============================] - 1s 87us/sample - loss: 2.4509 - acc: 0.2439\n",
      "Epoch 20/20\n",
      "10000/10000 [==============================] - 1s 94us/sample - loss: 2.4363 - acc: 0.2527\n"
     ]
    },
    {
     "data": {
      "text/plain": [
       "<tensorflow.python.keras.callbacks.History at 0x7fd324c40710>"
      ]
     },
     "execution_count": 24,
     "metadata": {},
     "output_type": "execute_result"
    }
   ],
   "source": [
    "for i in range(10):\n",
    "    print(i, \": ------------------------------------------------------------------------\")\n",
    "    model.fit(x_train, y_train, epochs=10)\n",
    "    test_loss, test_acc = model.evaluate(test_x,  test_y, verbose=2)"
   ]
  },
  {
   "cell_type": "code",
   "execution_count": 26,
   "metadata": {},
   "outputs": [
    {
     "name": "stdout",
     "output_type": "stream",
     "text": [
      "10000/10000 - 0s - loss: 3.5776 - acc: 0.1484\n"
     ]
    }
   ],
   "source": []
  },
  {
   "cell_type": "code",
   "execution_count": null,
   "metadata": {},
   "outputs": [],
   "source": []
  },
  {
   "cell_type": "code",
   "execution_count": null,
   "metadata": {},
   "outputs": [],
   "source": [
    "\n"
   ]
  },
  {
   "cell_type": "code",
   "execution_count": null,
   "metadata": {},
   "outputs": [],
   "source": []
  }
 ],
 "metadata": {
  "kernelspec": {
   "display_name": "conda_tensorflow_p36",
   "language": "python",
   "name": "conda_tensorflow_p36"
  },
  "language_info": {
   "codemirror_mode": {
    "name": "ipython",
    "version": 3
   },
   "file_extension": ".py",
   "mimetype": "text/x-python",
   "name": "python",
   "nbconvert_exporter": "python",
   "pygments_lexer": "ipython3",
   "version": "3.6.5"
  }
 },
 "nbformat": 4,
 "nbformat_minor": 4
}

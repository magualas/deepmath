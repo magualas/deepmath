{
 "cells": [
  {
   "cell_type": "code",
   "execution_count": 39,
   "metadata": {},
   "outputs": [],
   "source": [
    "import os\n",
    "import boto3\n",
    "\n",
    "\n",
    "\n",
    "import pandas as pd\n",
    "import numpy as np\n",
    "import matplotlib.pyplot as plt"
   ]
  },
  {
   "cell_type": "code",
   "execution_count": 7,
   "metadata": {},
   "outputs": [],
   "source": [
    "BUCKET_NAME = 'sagemaker-cs281'\n",
    "\n",
    "config = {\n",
    "    'AWS_REGION':'us-east-2',                    # Region for the S3 bucket, this is not always needed. Default is us-east-1.\n",
    "    'S3_ENDPOINT':'s3.us-east-2.amazonaws.com',  # The S3 API Endpoint to connect to. This is specified in a HOST:PORT format.\n",
    "    'S3_USE_HTTPS':'1',                        # Whether or not to use HTTPS. Disable with 0.\n",
    "    'S3_VERIFY_SSL':'1',  \n",
    "}\n",
    "os.environ.update(config)"
   ]
  },
  {
   "cell_type": "code",
   "execution_count": 8,
   "metadata": {},
   "outputs": [
    {
     "name": "stdout",
     "output_type": "stream",
     "text": [
      "[s3.Bucket(name='sagemaker-cs281')]\n"
     ]
    }
   ],
   "source": [
    "# test s3\n",
    "s3_r = boto3.resource('s3')\n",
    "\n",
    "try:\n",
    "    s3_r.meta.client.head_bucket(Bucket=BUCKET_NAME)\n",
    "except ClientError as e:\n",
    "    print(e)\n",
    "    \n",
    "print([x for x in s3_r.buckets.all()])"
   ]
  },
  {
   "cell_type": "code",
   "execution_count": 9,
   "metadata": {},
   "outputs": [
    {
     "name": "stdout",
     "output_type": "stream",
     "text": [
      "CPU times: user 8.92 ms, sys: 51 µs, total: 8.97 ms\n",
      "Wall time: 8.08 ms\n"
     ]
    }
   ],
   "source": [
    "%%time\n",
    "s3_client = boto3.client('s3') "
   ]
  },
  {
   "cell_type": "code",
   "execution_count": 10,
   "metadata": {},
   "outputs": [
    {
     "name": "stderr",
     "output_type": "stream",
     "text": [
      "Using TensorFlow backend.\n"
     ]
    },
    {
     "data": {
      "text/plain": [
       "<module 'generator' from '/home/ec2-user/SageMaker/deepmath/deepmath/deephol/train/generator.py'>"
      ]
     },
     "execution_count": 10,
     "metadata": {},
     "output_type": "execute_result"
    }
   ],
   "source": [
    "import importlib\n",
    "import generator\n",
    "\n",
    "importlib.reload(generator)"
   ]
  },
  {
   "cell_type": "code",
   "execution_count": 11,
   "metadata": {},
   "outputs": [
    {
     "name": "stdout",
     "output_type": "stream",
     "text": [
      "Retrieving data from deephol-data-processed/proofs/human/train/\n",
      "Generating examples from a set of 376968 examples\n"
     ]
    }
   ],
   "source": [
    "training_generator = generator.Keras_DataGenerator( dataset='train', w_hyp=False)"
   ]
  },
  {
   "cell_type": "code",
   "execution_count": 19,
   "metadata": {},
   "outputs": [],
   "source": [
    "label_file = training_generator.label_key\n",
    "label_file = 's3://deephol-data-processed/proofs/human/train/Y_train.csv'"
   ]
  },
  {
   "cell_type": "code",
   "execution_count": 23,
   "metadata": {},
   "outputs": [],
   "source": [
    "label_file = \"s3://sagemaker-cs281/deephol-data-processed/proofs/human/train/Y_train.csv\""
   ]
  },
  {
   "cell_type": "code",
   "execution_count": 27,
   "metadata": {},
   "outputs": [],
   "source": [
    "labels = pd.read_csv(label_file, header=None)"
   ]
  },
  {
   "cell_type": "code",
   "execution_count": 30,
   "metadata": {},
   "outputs": [
    {
     "data": {
      "text/plain": [
       "(376968, 41)"
      ]
     },
     "execution_count": 30,
     "metadata": {},
     "output_type": "execute_result"
    }
   ],
   "source": [
    "labels.shape"
   ]
  },
  {
   "cell_type": "code",
   "execution_count": 34,
   "metadata": {},
   "outputs": [],
   "source": [
    "labels_array = np.array(labels)"
   ]
  },
  {
   "cell_type": "code",
   "execution_count": 37,
   "metadata": {},
   "outputs": [],
   "source": [
    "val = [np.argmax(vector) for  vector in labels_array]"
   ]
  },
  {
   "cell_type": "code",
   "execution_count": 42,
   "metadata": {},
   "outputs": [
    {
     "data": {
      "text/plain": [
       "(array([5.7230e+03, 5.9700e+02, 4.4330e+03, 5.4811e+04, 3.5210e+03,\n",
       "        6.2097e+04, 7.2000e+01, 9.8200e+02, 2.4673e+04, 5.6000e+01,\n",
       "        3.1780e+03, 3.6000e+01, 6.5400e+02, 2.1508e+04, 8.0000e+00,\n",
       "        3.5522e+04, 1.5997e+04, 9.6000e+01, 8.4000e+01, 1.5590e+03,\n",
       "        2.3000e+01, 1.1100e+02, 1.7709e+04, 1.7200e+02, 1.6436e+04,\n",
       "        3.6800e+02, 8.3380e+03, 3.5510e+03, 1.2819e+04, 1.3610e+03,\n",
       "        3.0000e+00, 7.7450e+03, 1.1712e+04, 1.4550e+03, 3.4060e+03,\n",
       "        8.8000e+01, 4.9600e+02, 4.9868e+04, 2.4170e+03, 3.2830e+03]),\n",
       " array([ 0.,  1.,  2.,  3.,  4.,  5.,  6.,  7.,  8.,  9., 10., 11., 12.,\n",
       "        13., 14., 15., 16., 17., 18., 19., 20., 21., 22., 23., 24., 25.,\n",
       "        26., 27., 28., 29., 30., 31., 32., 33., 34., 35., 36., 37., 38.,\n",
       "        39., 40.]),\n",
       " <a list of 40 Patch objects>)"
      ]
     },
     "execution_count": 42,
     "metadata": {},
     "output_type": "execute_result"
    },
    {
     "data": {
      "image/png": "[encoded data removed]",
      "text/plain": [
       "<Figure size 432x288 with 1 Axes>"
      ]
     },
     "metadata": {},
     "output_type": "display_data"
    }
   ],
   "source": [
    "plt.hist(val, bins=40, log=True)"
   ]
  },
  {
   "cell_type": "code",
   "execution_count": 45,
   "metadata": {},
   "outputs": [
    {
     "data": {
      "text/plain": [
       "(array([1.7590e+03, 1.5800e+02, 1.0340e+03, 2.1118e+04, 1.2420e+03,\n",
       "        1.7454e+04, 2.8000e+01, 2.7700e+02, 7.8290e+03, 1.3000e+01,\n",
       "        9.9400e+02, 1.3000e+01, 5.0100e+02, 7.2620e+03, 2.0000e+00,\n",
       "        1.5376e+04, 5.7170e+03, 2.3000e+01, 2.0000e+01, 4.8800e+02,\n",
       "        1.0000e+01, 3.5000e+01, 5.3960e+03, 4.8000e+01, 4.4230e+03,\n",
       "        1.0700e+02, 1.9220e+03, 1.1580e+03, 3.8680e+03, 4.6200e+02,\n",
       "        0.0000e+00, 2.6270e+03, 3.4960e+03, 4.5900e+02, 1.0350e+03,\n",
       "        3.9000e+01, 1.2800e+02, 1.4751e+04, 7.9200e+02, 8.6400e+02]),\n",
       " array([ 0.,  1.,  2.,  3.,  4.,  5.,  6.,  7.,  8.,  9., 10., 11., 12.,\n",
       "        13., 14., 15., 16., 17., 18., 19., 20., 21., 22., 23., 24., 25.,\n",
       "        26., 27., 28., 29., 30., 31., 32., 33., 34., 35., 36., 37., 38.,\n",
       "        39., 40.]),\n",
       " <a list of 40 Patch objects>)"
      ]
     },
     "execution_count": 45,
     "metadata": {},
     "output_type": "execute_result"
    },
    {
     "data": {
      "image/png": "[encoded data removed]",
      "text/plain": [
       "<Figure size 432x288 with 1 Axes>"
      ]
     },
     "metadata": {},
     "output_type": "display_data"
    }
   ],
   "source": [
    "label_file = \"s3://sagemaker-cs281/deephol-data-processed/proofs/human/test/Y_train.csv\"\n",
    "labels = pd.read_csv(label_file, header=None)\n",
    "labels_array = np.array(labels)\n",
    "val = [np.argmax(vector) for  vector in labels_array]\n",
    "plt.hist(val, bins=40, log=True)"
   ]
  },
  {
   "cell_type": "code",
   "execution_count": 46,
   "metadata": {},
   "outputs": [
    {
     "data": {
      "text/plain": [
       "(array([1.6020e+03, 1.5000e+02, 1.0650e+03, 1.3677e+04, 9.0200e+02,\n",
       "        1.6660e+04, 3.2000e+01, 2.6500e+02, 7.5740e+03, 1.4000e+01,\n",
       "        9.1900e+02, 1.2000e+01, 1.7900e+02, 6.2850e+03, 2.0000e+00,\n",
       "        8.6110e+03, 5.0180e+03, 3.4000e+01, 2.5000e+01, 4.3100e+02,\n",
       "        1.6000e+01, 3.9000e+01, 5.2460e+03, 4.1000e+01, 4.6240e+03,\n",
       "        1.0800e+02, 1.8970e+03, 1.0850e+03, 3.9540e+03, 4.1100e+02,\n",
       "        0.0000e+00, 2.4000e+03, 3.5740e+03, 3.9700e+02, 1.0140e+03,\n",
       "        2.0000e+01, 1.6900e+02, 1.4003e+04, 7.0600e+02, 8.9300e+02]),\n",
       " array([ 0.,  1.,  2.,  3.,  4.,  5.,  6.,  7.,  8.,  9., 10., 11., 12.,\n",
       "        13., 14., 15., 16., 17., 18., 19., 20., 21., 22., 23., 24., 25.,\n",
       "        26., 27., 28., 29., 30., 31., 32., 33., 34., 35., 36., 37., 38.,\n",
       "        39., 40.]),\n",
       " <a list of 40 Patch objects>)"
      ]
     },
     "execution_count": 46,
     "metadata": {},
     "output_type": "execute_result"
    },
    {
     "data": {
      "image/png": "[encoded data removed]",
      "text/plain": [
       "<Figure size 432x288 with 1 Axes>"
      ]
     },
     "metadata": {},
     "output_type": "display_data"
    }
   ],
   "source": [
    "label_file = \"s3://sagemaker-cs281/deephol-data-processed/proofs/human/valid/Y_train.csv\"\n",
    "labels = pd.read_csv(label_file, header=None)\n",
    "labels_array = np.array(labels)\n",
    "val = [np.argmax(vector) for  vector in labels_array]\n",
    "plt.hist(val, bins=40, log=True)"
   ]
  },
  {
   "cell_type": "code",
   "execution_count": 48,
   "metadata": {},
   "outputs": [
    {
     "data": {
      "text/html": [
       "<div>\n",
       "<style scoped>\n",
       "    .dataframe tbody tr th:only-of-type {\n",
       "        vertical-align: middle;\n",
       "    }\n",
       "\n",
       "    .dataframe tbody tr th {\n",
       "        vertical-align: top;\n",
       "    }\n",
       "\n",
       "    .dataframe thead th {\n",
       "        text-align: right;\n",
       "    }\n",
       "</style>\n",
       "<table border=\"1\" class=\"dataframe\">\n",
       "  <thead>\n",
       "    <tr style=\"text-align: right;\">\n",
       "      <th></th>\n",
       "      <th>0.000000000000000000e+00</th>\n",
       "      <th>0.000000000000000000e+00.1</th>\n",
       "      <th>0.000000000000000000e+00.2</th>\n",
       "      <th>0.000000000000000000e+00.3</th>\n",
       "      <th>0.000000000000000000e+00.4</th>\n",
       "      <th>0.000000000000000000e+00.5</th>\n",
       "      <th>0.000000000000000000e+00.6</th>\n",
       "      <th>0.000000000000000000e+00.7</th>\n",
       "      <th>0.000000000000000000e+00.8</th>\n",
       "      <th>0.000000000000000000e+00.9</th>\n",
       "      <th>...</th>\n",
       "      <th>0.000000000000000000e+00.31</th>\n",
       "      <th>0.000000000000000000e+00.32</th>\n",
       "      <th>0.000000000000000000e+00.33</th>\n",
       "      <th>1.000000000000000000e+00</th>\n",
       "      <th>0.000000000000000000e+00.34</th>\n",
       "      <th>0.000000000000000000e+00.35</th>\n",
       "      <th>0.000000000000000000e+00.36</th>\n",
       "      <th>0.000000000000000000e+00.37</th>\n",
       "      <th>0.000000000000000000e+00.38</th>\n",
       "      <th>0.000000000000000000e+00.39</th>\n",
       "    </tr>\n",
       "  </thead>\n",
       "  <tbody>\n",
       "    <tr>\n",
       "      <th>0</th>\n",
       "      <td>0.0</td>\n",
       "      <td>0.0</td>\n",
       "      <td>0.0</td>\n",
       "      <td>0.0</td>\n",
       "      <td>0.0</td>\n",
       "      <td>0.0</td>\n",
       "      <td>0.0</td>\n",
       "      <td>0.0</td>\n",
       "      <td>0.0</td>\n",
       "      <td>0.0</td>\n",
       "      <td>...</td>\n",
       "      <td>0.0</td>\n",
       "      <td>0.0</td>\n",
       "      <td>0.0</td>\n",
       "      <td>0.0</td>\n",
       "      <td>0.0</td>\n",
       "      <td>0.0</td>\n",
       "      <td>1.0</td>\n",
       "      <td>0.0</td>\n",
       "      <td>0.0</td>\n",
       "      <td>0.0</td>\n",
       "    </tr>\n",
       "    <tr>\n",
       "      <th>1</th>\n",
       "      <td>0.0</td>\n",
       "      <td>0.0</td>\n",
       "      <td>0.0</td>\n",
       "      <td>0.0</td>\n",
       "      <td>0.0</td>\n",
       "      <td>1.0</td>\n",
       "      <td>0.0</td>\n",
       "      <td>0.0</td>\n",
       "      <td>0.0</td>\n",
       "      <td>0.0</td>\n",
       "      <td>...</td>\n",
       "      <td>0.0</td>\n",
       "      <td>0.0</td>\n",
       "      <td>0.0</td>\n",
       "      <td>0.0</td>\n",
       "      <td>0.0</td>\n",
       "      <td>0.0</td>\n",
       "      <td>0.0</td>\n",
       "      <td>0.0</td>\n",
       "      <td>0.0</td>\n",
       "      <td>0.0</td>\n",
       "    </tr>\n",
       "    <tr>\n",
       "      <th>2</th>\n",
       "      <td>0.0</td>\n",
       "      <td>0.0</td>\n",
       "      <td>0.0</td>\n",
       "      <td>1.0</td>\n",
       "      <td>0.0</td>\n",
       "      <td>0.0</td>\n",
       "      <td>0.0</td>\n",
       "      <td>0.0</td>\n",
       "      <td>0.0</td>\n",
       "      <td>0.0</td>\n",
       "      <td>...</td>\n",
       "      <td>0.0</td>\n",
       "      <td>0.0</td>\n",
       "      <td>0.0</td>\n",
       "      <td>0.0</td>\n",
       "      <td>0.0</td>\n",
       "      <td>0.0</td>\n",
       "      <td>0.0</td>\n",
       "      <td>0.0</td>\n",
       "      <td>0.0</td>\n",
       "      <td>0.0</td>\n",
       "    </tr>\n",
       "    <tr>\n",
       "      <th>3</th>\n",
       "      <td>0.0</td>\n",
       "      <td>0.0</td>\n",
       "      <td>0.0</td>\n",
       "      <td>0.0</td>\n",
       "      <td>0.0</td>\n",
       "      <td>0.0</td>\n",
       "      <td>0.0</td>\n",
       "      <td>0.0</td>\n",
       "      <td>0.0</td>\n",
       "      <td>0.0</td>\n",
       "      <td>...</td>\n",
       "      <td>0.0</td>\n",
       "      <td>0.0</td>\n",
       "      <td>0.0</td>\n",
       "      <td>0.0</td>\n",
       "      <td>0.0</td>\n",
       "      <td>0.0</td>\n",
       "      <td>0.0</td>\n",
       "      <td>0.0</td>\n",
       "      <td>0.0</td>\n",
       "      <td>0.0</td>\n",
       "    </tr>\n",
       "    <tr>\n",
       "      <th>4</th>\n",
       "      <td>0.0</td>\n",
       "      <td>0.0</td>\n",
       "      <td>0.0</td>\n",
       "      <td>0.0</td>\n",
       "      <td>0.0</td>\n",
       "      <td>0.0</td>\n",
       "      <td>0.0</td>\n",
       "      <td>0.0</td>\n",
       "      <td>0.0</td>\n",
       "      <td>0.0</td>\n",
       "      <td>...</td>\n",
       "      <td>0.0</td>\n",
       "      <td>0.0</td>\n",
       "      <td>0.0</td>\n",
       "      <td>0.0</td>\n",
       "      <td>0.0</td>\n",
       "      <td>0.0</td>\n",
       "      <td>1.0</td>\n",
       "      <td>0.0</td>\n",
       "      <td>0.0</td>\n",
       "      <td>0.0</td>\n",
       "    </tr>\n",
       "  </tbody>\n",
       "</table>\n",
       "<p>5 rows × 41 columns</p>\n",
       "</div>"
      ],
      "text/plain": [
       "   0.000000000000000000e+00  0.000000000000000000e+00.1  \\\n",
       "0                       0.0                         0.0   \n",
       "1                       0.0                         0.0   \n",
       "2                       0.0                         0.0   \n",
       "3                       0.0                         0.0   \n",
       "4                       0.0                         0.0   \n",
       "\n",
       "   0.000000000000000000e+00.2  0.000000000000000000e+00.3  \\\n",
       "0                         0.0                         0.0   \n",
       "1                         0.0                         0.0   \n",
       "2                         0.0                         1.0   \n",
       "3                         0.0                         0.0   \n",
       "4                         0.0                         0.0   \n",
       "\n",
       "   0.000000000000000000e+00.4  0.000000000000000000e+00.5  \\\n",
       "0                         0.0                         0.0   \n",
       "1                         0.0                         1.0   \n",
       "2                         0.0                         0.0   \n",
       "3                         0.0                         0.0   \n",
       "4                         0.0                         0.0   \n",
       "\n",
       "   0.000000000000000000e+00.6  0.000000000000000000e+00.7  \\\n",
       "0                         0.0                         0.0   \n",
       "1                         0.0                         0.0   \n",
       "2                         0.0                         0.0   \n",
       "3                         0.0                         0.0   \n",
       "4                         0.0                         0.0   \n",
       "\n",
       "   0.000000000000000000e+00.8  0.000000000000000000e+00.9  ...  \\\n",
       "0                         0.0                         0.0  ...   \n",
       "1                         0.0                         0.0  ...   \n",
       "2                         0.0                         0.0  ...   \n",
       "3                         0.0                         0.0  ...   \n",
       "4                         0.0                         0.0  ...   \n",
       "\n",
       "   0.000000000000000000e+00.31  0.000000000000000000e+00.32  \\\n",
       "0                          0.0                          0.0   \n",
       "1                          0.0                          0.0   \n",
       "2                          0.0                          0.0   \n",
       "3                          0.0                          0.0   \n",
       "4                          0.0                          0.0   \n",
       "\n",
       "   0.000000000000000000e+00.33  1.000000000000000000e+00  \\\n",
       "0                          0.0                       0.0   \n",
       "1                          0.0                       0.0   \n",
       "2                          0.0                       0.0   \n",
       "3                          0.0                       0.0   \n",
       "4                          0.0                       0.0   \n",
       "\n",
       "   0.000000000000000000e+00.34  0.000000000000000000e+00.35  \\\n",
       "0                          0.0                          0.0   \n",
       "1                          0.0                          0.0   \n",
       "2                          0.0                          0.0   \n",
       "3                          0.0                          0.0   \n",
       "4                          0.0                          0.0   \n",
       "\n",
       "   0.000000000000000000e+00.36  0.000000000000000000e+00.37  \\\n",
       "0                          1.0                          0.0   \n",
       "1                          0.0                          0.0   \n",
       "2                          0.0                          0.0   \n",
       "3                          0.0                          0.0   \n",
       "4                          1.0                          0.0   \n",
       "\n",
       "   0.000000000000000000e+00.38  0.000000000000000000e+00.39  \n",
       "0                          0.0                          0.0  \n",
       "1                          0.0                          0.0  \n",
       "2                          0.0                          0.0  \n",
       "3                          0.0                          0.0  \n",
       "4                          0.0                          0.0  \n",
       "\n",
       "[5 rows x 41 columns]"
      ]
     },
     "execution_count": 48,
     "metadata": {},
     "output_type": "execute_result"
    }
   ],
   "source": [
    "a.head()"
   ]
  },
  {
   "cell_type": "code",
   "execution_count": null,
   "metadata": {},
   "outputs": [],
   "source": []
  }
 ],
 "metadata": {
  "kernelspec": {
   "display_name": "conda_tensorflow_p36",
   "language": "python",
   "name": "conda_tensorflow_p36"
  },
  "language_info": {
   "codemirror_mode": {
    "name": "ipython",
    "version": 3
   },
   "file_extension": ".py",
   "mimetype": "text/x-python",
   "name": "python",
   "nbconvert_exporter": "python",
   "pygments_lexer": "ipython3",
   "version": "3.6.5"
  }
 },
 "nbformat": 4,
 "nbformat_minor": 4
}

{
 "cells": [
  {
   "cell_type": "code",
   "execution_count": 14,
   "metadata": {},
   "outputs": [],
   "source": [
    "import pandas as pd\n",
    "import numpy as np\n",
    "import tensorflow as tf\n",
    "from keras.models import Sequential\n",
    "from keras.layers import Dense, Embedding, LSTM, SpatialDropout1D, Bidirectional\n",
    "from sklearn.model_selection import train_test_split\n",
    "from keras.utils.np_utils import to_categorical\n",
    "from keras.callbacks import EarlyStopping\n",
    "from keras.layers import Dropout"
   ]
  },
  {
   "cell_type": "code",
   "execution_count": 15,
   "metadata": {},
   "outputs": [
    {
     "data": {
      "text/plain": [
       "array([[2., 6., 9., ..., 0., 0., 0.],\n",
       "       [2., 6., 6., ..., 0., 0., 0.],\n",
       "       [2., 6., 6., ..., 0., 0., 0.],\n",
       "       ...,\n",
       "       [2., 6., 6., ..., 0., 0., 0.],\n",
       "       [2., 6., 6., ..., 0., 0., 0.],\n",
       "       [2., 6., 6., ..., 0., 0., 0.]])"
      ]
     },
     "execution_count": 15,
     "metadata": {},
     "output_type": "execute_result"
    }
   ],
   "source": [
    "# load numpy array from csv file\n",
    "from numpy import loadtxt\n",
    "# load array\n",
    "X_train = loadtxt('x_train_small.csv', delimiter=',')\n",
    "X_train_hyp = loadtxt('x_train_hyp_small.csv', delimiter=',')\n",
    "Y_train = loadtxt('y_train_small.csv', delimiter=',')\n",
    "# print the array\n",
    "X_train"
   ]
  },
  {
   "cell_type": "code",
   "execution_count": 16,
   "metadata": {},
   "outputs": [
    {
     "data": {
      "text/plain": [
       "array([[2., 6., 9., ..., 0., 0., 0.],\n",
       "       [2., 6., 6., ..., 0., 0., 0.],\n",
       "       [2., 6., 6., ..., 0., 0., 0.],\n",
       "       ...,\n",
       "       [2., 6., 6., ..., 0., 0., 0.],\n",
       "       [2., 6., 6., ..., 0., 0., 0.],\n",
       "       [2., 6., 6., ..., 0., 0., 0.]])"
      ]
     },
     "execution_count": 16,
     "metadata": {},
     "output_type": "execute_result"
    }
   ],
   "source": [
    "X_train_hyp"
   ]
  },
  {
   "cell_type": "code",
   "execution_count": 17,
   "metadata": {},
   "outputs": [
    {
     "data": {
      "text/plain": [
       "array([[0., 0., 0., ..., 0., 0., 0.],\n",
       "       [0., 0., 0., ..., 0., 0., 0.],\n",
       "       [0., 0., 0., ..., 0., 0., 0.],\n",
       "       ...,\n",
       "       [0., 0., 0., ..., 0., 0., 0.],\n",
       "       [0., 0., 0., ..., 0., 0., 0.],\n",
       "       [0., 0., 0., ..., 0., 0., 0.]])"
      ]
     },
     "execution_count": 17,
     "metadata": {},
     "output_type": "execute_result"
    }
   ],
   "source": [
    "Y_train"
   ]
  },
  {
   "cell_type": "code",
   "execution_count": 18,
   "metadata": {},
   "outputs": [],
   "source": [
    "# only for testing\n",
    "X_train_hyp = X_train_hyp[:, :100]"
   ]
  },
  {
   "cell_type": "code",
   "execution_count": 19,
   "metadata": {},
   "outputs": [],
   "source": [
    "VOCAB_SIZE = 1254\n",
    "INPUT_LENGTH = 100 #3000\n",
    "EMBEDDING_DIM = 128"
   ]
  },
  {
   "cell_type": "code",
   "execution_count": 20,
   "metadata": {},
   "outputs": [],
   "source": [
    "# model\n",
    "def build_model(vocab_size, embedding_dim, input_length):\n",
    "    model = Sequential()\n",
    "    model.add(Embedding(vocab_size, embedding_dim, input_length=input_length))\n",
    "    model.add(SpatialDropout1D(0.2))\n",
    "    model.add(Bidirectional(LSTM(128, dropout=0.2, recurrent_dropout=0.2)))\n",
    "    model.add(Dense(41, activation='softmax'))\n",
    "    return model"
   ]
  },
  {
   "cell_type": "code",
   "execution_count": 21,
   "metadata": {},
   "outputs": [
    {
     "name": "stdout",
     "output_type": "stream",
     "text": [
      "_________________________________________________________________\n",
      "Layer (type)                 Output Shape              Param #   \n",
      "=================================================================\n",
      "embedding_2 (Embedding)      (None, 100, 128)          160512    \n",
      "_________________________________________________________________\n",
      "spatial_dropout1d_2 (Spatial (None, 100, 128)          0         \n",
      "_________________________________________________________________\n",
      "bidirectional_2 (Bidirection (None, 256)               263168    \n",
      "_________________________________________________________________\n",
      "dense_2 (Dense)              (None, 41)                10537     \n",
      "=================================================================\n",
      "Total params: 434,217\n",
      "Trainable params: 434,217\n",
      "Non-trainable params: 0\n",
      "_________________________________________________________________\n",
      "None\n"
     ]
    }
   ],
   "source": [
    "model = build_model(VOCAB_SIZE, EMBEDDING_DIM, INPUT_LENGTH)\n",
    "\n",
    "model.compile(loss='categorical_crossentropy', optimizer='adam', metrics=['accuracy'])\n",
    "print(model.summary())"
   ]
  },
  {
   "cell_type": "code",
   "execution_count": 24,
   "metadata": {},
   "outputs": [
    {
     "name": "stdout",
     "output_type": "stream",
     "text": [
      "Train on 180 samples, validate on 20 samples\n",
      "Epoch 1/10\n",
      "180/180 [==============================] - 2s 10ms/step - loss: 3.5853 - acc: 0.1778 - val_loss: 3.5334 - val_acc: 0.1000\n",
      "Epoch 2/10\n",
      "180/180 [==============================] - 2s 10ms/step - loss: 3.3155 - acc: 0.1500 - val_loss: 3.2197 - val_acc: 0.1000\n",
      "Epoch 3/10\n",
      "180/180 [==============================] - 2s 10ms/step - loss: 2.9343 - acc: 0.1500 - val_loss: 3.2612 - val_acc: 0.1000\n",
      "Epoch 4/10\n",
      "180/180 [==============================] - 2s 10ms/step - loss: 2.8488 - acc: 0.1611 - val_loss: 3.0965 - val_acc: 0.1000\n",
      "Epoch 5/10\n",
      "180/180 [==============================] - 2s 10ms/step - loss: 2.7988 - acc: 0.1333 - val_loss: 3.0043 - val_acc: 0.0500\n",
      "Epoch 6/10\n",
      "180/180 [==============================] - 2s 10ms/step - loss: 2.7939 - acc: 0.1167 - val_loss: 2.9111 - val_acc: 0.0500\n",
      "Epoch 7/10\n",
      "180/180 [==============================] - 2s 10ms/step - loss: 2.7381 - acc: 0.1389 - val_loss: 2.8720 - val_acc: 0.0500\n",
      "Epoch 8/10\n",
      "180/180 [==============================] - 2s 10ms/step - loss: 2.7371 - acc: 0.1833 - val_loss: 2.8673 - val_acc: 0.0500\n",
      "Epoch 9/10\n",
      "180/180 [==============================] - 2s 10ms/step - loss: 2.7433 - acc: 0.1722 - val_loss: 2.8667 - val_acc: 0.0500\n",
      "Epoch 10/10\n",
      "180/180 [==============================] - 2s 10ms/step - loss: 2.7345 - acc: 0.1722 - val_loss: 2.8529 - val_acc: 0.0500\n"
     ]
    }
   ],
   "source": [
    "epochs = 10\n",
    "batch_size = 64\n",
    "\n",
    "history = model.fit(X_train_hyp, Y_train, epochs=epochs, batch_size=batch_size,validation_split=0.1)\n",
    "# callbacks=[EarlyStopping(monitor='val_loss', patience=3, min_delta=0.0001)])"
   ]
  },
  {
   "cell_type": "code",
   "execution_count": 13,
   "metadata": {},
   "outputs": [
    {
     "name": "stdout",
     "output_type": "stream",
     "text": [
      "(100,)\n",
      "1.0\n",
      "[0.02417845 0.02402054 0.0237584  0.02598362 0.02378608 0.02602911\n",
      " 0.02391152 0.02382103 0.02518614 0.02401045 0.02397499 0.0240003\n",
      " 0.02439923 0.02499531 0.0241197  0.02476963 0.02414231 0.0243187\n",
      " 0.02397819 0.02415072 0.02444125 0.02474251 0.02457397 0.02408241\n",
      " 0.02527606 0.02433513 0.02463834 0.02430664 0.02455241 0.02471431\n",
      " 0.02430093 0.02434285 0.02396849 0.02455771 0.02435185 0.02411873\n",
      " 0.02407417 0.02505759 0.02416527 0.02409506 0.02376997]\n",
      "5\n",
      "3\n",
      "5\n",
      "3\n",
      "3\n",
      "3\n",
      "5\n",
      "3\n",
      "3\n",
      "5\n",
      "3\n",
      "5\n",
      "5\n",
      "5\n",
      "3\n",
      "5\n",
      "5\n",
      "5\n",
      "5\n",
      "5\n",
      "5\n",
      "3\n",
      "5\n",
      "3\n",
      "3\n",
      "3\n",
      "5\n",
      "3\n",
      "5\n",
      "3\n",
      "3\n",
      "5\n",
      "3\n",
      "5\n",
      "5\n",
      "5\n",
      "5\n",
      "5\n",
      "3\n",
      "3\n",
      "5\n",
      "5\n",
      "5\n",
      "5\n",
      "5\n",
      "3\n",
      "3\n",
      "3\n",
      "3\n",
      "5\n",
      "5\n",
      "5\n",
      "3\n",
      "3\n",
      "5\n",
      "3\n",
      "3\n",
      "3\n",
      "5\n",
      "3\n",
      "5\n",
      "3\n",
      "5\n",
      "5\n",
      "5\n",
      "5\n",
      "5\n",
      "5\n",
      "3\n",
      "5\n",
      "5\n",
      "5\n",
      "3\n",
      "5\n",
      "3\n",
      "3\n",
      "5\n",
      "5\n",
      "5\n",
      "5\n",
      "5\n",
      "5\n",
      "3\n",
      "5\n",
      "5\n",
      "5\n",
      "3\n",
      "5\n",
      "5\n",
      "3\n",
      "5\n",
      "5\n",
      "5\n",
      "5\n",
      "5\n",
      "5\n",
      "3\n",
      "5\n",
      "5\n",
      "3\n",
      "3\n",
      "5\n",
      "5\n",
      "3\n",
      "3\n",
      "3\n",
      "5\n",
      "5\n",
      "5\n",
      "5\n",
      "5\n",
      "3\n",
      "5\n",
      "5\n",
      "5\n",
      "5\n",
      "5\n",
      "5\n",
      "3\n",
      "5\n",
      "5\n",
      "5\n",
      "5\n",
      "5\n",
      "5\n",
      "5\n",
      "3\n",
      "5\n",
      "5\n",
      "3\n",
      "5\n",
      "5\n",
      "5\n",
      "3\n",
      "3\n",
      "5\n",
      "5\n",
      "5\n",
      "5\n",
      "5\n",
      "5\n",
      "5\n",
      "3\n",
      "3\n",
      "5\n",
      "5\n",
      "5\n",
      "3\n",
      "5\n",
      "3\n",
      "5\n",
      "5\n",
      "5\n",
      "5\n",
      "5\n",
      "3\n",
      "5\n",
      "5\n",
      "5\n",
      "5\n",
      "5\n",
      "5\n",
      "3\n",
      "5\n",
      "5\n",
      "3\n",
      "3\n",
      "5\n",
      "5\n",
      "3\n",
      "3\n",
      "5\n",
      "5\n",
      "5\n",
      "5\n",
      "5\n",
      "5\n",
      "5\n",
      "5\n",
      "5\n",
      "3\n",
      "3\n",
      "3\n",
      "3\n",
      "5\n",
      "5\n",
      "3\n",
      "3\n",
      "5\n",
      "3\n",
      "5\n",
      "5\n",
      "5\n",
      "5\n",
      "5\n",
      "5\n",
      "5\n",
      "5\n",
      "3\n",
      "5\n"
     ]
    }
   ],
   "source": [
    "example_x = X_train_hyp[0]\n",
    "print(np.shape(example_x))\n",
    "temp = model.predict(X_train_hyp)\n",
    "# print(len(temp)), temp\n",
    "print(np.sum(temp[0]))\n",
    "print(temp[0])\n",
    "for i in temp:\n",
    "    print(np.argmax(i))\n"
   ]
  },
  {
   "cell_type": "code",
   "execution_count": null,
   "metadata": {},
   "outputs": [],
   "source": []
  }
 ],
 "metadata": {
  "kernelspec": {
   "display_name": "conda_tensorflow_p36",
   "language": "python",
   "name": "conda_tensorflow_p36"
  },
  "language_info": {
   "codemirror_mode": {
    "name": "ipython",
    "version": 3
   },
   "file_extension": ".py",
   "mimetype": "text/x-python",
   "name": "python",
   "nbconvert_exporter": "python",
   "pygments_lexer": "ipython3",
   "version": "3.6.5"
  }
 },
 "nbformat": 4,
 "nbformat_minor": 4
}

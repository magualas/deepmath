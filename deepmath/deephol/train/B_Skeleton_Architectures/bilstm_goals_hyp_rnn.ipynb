{
 "cells": [
  {
   "cell_type": "code",
   "execution_count": 27,
   "metadata": {},
   "outputs": [],
   "source": [
    "import pandas as pd\n",
    "import numpy as np\n",
    "import tensorflow as tf\n",
    "from keras.models import Sequential\n",
    "from keras.layers import Dense, Embedding, LSTM, SpatialDropout1D, Bidirectional, Activation\n",
    "from sklearn.model_selection import train_test_split\n",
    "from keras.utils.np_utils import to_categorical\n",
    "from keras.callbacks import EarlyStopping\n",
    "from keras.layers import Dropout"
   ]
  },
  {
   "cell_type": "code",
   "execution_count": 2,
   "metadata": {},
   "outputs": [
    {
     "data": {
      "text/plain": [
       "array([[2., 6., 9., ..., 0., 0., 0.],\n",
       "       [2., 6., 6., ..., 0., 0., 0.],\n",
       "       [2., 6., 6., ..., 0., 0., 0.],\n",
       "       ...,\n",
       "       [2., 6., 6., ..., 0., 0., 0.],\n",
       "       [2., 6., 6., ..., 0., 0., 0.],\n",
       "       [2., 6., 6., ..., 0., 0., 0.]])"
      ]
     },
     "execution_count": 2,
     "metadata": {},
     "output_type": "execute_result"
    }
   ],
   "source": [
    "# load numpy array from csv file\n",
    "from numpy import loadtxt\n",
    "# load array\n",
    "X_train = loadtxt('x_train_small.csv', delimiter=',')\n",
    "X_train_hyp = loadtxt('x_train_hyp_small.csv', delimiter=',')\n",
    "Y_train = loadtxt('y_train_small.csv', delimiter=',')\n",
    "# print the array\n",
    "X_train"
   ]
  },
  {
   "cell_type": "code",
   "execution_count": 3,
   "metadata": {},
   "outputs": [
    {
     "data": {
      "text/plain": [
       "array([[2., 6., 9., ..., 0., 0., 0.],\n",
       "       [2., 6., 6., ..., 0., 0., 0.],\n",
       "       [2., 6., 6., ..., 0., 0., 0.],\n",
       "       ...,\n",
       "       [2., 6., 6., ..., 0., 0., 0.],\n",
       "       [2., 6., 6., ..., 0., 0., 0.],\n",
       "       [2., 6., 6., ..., 0., 0., 0.]])"
      ]
     },
     "execution_count": 3,
     "metadata": {},
     "output_type": "execute_result"
    }
   ],
   "source": [
    "X_train_hyp"
   ]
  },
  {
   "cell_type": "code",
   "execution_count": 4,
   "metadata": {},
   "outputs": [
    {
     "data": {
      "text/plain": [
       "array([[0., 0., 0., ..., 0., 0., 0.],\n",
       "       [0., 0., 0., ..., 0., 0., 0.],\n",
       "       [0., 0., 0., ..., 0., 0., 0.],\n",
       "       ...,\n",
       "       [0., 0., 0., ..., 0., 0., 0.],\n",
       "       [0., 0., 0., ..., 0., 0., 0.],\n",
       "       [0., 0., 0., ..., 0., 0., 0.]])"
      ]
     },
     "execution_count": 4,
     "metadata": {},
     "output_type": "execute_result"
    }
   ],
   "source": [
    "Y_train"
   ]
  },
  {
   "cell_type": "code",
   "execution_count": 5,
   "metadata": {},
   "outputs": [],
   "source": [
    "# only for testing\n",
    "X_train_hyp = X_train_hyp[:, :100]"
   ]
  },
  {
   "cell_type": "code",
   "execution_count": 6,
   "metadata": {},
   "outputs": [],
   "source": [
    "VOCAB_SIZE = 1254\n",
    "INPUT_LENGTH = 100 #3000\n",
    "EMBEDDING_DIM = 128"
   ]
  },
  {
   "cell_type": "code",
   "execution_count": 28,
   "metadata": {},
   "outputs": [],
   "source": [
    "# model\n",
    "def build_model(vocab_size, embedding_dim, input_length):\n",
    "    model = Sequential()\n",
    "    model.add(Embedding(vocab_size, embedding_dim, input_length=input_length))\n",
    "    model.add(SpatialDropout1D(0.2))\n",
    "    model.add(Bidirectional(LSTM(128, dropout=0.2, recurrent_dropout=0.2, return_sequences=True)))\n",
    "    model.add((LSTM(41)))\n",
    "    model.add(Activation('softmax'))\n",
    "    return model"
   ]
  },
  {
   "cell_type": "code",
   "execution_count": 29,
   "metadata": {},
   "outputs": [
    {
     "name": "stdout",
     "output_type": "stream",
     "text": [
      "_________________________________________________________________\n",
      "Layer (type)                 Output Shape              Param #   \n",
      "=================================================================\n",
      "embedding_8 (Embedding)      (None, 100, 128)          160512    \n",
      "_________________________________________________________________\n",
      "spatial_dropout1d_8 (Spatial (None, 100, 128)          0         \n",
      "_________________________________________________________________\n",
      "bidirectional_10 (Bidirectio (None, 100, 256)          263168    \n",
      "_________________________________________________________________\n",
      "lstm_15 (LSTM)               (None, 41)                48872     \n",
      "_________________________________________________________________\n",
      "activation_1 (Activation)    (None, 41)                0         \n",
      "=================================================================\n",
      "Total params: 472,552\n",
      "Trainable params: 472,552\n",
      "Non-trainable params: 0\n",
      "_________________________________________________________________\n",
      "None\n"
     ]
    }
   ],
   "source": [
    "model = build_model(VOCAB_SIZE, EMBEDDING_DIM, INPUT_LENGTH)\n",
    "\n",
    "model.compile(loss='categorical_crossentropy', optimizer='adam', metrics=['accuracy'])\n",
    "print(model.summary())"
   ]
  },
  {
   "cell_type": "code",
   "execution_count": 30,
   "metadata": {},
   "outputs": [
    {
     "name": "stdout",
     "output_type": "stream",
     "text": [
      "Train on 180 samples, validate on 20 samples\n",
      "Epoch 1/2\n",
      "180/180 [==============================] - 12s 65ms/step - loss: 3.7066 - acc: 0.0722 - val_loss: 3.7011 - val_acc: 0.0000e+00\n",
      "Epoch 2/2\n",
      "180/180 [==============================] - 2s 13ms/step - loss: 3.6797 - acc: 0.1500 - val_loss: 3.6707 - val_acc: 0.0000e+00\n"
     ]
    }
   ],
   "source": [
    "epochs = 2\n",
    "batch_size = 64\n",
    "\n",
    "history = model.fit(X_train_hyp, Y_train, epochs=epochs, batch_size=batch_size,validation_split=0.1,callbacks=[EarlyStopping(monitor='val_loss', patience=3, min_delta=0.0001)])"
   ]
  },
  {
   "cell_type": "code",
   "execution_count": 31,
   "metadata": {},
   "outputs": [
    {
     "name": "stdout",
     "output_type": "stream",
     "text": [
      "(100,)\n",
      "0.99999994\n",
      "[0.02374553 0.02314471 0.02317428 0.02721585 0.02391537 0.02711571\n",
      " 0.02341498 0.02318092 0.02596592 0.02273191 0.02403271 0.02456891\n",
      " 0.02497662 0.02458638 0.02415352 0.02605136 0.02547137 0.02339511\n",
      " 0.02523265 0.02631804 0.02329337 0.02242875 0.02669866 0.02293356\n",
      " 0.02578431 0.02323409 0.02555792 0.02288876 0.02473729 0.02544652\n",
      " 0.02341451 0.02506028 0.02257454 0.02554857 0.02447547 0.02312406\n",
      " 0.02253068 0.02763541 0.02311986 0.02458253 0.02253897]\n",
      "37\n",
      "3\n",
      "37\n",
      "37\n",
      "37\n",
      "3\n",
      "37\n",
      "37\n",
      "37\n",
      "37\n",
      "37\n",
      "37\n",
      "5\n",
      "37\n",
      "3\n",
      "37\n",
      "37\n",
      "37\n",
      "37\n",
      "37\n",
      "37\n",
      "3\n",
      "37\n",
      "3\n",
      "37\n",
      "37\n",
      "37\n",
      "37\n",
      "37\n",
      "37\n",
      "3\n",
      "5\n",
      "37\n",
      "37\n",
      "37\n",
      "5\n",
      "37\n",
      "37\n",
      "37\n",
      "3\n",
      "5\n",
      "37\n",
      "37\n",
      "3\n",
      "37\n",
      "37\n",
      "3\n",
      "3\n",
      "37\n",
      "37\n",
      "37\n",
      "37\n",
      "37\n",
      "37\n",
      "37\n",
      "3\n",
      "3\n",
      "37\n",
      "3\n",
      "37\n",
      "37\n",
      "37\n",
      "37\n",
      "3\n",
      "37\n",
      "37\n",
      "5\n",
      "37\n",
      "37\n",
      "3\n",
      "37\n",
      "37\n",
      "37\n",
      "37\n",
      "3\n",
      "37\n",
      "3\n",
      "37\n",
      "37\n",
      "3\n",
      "37\n",
      "37\n",
      "37\n",
      "3\n",
      "37\n",
      "37\n",
      "37\n",
      "3\n",
      "37\n",
      "3\n",
      "37\n",
      "37\n",
      "5\n",
      "37\n",
      "5\n",
      "37\n",
      "37\n",
      "37\n",
      "3\n",
      "37\n",
      "37\n",
      "3\n",
      "37\n",
      "3\n",
      "37\n",
      "37\n",
      "37\n",
      "37\n",
      "37\n",
      "3\n",
      "37\n",
      "3\n",
      "37\n",
      "37\n",
      "37\n",
      "37\n",
      "37\n",
      "37\n",
      "37\n",
      "37\n",
      "37\n",
      "37\n",
      "37\n",
      "37\n",
      "37\n",
      "37\n",
      "37\n",
      "37\n",
      "37\n",
      "37\n",
      "37\n",
      "37\n",
      "37\n",
      "3\n",
      "37\n",
      "37\n",
      "37\n",
      "37\n",
      "37\n",
      "37\n",
      "37\n",
      "37\n",
      "37\n",
      "37\n",
      "37\n",
      "37\n",
      "5\n",
      "37\n",
      "37\n",
      "37\n",
      "37\n",
      "3\n",
      "37\n",
      "3\n",
      "5\n",
      "3\n",
      "37\n",
      "37\n",
      "37\n",
      "37\n",
      "37\n",
      "37\n",
      "37\n",
      "5\n",
      "5\n",
      "3\n",
      "3\n",
      "37\n",
      "37\n",
      "3\n",
      "37\n",
      "37\n",
      "37\n",
      "5\n",
      "3\n",
      "5\n",
      "37\n",
      "3\n",
      "3\n",
      "37\n",
      "3\n",
      "37\n",
      "37\n",
      "3\n",
      "37\n",
      "5\n",
      "37\n",
      "37\n",
      "37\n",
      "37\n",
      "37\n",
      "3\n",
      "37\n",
      "37\n",
      "37\n",
      "3\n",
      "37\n",
      "37\n",
      "37\n",
      "37\n"
     ]
    }
   ],
   "source": [
    "example_x = X_train_hyp[0]\n",
    "print(np.shape(example_x))\n",
    "temp = model.predict(X_train_hyp)\n",
    "print(np.sum(temp[0]))\n",
    "# print(len(temp)), temp\n",
    "print(temp[0])\n",
    "for i in temp:\n",
    "    print(np.argmax(i))\n"
   ]
  },
  {
   "cell_type": "code",
   "execution_count": null,
   "metadata": {},
   "outputs": [],
   "source": []
  }
 ],
 "metadata": {
  "kernelspec": {
   "display_name": "conda_tensorflow_p36",
   "language": "python",
   "name": "conda_tensorflow_p36"
  },
  "language_info": {
   "codemirror_mode": {
    "name": "ipython",
    "version": 3
   },
   "file_extension": ".py",
   "mimetype": "text/x-python",
   "name": "python",
   "nbconvert_exporter": "python",
   "pygments_lexer": "ipython3",
   "version": "3.6.5"
  }
 },
 "nbformat": 4,
 "nbformat_minor": 4
}

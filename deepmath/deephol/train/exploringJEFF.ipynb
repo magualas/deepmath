{
 "cells": [
  {
   "cell_type": "code",
   "execution_count": 1,
   "metadata": {},
   "outputs": [
    {
     "name": "stdout",
     "output_type": "stream",
     "text": [
      "1.13.1\n"
     ]
    }
   ],
   "source": [
    "import ingestor"
   ]
  },
  {
   "cell_type": "code",
   "execution_count": null,
   "metadata": {},
   "outputs": [],
   "source": [
    "\n"
   ]
  },
  {
   "cell_type": "code",
   "execution_count": 2,
   "metadata": {},
   "outputs": [
    {
     "name": "stdout",
     "output_type": "stream",
     "text": [
      "WARNING:tensorflow:From /home/ec2-user/anaconda3/envs/amazonei_tensorflow_p36/lib/python3.6/site-packages/tensorflow/python/ops/control_flow_ops.py:423: colocate_with (from tensorflow.python.framework.ops) is deprecated and will be removed in a future version.\n",
      "Instructions for updating:\n",
      "Colocations handled automatically by placer.\n",
      "INFO:tensorflow:PASSED IN parser is None\n"
     ]
    }
   ],
   "source": [
    "input_fn = ingestor.get_input_fn()"
   ]
  },
  {
   "cell_type": "code",
   "execution_count": 3,
   "metadata": {},
   "outputs": [
    {
     "data": {
      "text/plain": [
       "({'goal': <tf.Tensor: id=206, shape=(4,), dtype=string, numpy=\n",
       "  array([b'(a (a (c (fun (bool) (fun (bool) (bool))) ==>) (a (a (c (fun (bool) (fun (bool) (bool))) ==>) (a (a (c (fun (bool) (fun (bool) (bool))) /\\\\) (a (a (c (fun (cart (real) N) (fun (fun (cart (real) N) (bool)) (bool))) IN) (v (cart (real) N) a)) (a (a (c (fun (fun (fun (cart (real) N) (bool)) (bool)) (fun (fun (cart (real) N) (bool)) (fun (cart (real) N) (bool)))) hull) (c (fun (fun (cart (real) N) (bool)) (bool)) affine)) (v (fun (cart (real) N) (bool)) s)))) (a (a (c (fun (cart (real) N) (fun (fun (cart (real) N) (bool)) (bool))) IN) (v (cart (real) N) a)) (a (c (fun (fun (cart (real) N) (bool)) (fun (cart (real) N) (bool))) interior) (a (c (fun (prod (cart (real) N) (real)) (fun (cart (real) N) (bool))) cball) (a (a (c (fun (cart (real) N) (fun (real) (prod (cart (real) N) (real)))) ,) (v (cart (real) N) a)) (v (real) e))))))) (a (a (c (fun (int) (fun (int) (bool))) =) (a (c (fun (fun (cart (real) N) (bool)) (int)) aff_dim) (a (a (c (fun (fun (cart (real) N) (bool)) (fun (fun (cart (real) N) (bool)) (fun (cart (real) N) (bool)))) INTER) (a (a (c (fun (fun (fun (cart (real) N) (bool)) (bool)) (fun (fun (cart (real) N) (bool)) (fun (cart (real) N) (bool)))) hull) (c (fun (fun (cart (real) N) (bool)) (bool)) affine)) (v (fun (cart (real) N) (bool)) s))) (a (c (fun (prod (cart (real) N) (real)) (fun (cart (real) N) (bool))) cball) (a (a (c (fun (cart (real) N) (fun (real) (prod (cart (real) N) (real)))) ,) (v (cart (real) N) a)) (v (real) e)))))) (a (c (fun (fun (cart (real) N) (bool)) (int)) aff_dim) (a (a (c (fun (fun (fun (cart (real) N) (bool)) (bool)) (fun (fun (cart (real) N) (bool)) (fun (cart (real) N) (bool)))) hull) (c (fun (fun (cart (real) N) (bool)) (bool)) affine)) (v (fun (cart (real) N) (bool)) s)))))) (a (a (c (fun (int) (fun (int) (bool))) int_le) (a (c (fun (num) (int)) int_of_num) (a (c (fun (num) (num)) NUMERAL) (a (c (fun (num) (num)) BIT1) (a (c (fun (num) (num)) BIT1) (c (num) _0)))))) (a (c (fun (fun (cart (real) N) (bool)) (int)) aff_dim) (a (a (c (fun (fun (cart (real) N) (bool)) (fun (fun (cart (real) N) (bool)) (fun (cart (real) N) (bool)))) INTER) (a (a (c (fun (fun (fun (cart (real) N) (bool)) (bool)) (fun (fun (cart (real) N) (bool)) (fun (cart (real) N) (bool)))) hull) (c (fun (fun (cart (real) N) (bool)) (bool)) affine)) (v (fun (cart (real) N) (bool)) s))) (a (c (fun (prod (cart (real) N) (real)) (fun (cart (real) N) (bool))) cball) (a (a (c (fun (cart (real) N) (fun (real) (prod (cart (real) N) (real)))) ,) (v (cart (real) N) a)) (v (real) e)))))))',\n",
       "         b'(a (a (c (fun (real) (fun (real) (bool))) real_le) (a (c (fun (fun (cart (real) M) (bool)) (real)) measure) (a (c (fun (fun (fun (cart (real) M) (bool)) (bool)) (fun (cart (real) M) (bool))) UNIONS) (v (fun (fun (cart (real) M) (bool)) (bool)) D)))) (v (real) e))',\n",
       "         b'(c (bool) F)',\n",
       "         b'(a (a (c (fun (bool) (fun (bool) (bool))) ==>) (a (a (c (fun (bool) (fun (bool) (bool))) /\\\\) (a (c (fun (fun (cart (real) N) (bool)) (bool)) !) (l (v (cart (real) N) x) (a (a (c (fun (bool) (fun (bool) (bool))) ==>) (a (a (c (fun (cart (real) N) (fun (fun (cart (real) N) (bool)) (bool))) IN) (v (cart (real) N) x)) (v (fun (cart (real) N) (bool)) t))) (a (a (c (fun (cart (real) N) (fun (cart (real) N) (bool))) =) (a (v (fun (cart (real) N) (cart (real) N)) r) (v (cart (real) N) x))) (v (cart (real) N) x)))))) (a (a (c (fun (bool) (fun (bool) (bool))) /\\\\) (a (a (c (fun (fun (cart (real) N) (bool)) (fun (fun (cart (real) N) (bool)) (bool))) SUBSET) (a (a (c (fun (fun (cart (real) N) (cart (real) N)) (fun (fun (cart (real) N) (bool)) (fun (cart (real) N) (bool)))) IMAGE) (v (fun (cart (real) N) (cart (real) N)) r)) (v (fun (cart (real) N) (bool)) u))) (v (fun (cart (real) N) (bool)) t))) (a (a (c (fun (bool) (fun (bool) (bool))) /\\\\) (a (a (c (fun (fun (cart (real) N) (bool)) (fun (fun (cart (real) N) (bool)) (bool))) SUBSET) (v (fun (cart (real) N) (bool)) t)) (v (fun (cart (real) N) (bool)) u))) (a (a (c (fun (bool) (fun (bool) (bool))) /\\\\) (a (c (fun (fun (cart (real) M) (bool)) (bool)) !) (l (v (cart (real) M) x) (a (a (c (fun (cart (real) N) (fun (cart (real) N) (bool))) =) (a (v (fun (cart (real) (finite_sum (1) M)) (cart (real) N)) h) (a (a (c (fun (cart (real) (1)) (fun (cart (real) M) (cart (real) (finite_sum (1) M)))) pastecart) (a (c (fun (num) (cart (real) (1))) vec) (a (c (fun (num) (num)) NUMERAL) (a (c (fun (num) (num)) BIT1) (c (num) _0))))) (v (cart (real) M) x)))) (a (v (fun (cart (real) M) (cart (real) N)) g) (v (cart (real) M) x)))))) (a (a (c (fun (bool) (fun (bool) (bool))) /\\\\) (a (c (fun (fun (cart (real) M) (bool)) (bool)) !) (l (v (cart (real) M) x) (a (a (c (fun (cart (real) N) (fun (cart (real) N) (bool))) =) (a (v (fun (cart (real) (finite_sum (1) M)) (cart (real) N)) h) (a (a (c (fun (cart (real) (1)) (fun (cart (real) M) (cart (real) (finite_sum (1) M)))) pastecart) (a (c (fun (num) (cart (real) (1))) vec) (a (c (fun (num) (num)) NUMERAL) (c (num) _0)))) (v (cart (real) M) x)))) (a (v (fun (cart (real) M) (cart (real) N)) f) (v (cart (real) M) x)))))) (a (a (c (fun (bool) (fun (bool) (bool))) /\\\\) (a (a (c (fun (fun (cart (real) N) (bool)) (fun (fun (cart (real) N) (bool)) (bool))) SUBSET) (a (a (c (fun (fun (cart (real) (finite_sum (1) M)) (cart (real) N)) (fun (fun (cart (real) (finite_sum (1) M)) (bool)) (fun (cart (real) N) (bool)))) IMAGE) (v (fun (cart (real) (finite_sum (1) M)) (cart (real) N)) h)) (a (a (c (fun (fun (cart (real) (1)) (bool)) (fun (fun (cart (real) M) (bool)) (fun (cart (real) (finite_sum (1) M)) (bool)))) PCROSS) (a (c (fun (list (prod (cart (real) (1)) (cart (real) (1)))) (fun (cart (real) (1)) (bool))) closed_interval) (a (a (c (fun (prod (cart (real) (1)) (cart (real) (1))) (fun (list (prod (cart (real) (1)) (cart (real) (1)))) (list (prod (cart (real) (1)) (cart (real) (1)))))) CONS) (a (a (c (fun (cart (real) (1)) (fun (cart (real) (1)) (prod (cart (real) (1)) (cart (real) (1))))) ,) (a (c (fun (num) (cart (real) (1))) vec) (a (c (fun (num) (num)) NUMERAL) (c (num) _0)))) (a (c (fun (num) (cart (real) (1))) vec) (a (c (fun (num) (num)) NUMERAL) (a (c (fun (num) (num)) BIT1) (c (num) _0)))))) (c (list (prod (cart (real) (1)) (cart (real) (1)))) NIL)))) (v (fun (cart (real) M) (bool)) s)))) (v (fun (cart (real) N) (bool)) u))) (a (a (c (fun (bool) (fun (bool) (bool))) /\\\\) (a (a (c (fun (fun (cart (real) (finite_sum (1) M)) (cart (real) N)) (fun (fun (cart (real) (finite_sum (1) M)) (bool)) (bool))) continuous_on) (v (fun (cart (real) (finite_sum (1) M)) (cart (real) N)) h)) (a (a (c (fun (fun (cart (real) (1)) (bool)) (fun (fun (cart (real) M) (bool)) (fun (cart (real) (finite_sum (1) M)) (bool)))) PCROSS) (a (c (fun (list (prod (cart (real) (1)) (cart (real) (1)))) (fun (cart (real) (1)) (bool))) closed_interval) (a (a (c (fun (prod (cart (real) (1)) (cart (real) (1))) (fun (list (prod (cart (real) (1)) (cart (real) (1)))) (list (prod (cart (real) (1)) (cart (real) (1)))))) CONS) (a (a (c (fun (cart (real) (1)) (fun (cart (real) (1)) (prod (cart (real) (1)) (cart (real) (1))))) ,) (a (c (fun (num) (cart (real) (1))) vec) (a (c (fun (num) (num)) NUMERAL) (c (num) _0)))) (a (c (fun (num) (cart (real) (1))) vec) (a (c (fun (num) (num)) NUMERAL) (a (c (fun (num) (num)) BIT1) (c (num) _0)))))) (c (list (prod (cart (real) (1)) (cart (real) (1)))) NIL)))) (v (fun (cart (real) M) (bool)) s)))) (a (a (c (fun (bool) (fun (bool) (bool))) /\\\\) (a (a (c (fun (fun (cart (real) N) (bool)) (fun (fun (cart (real) N) (bool)) (bool))) SUBSET) (a (a (c (fun (fun (cart (real) M) (cart (real) N)) (fun (fun (cart (real) M) (bool)) (fun (cart (real) N) (bool)))) IMAGE) (v (fun (cart (real) M) (cart (real) N)) g)) (v (fun (cart (real) M) (bool)) s))) (v (fun (cart (real) N) (bool)) t))) (a (a (c (fun (fun (cart (real) N) (bool)) (fun (fun (cart (real) N) (bool)) (bool))) SUBSET) (a (a (c (fun (fun (cart (real) M) (cart (real) N)) (fun (fun (cart (real) M) (bool)) (fun (cart (real) N) (bool)))) IMAGE) (v (fun (cart (real) M) (cart (real) N)) f)) (v (fun (cart (real) M) (bool)) s))) (v (fun (cart (real) N) (bool)) t))))))))))) (a (a (c (fun (fun (cart (real) N) (bool)) (fun (fun (cart (real) N) (bool)) (bool))) SUBSET) (a (a (c (fun (fun (cart (real) (finite_sum (1) M)) (cart (real) N)) (fun (fun (cart (real) (finite_sum (1) M)) (bool)) (fun (cart (real) N) (bool)))) IMAGE) (v (fun (cart (real) (finite_sum (1) M)) (cart (real) N)) h)) (a (a (c (fun (fun (cart (real) (1)) (bool)) (fun (fun (cart (real) M) (bool)) (fun (cart (real) (finite_sum (1) M)) (bool)))) PCROSS) (a (c (fun (list (prod (cart (real) (1)) (cart (real) (1)))) (fun (cart (real) (1)) (bool))) closed_interval) (a (a (c (fun (prod (cart (real) (1)) (cart (real) (1))) (fun (list (prod (cart (real) (1)) (cart (real) (1)))) (list (prod (cart (real) (1)) (cart (real) (1)))))) CONS) (a (a (c (fun (cart (real) (1)) (fun (cart (real) (1)) (prod (cart (real) (1)) (cart (real) (1))))) ,) (a (c (fun (num) (cart (real) (1))) vec) (a (c (fun (num) (num)) NUMERAL) (c (num) _0)))) (a (c (fun (num) (cart (real) (1))) vec) (a (c (fun (num) (num)) NUMERAL) (a (c (fun (num) (num)) BIT1) (c (num) _0)))))) (c (list (prod (cart (real) (1)) (cart (real) (1)))) NIL)))) (v (fun (cart (real) M) (bool)) s)))) (v (fun (cart (real) N) (bool)) u)))'],\n",
       "        dtype=object)>,\n",
       "  'thms': <tf.Tensor: id=207, shape=(4,), dtype=string, numpy=\n",
       "  array([b'(a (c (fun (fun (fun (cart (real) ?0) (bool)) (bool)) (bool)) !) (l (v (fun (cart (real) ?0) (bool)) s) (a (a (c (fun (int) (fun (int) (bool))) =) (a (c (fun (fun (cart (real) ?0) (bool)) (int)) aff_dim) (a (a (c (fun (fun (fun (cart (real) ?0) (bool)) (bool)) (fun (fun (cart (real) ?0) (bool)) (fun (cart (real) ?0) (bool)))) hull) (c (fun (fun (cart (real) ?0) (bool)) (bool)) affine)) (v (fun (cart (real) ?0) (bool)) s)))) (a (c (fun (fun (cart (real) ?0) (bool)) (int)) aff_dim) (v (fun (cart (real) ?0) (bool)) s)))))',\n",
       "         b'(a (c (fun (fun (fun (fun (cart (real) M) (bool)) (cart (real) M)) (bool)) (bool)) ?) (l (v (fun (fun (cart (real) M) (bool)) (cart (real) M)) x) (a (c (fun (fun (fun (cart (real) M) (bool)) (bool)) (bool)) !) (l (v (fun (cart (real) M) (bool)) k) (a (a (c (fun (bool) (fun (bool) (bool))) ==>) (a (a (c (fun (fun (cart (real) M) (bool)) (fun (fun (fun (cart (real) M) (bool)) (bool)) (bool))) IN) (v (fun (cart (real) M) (bool)) k)) (v (fun (fun (cart (real) M) (bool)) (bool)) D))) (a (a (c (fun (bool) (fun (bool) (bool))) /\\\\) (a (a (c (fun (cart (real) M) (fun (fun (cart (real) M) (bool)) (bool))) IN) (a (v (fun (fun (cart (real) M) (bool)) (cart (real) M)) x) (v (fun (cart (real) M) (bool)) k))) (v (fun (cart (real) M) (bool)) E))) (a (a (c (fun (bool) (fun (bool) (bool))) /\\\\) (a (a (c (fun (cart (real) M) (fun (fun (cart (real) M) (bool)) (bool))) IN) (a (v (fun (fun (cart (real) M) (bool)) (cart (real) M)) x) (v (fun (cart (real) M) (bool)) k))) (v (fun (cart (real) M) (bool)) k))) (a (a (c (fun (fun (cart (real) M) (bool)) (fun (fun (cart (real) M) (bool)) (bool))) SUBSET) (v (fun (cart (real) M) (bool)) k)) (a (c (fun (prod (cart (real) M) (real)) (fun (cart (real) M) (bool))) ball) (a (a (c (fun (cart (real) M) (fun (real) (prod (cart (real) M) (real)))) ,) (a (v (fun (fun (cart (real) M) (bool)) (cart (real) M)) x) (v (fun (cart (real) M) (bool)) k))) (a (v (fun (cart (real) M) (real)) uv) (a (v (fun (fun (cart (real) M) (bool)) (cart (real) M)) x) (v (fun (cart (real) M) (bool)) k)))))))))))))',\n",
       "         b'', b''], dtype=object)>,\n",
       "  'thms_hard_negatives': <tf.Tensor: id=208, shape=(4, 7), dtype=string, numpy=\n",
       "  array([[b'<NULL>', b'<NULL>', b'<NULL>', b'<NULL>', b'<NULL>', b'<NULL>',\n",
       "          b'<NULL>'],\n",
       "         [b'<NULL>', b'<NULL>', b'<NULL>', b'<NULL>', b'<NULL>', b'<NULL>',\n",
       "          b'<NULL>'],\n",
       "         [b'<NULL>', b'<NULL>', b'<NULL>', b'<NULL>', b'<NULL>', b'<NULL>',\n",
       "          b'<NULL>'],\n",
       "         [b'<NULL>', b'<NULL>', b'<NULL>', b'<NULL>', b'<NULL>', b'<NULL>',\n",
       "          b'<NULL>']], dtype=object)>},\n",
       " {'tac_id': <tf.Tensor: id=209, shape=(4,), dtype=int64, numpy=array([28, 34, 24, 24])>})"
      ]
     },
     "execution_count": 3,
     "metadata": {},
     "output_type": "execute_result"
    }
   ],
   "source": [
    "input_fn()"
   ]
  },
  {
   "cell_type": "code",
   "execution_count": null,
   "metadata": {},
   "outputs": [],
   "source": []
  }
 ],
 "metadata": {
  "kernelspec": {
   "display_name": "conda_amazonei_tensorflow_p36",
   "language": "python",
   "name": "conda_amazonei_tensorflow_p36"
  },
  "language_info": {
   "codemirror_mode": {
    "name": "ipython",
    "version": 3
   },
   "file_extension": ".py",
   "mimetype": "text/x-python",
   "name": "python",
   "nbconvert_exporter": "python",
   "pygments_lexer": "ipython3",
   "version": "3.6.5"
  }
 },
 "nbformat": 4,
 "nbformat_minor": 4
}

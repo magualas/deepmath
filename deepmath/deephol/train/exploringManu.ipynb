{
 "cells": [
  {
   "cell_type": "code",
   "execution_count": 1,
   "metadata": {},
   "outputs": [
    {
     "name": "stdout",
     "output_type": "stream",
     "text": [
      "1.14.0\n",
      "Tesor Flow Version: 1.14.0 Ingest File\n",
      "Tesor Flow Version: 1.14.0  Utility File\n",
      "Tesor Flow Version: 1.14.0 Extactor 2\n"
     ]
    }
   ],
   "source": [
    "import os\n",
    "import tensorflow as tf\n",
    "import tensorflow.contrib.eager as tfe\n",
    "# tf.compat.v1.enable_eager_execution()\n",
    "print(tf.__version__)\n",
    "\n",
    "import time\n",
    "import ingestor\n",
    "import extractor2\n",
    "import utils\n",
    "import data\n",
    "import functools"
   ]
  },
  {
   "cell_type": "code",
   "execution_count": 2,
   "metadata": {},
   "outputs": [],
   "source": [
    "params = ingestor.get_params()"
   ]
  },
  {
   "cell_type": "code",
   "execution_count": 3,
   "metadata": {},
   "outputs": [
    {
     "name": "stdout",
     "output_type": "stream",
     "text": [
      "WARNING:tensorflow:From /home/ec2-user/SageMaker/deepmath/deepmath/deephol/train/data.py:66: The name tf.parse_single_example is deprecated. Please use tf.io.parse_single_example instead.\n",
      "\n",
      "WARNING:tensorflow:From /home/ec2-user/SageMaker/deepmath/deepmath/deephol/train/data.py:71: The name tf.FixedLenFeature is deprecated. Please use tf.io.FixedLenFeature instead.\n",
      "\n",
      "WARNING:tensorflow:From /home/ec2-user/SageMaker/deepmath/deepmath/deephol/train/data.py:73: The name tf.VarLenFeature is deprecated. Please use tf.io.VarLenFeature instead.\n",
      "\n",
      "WARNING:tensorflow:From /home/ec2-user/SageMaker/deepmath/deepmath/deephol/train/data.py:88: The name tf.sparse_tensor_to_dense is deprecated. Please use tf.sparse.to_dense instead.\n",
      "\n"
     ]
    }
   ],
   "source": [
    "train_data = data.get_train_dataset(params)\n",
    "parser = data.tristan_parser\n",
    "train_parsed = train_data.map(functools.partial(parser, params=params))"
   ]
  },
  {
   "cell_type": "code",
   "execution_count": 24,
   "metadata": {},
   "outputs": [],
   "source": [
    "# for i in train_parsed.take(1):\n",
    "#     print(i)"
   ]
  },
  {
   "cell_type": "code",
   "execution_count": 23,
   "metadata": {},
   "outputs": [
    {
     "name": "stdout",
     "output_type": "stream",
     "text": [
      "tf.Tensor(376967, shape=(), dtype=int64)\n"
     ]
    }
   ],
   "source": [
    "for i, j in train_parsed.enumerate():\n",
    "    l = i\n",
    "    \n",
    "print(l)"
   ]
  },
  {
   "cell_type": "code",
   "execution_count": 42,
   "metadata": {},
   "outputs": [],
   "source": [
    "# set features and labels\n",
    "features = {'goal': [], 'goal_asl': [], 'thms': [], 'thms_hard_negatives': []}\n",
    "labels = {'tac_id': []}\n",
    "\n",
    "# iterate over dataset to extract data into arrays. remove 'take' part to iterate over the entire dataset\n",
    "for raw_record in train_parsed.take(100):\n",
    "    fx, lx = raw_record[0], raw_record[1]\n",
    "    features['goal'].append(fx['goal'])\n",
    "    features['goal_asl'].append(fx['goal_asl'])\n",
    "    features['thms'].append(fx['thms'])\n",
    "    features['thms_hard_negatives'].append(fx['thms_hard_negatives'])\n",
    "    labels['tac_id'].append(lx['tac_id'])\n",
    "\n",
    "# instantiate extractor object\n",
    "ex = extractor2.Extractor(params)\n",
    "\n",
    "# tokenize goals\n",
    "temp = ex.tokenize(features['goal'], ex.vocab_table)\n",
    "#pad all goals to be of length 1000\n",
    "goal_list = []\n",
    "for j in range(len(temp)):\n",
    "        l = len(temp[j])\n",
    "        h = tf.pad(temp[j], [[0, 1000-l]], constant_values=0)\n",
    "        goal_list.append(h)\n",
    "features['goal_ids'] = goal_list\n",
    "\n",
    "# tokenize hypotheses. this requires more work since there may be more than one hypothesis\n",
    "length = len(features['goal'])\n",
    "features['goal_asl_ids'] = []\n",
    "\n",
    "for i in range(length):\n",
    "    temp = ex.tokenize(features['goal_asl'][i], ex.vocab_table)\n",
    "    #pad all hypotheses to be of length 1000\n",
    "    hypo_list = []\n",
    "    for j in range(len(temp)):\n",
    "        l = len(temp[j])\n",
    "        h = tf.pad(temp[j], [[0, 1000-l]], constant_values=0)\n",
    "        hypo_list.append(h)\n",
    "    features['goal_asl_ids'].append(hypo_list)\n",
    "\n",
    "del features['goal']\n",
    "del features['goal_asl']\n",
    "del features['thms']\n",
    "del features['thms_hard_negatives']\n",
    "\n",
    "# FEATURES\n",
    "# 'goal_ids': an array of LENGTH OF DATASET containing arrays which are the tokenized goals of length 1000\n",
    "# below is an example of how to access the entire array as numpy arrays\n",
    "# print(features['goal_ids'][0].numpy())\n",
    "# 'goal_asl_ids': this below is an array of LENGTH OF DATASET containing lists of tokenized hypotheses \n",
    "# where each hypothesis is of length 1000. below is an example of how to access the first hypothesis \n",
    "# from the list of hypotheses corresponding to the first training example\n",
    "# print(features['goal_asl_ids'][0][0].numpy())\n",
    "\n",
    "# LABELS\n",
    "# 'tac_id': array containing tactic ids. below is an example of how to access the first tactic\n",
    "# print(labels['tac_id'][0].numpy())"
   ]
  },
  {
   "cell_type": "code",
   "execution_count": 39,
   "metadata": {},
   "outputs": [
    {
     "data": {
      "text/plain": [
       "<tf.Tensor: id=3380960, shape=(2,), dtype=int32, numpy=array([   5, 1000], dtype=int32)>"
      ]
     },
     "execution_count": 39,
     "metadata": {},
     "output_type": "execute_result"
    }
   ],
   "source": [
    "tf.shape(features['goal_ids'])"
   ]
  },
  {
   "cell_type": "code",
   "execution_count": 46,
   "metadata": {},
   "outputs": [
    {
     "name": "stdout",
     "output_type": "stream",
     "text": [
      "tf.Tensor([   6 1000], shape=(2,), dtype=int32)\n",
      "tf.Tensor([   5 1000], shape=(2,), dtype=int32)\n",
      "tf.Tensor([   7 1000], shape=(2,), dtype=int32)\n",
      "tf.Tensor([   7 1000], shape=(2,), dtype=int32)\n",
      "tf.Tensor([   6 1000], shape=(2,), dtype=int32)\n",
      "tf.Tensor([  53 1000], shape=(2,), dtype=int32)\n",
      "tf.Tensor([  20 1000], shape=(2,), dtype=int32)\n",
      "tf.Tensor([0], shape=(1,), dtype=int32)\n",
      "tf.Tensor([  18 1000], shape=(2,), dtype=int32)\n",
      "tf.Tensor([   1 1000], shape=(2,), dtype=int32)\n",
      "tf.Tensor([   4 1000], shape=(2,), dtype=int32)\n",
      "tf.Tensor([  20 1000], shape=(2,), dtype=int32)\n",
      "tf.Tensor([0], shape=(1,), dtype=int32)\n",
      "tf.Tensor([   6 1000], shape=(2,), dtype=int32)\n",
      "tf.Tensor([  13 1000], shape=(2,), dtype=int32)\n",
      "tf.Tensor([  16 1000], shape=(2,), dtype=int32)\n",
      "tf.Tensor([0], shape=(1,), dtype=int32)\n",
      "tf.Tensor([   9 1000], shape=(2,), dtype=int32)\n",
      "tf.Tensor([   8 1000], shape=(2,), dtype=int32)\n",
      "tf.Tensor([   1 1000], shape=(2,), dtype=int32)\n",
      "tf.Tensor([0], shape=(1,), dtype=int32)\n",
      "tf.Tensor([   3 1000], shape=(2,), dtype=int32)\n",
      "tf.Tensor([  11 1000], shape=(2,), dtype=int32)\n",
      "tf.Tensor([   4 1000], shape=(2,), dtype=int32)\n",
      "tf.Tensor([   3 1000], shape=(2,), dtype=int32)\n",
      "tf.Tensor([   9 1000], shape=(2,), dtype=int32)\n",
      "tf.Tensor([  27 1000], shape=(2,), dtype=int32)\n",
      "tf.Tensor([   1 1000], shape=(2,), dtype=int32)\n",
      "tf.Tensor([  20 1000], shape=(2,), dtype=int32)\n",
      "tf.Tensor([   1 1000], shape=(2,), dtype=int32)\n",
      "tf.Tensor([   4 1000], shape=(2,), dtype=int32)\n",
      "tf.Tensor([0], shape=(1,), dtype=int32)\n",
      "tf.Tensor([   3 1000], shape=(2,), dtype=int32)\n",
      "tf.Tensor([0], shape=(1,), dtype=int32)\n",
      "tf.Tensor([0], shape=(1,), dtype=int32)\n",
      "tf.Tensor([0], shape=(1,), dtype=int32)\n",
      "tf.Tensor([  10 1000], shape=(2,), dtype=int32)\n",
      "tf.Tensor([   7 1000], shape=(2,), dtype=int32)\n",
      "tf.Tensor([  11 1000], shape=(2,), dtype=int32)\n",
      "tf.Tensor([  13 1000], shape=(2,), dtype=int32)\n",
      "tf.Tensor([0], shape=(1,), dtype=int32)\n",
      "tf.Tensor([  16 1000], shape=(2,), dtype=int32)\n",
      "tf.Tensor([   7 1000], shape=(2,), dtype=int32)\n",
      "tf.Tensor([  28 1000], shape=(2,), dtype=int32)\n",
      "tf.Tensor([  14 1000], shape=(2,), dtype=int32)\n",
      "tf.Tensor([   4 1000], shape=(2,), dtype=int32)\n",
      "tf.Tensor([  11 1000], shape=(2,), dtype=int32)\n",
      "tf.Tensor([0], shape=(1,), dtype=int32)\n",
      "tf.Tensor([  17 1000], shape=(2,), dtype=int32)\n",
      "tf.Tensor([   6 1000], shape=(2,), dtype=int32)\n",
      "tf.Tensor([  34 1000], shape=(2,), dtype=int32)\n",
      "tf.Tensor([   1 1000], shape=(2,), dtype=int32)\n",
      "tf.Tensor([   7 1000], shape=(2,), dtype=int32)\n",
      "tf.Tensor([   9 1000], shape=(2,), dtype=int32)\n",
      "tf.Tensor([   4 1000], shape=(2,), dtype=int32)\n",
      "tf.Tensor([  10 1000], shape=(2,), dtype=int32)\n",
      "tf.Tensor([  14 1000], shape=(2,), dtype=int32)\n",
      "tf.Tensor([0], shape=(1,), dtype=int32)\n",
      "tf.Tensor([   1 1000], shape=(2,), dtype=int32)\n",
      "tf.Tensor([   4 1000], shape=(2,), dtype=int32)\n",
      "tf.Tensor([0], shape=(1,), dtype=int32)\n",
      "tf.Tensor([   1 1000], shape=(2,), dtype=int32)\n",
      "tf.Tensor([   9 1000], shape=(2,), dtype=int32)\n",
      "tf.Tensor([   6 1000], shape=(2,), dtype=int32)\n",
      "tf.Tensor([0], shape=(1,), dtype=int32)\n",
      "tf.Tensor([  36 1000], shape=(2,), dtype=int32)\n",
      "tf.Tensor([0], shape=(1,), dtype=int32)\n",
      "tf.Tensor([  10 1000], shape=(2,), dtype=int32)\n",
      "tf.Tensor([   9 1000], shape=(2,), dtype=int32)\n",
      "tf.Tensor([   5 1000], shape=(2,), dtype=int32)\n",
      "tf.Tensor([   2 1000], shape=(2,), dtype=int32)\n",
      "tf.Tensor([  17 1000], shape=(2,), dtype=int32)\n",
      "tf.Tensor([  15 1000], shape=(2,), dtype=int32)\n",
      "tf.Tensor([   1 1000], shape=(2,), dtype=int32)\n",
      "tf.Tensor([  23 1000], shape=(2,), dtype=int32)\n",
      "tf.Tensor([0], shape=(1,), dtype=int32)\n",
      "tf.Tensor([   4 1000], shape=(2,), dtype=int32)\n",
      "tf.Tensor([0], shape=(1,), dtype=int32)\n",
      "tf.Tensor([  16 1000], shape=(2,), dtype=int32)\n",
      "tf.Tensor([   7 1000], shape=(2,), dtype=int32)\n",
      "tf.Tensor([  15 1000], shape=(2,), dtype=int32)\n",
      "tf.Tensor([   9 1000], shape=(2,), dtype=int32)\n",
      "tf.Tensor([0], shape=(1,), dtype=int32)\n",
      "tf.Tensor([   1 1000], shape=(2,), dtype=int32)\n",
      "tf.Tensor([0], shape=(1,), dtype=int32)\n",
      "tf.Tensor([   2 1000], shape=(2,), dtype=int32)\n",
      "tf.Tensor([0], shape=(1,), dtype=int32)\n",
      "tf.Tensor([  12 1000], shape=(2,), dtype=int32)\n",
      "tf.Tensor([   3 1000], shape=(2,), dtype=int32)\n",
      "tf.Tensor([   6 1000], shape=(2,), dtype=int32)\n",
      "tf.Tensor([   3 1000], shape=(2,), dtype=int32)\n",
      "tf.Tensor([   3 1000], shape=(2,), dtype=int32)\n",
      "tf.Tensor([0], shape=(1,), dtype=int32)\n",
      "tf.Tensor([0], shape=(1,), dtype=int32)\n",
      "tf.Tensor([   1 1000], shape=(2,), dtype=int32)\n",
      "tf.Tensor([0], shape=(1,), dtype=int32)\n",
      "tf.Tensor([   3 1000], shape=(2,), dtype=int32)\n",
      "tf.Tensor([0], shape=(1,), dtype=int32)\n",
      "tf.Tensor([0], shape=(1,), dtype=int32)\n",
      "tf.Tensor([   1 1000], shape=(2,), dtype=int32)\n"
     ]
    }
   ],
   "source": [
    "for i in features['goal_asl_ids']:\n",
    "    print(tf.shape(i))"
   ]
  },
  {
   "cell_type": "code",
   "execution_count": null,
   "metadata": {},
   "outputs": [],
   "source": []
  }
 ],
 "metadata": {
  "kernelspec": {
   "display_name": "conda_tensorflow_p36",
   "language": "python",
   "name": "conda_tensorflow_p36"
  },
  "language_info": {
   "codemirror_mode": {
    "name": "ipython",
    "version": 3
   },
   "file_extension": ".py",
   "mimetype": "text/x-python",
   "name": "python",
   "nbconvert_exporter": "python",
   "pygments_lexer": "ipython3",
   "version": "3.6.5"
  }
 },
 "nbformat": 4,
 "nbformat_minor": 4
}

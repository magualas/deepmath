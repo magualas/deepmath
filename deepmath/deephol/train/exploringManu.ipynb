{
 "cells": [
  {
   "cell_type": "code",
   "execution_count": 1,
   "metadata": {},
   "outputs": [
    {
     "name": "stdout",
     "output_type": "stream",
     "text": [
      "1.14.0\n"
     ]
    }
   ],
   "source": [
    "import os\n",
    "import tensorflow as tf\n",
    "\n",
    "import ingestor\n",
    "import extractor2\n",
    "import utils"
   ]
  },
  {
   "cell_type": "code",
   "execution_count": 2,
   "metadata": {},
   "outputs": [
    {
     "name": "stdout",
     "output_type": "stream",
     "text": [
      "WARNING:tensorflow:From /home/ec2-user/SageMaker/deepmath/deepmath/deephol/train/data.py:127: The name tf.parse_single_example is deprecated. Please use tf.io.parse_single_example instead.\n",
      "\n",
      "WARNING:tensorflow:From /home/ec2-user/SageMaker/deepmath/deepmath/deephol/train/data.py:132: The name tf.FixedLenFeature is deprecated. Please use tf.io.FixedLenFeature instead.\n",
      "\n",
      "WARNING:tensorflow:From /home/ec2-user/SageMaker/deepmath/deepmath/deephol/train/data.py:134: The name tf.VarLenFeature is deprecated. Please use tf.io.VarLenFeature instead.\n",
      "\n",
      "WARNING:tensorflow:From /home/ec2-user/SageMaker/deepmath/deepmath/deephol/train/data.py:149: The name tf.sparse_tensor_to_dense is deprecated. Please use tf.sparse.to_dense instead.\n",
      "\n",
      "WARNING:tensorflow:From /home/ec2-user/SageMaker/deepmath/deepmath/deephol/train/data.py:161: The name tf.random_uniform is deprecated. Please use tf.random.uniform instead.\n",
      "\n",
      "WARNING:tensorflow:From /home/ec2-user/SageMaker/deepmath/deepmath/deephol/train/data.py:280: The name tf.logging.info is deprecated. Please use tf.compat.v1.logging.info instead.\n",
      "\n",
      "INFO:tensorflow:PASSED IN parser is None\n"
     ]
    }
   ],
   "source": [
    "input_fn, params = ingestor.get_input_fn()"
   ]
  },
  {
   "cell_type": "code",
   "execution_count": 3,
   "metadata": {},
   "outputs": [
    {
     "name": "stdout",
     "output_type": "stream",
     "text": [
      "WARNING:tensorflow:From /home/ec2-user/SageMaker/deepmath/deepmath/deephol/train/data.py:305: DatasetV1.make_one_shot_iterator (from tensorflow.python.data.ops.dataset_ops) is deprecated and will be removed in a future version.\n",
      "Instructions for updating:\n",
      "Use `for ... in dataset:` to iterate over a dataset. If using `tf.estimator`, return the `Dataset` object directly from your input function. As a last resort, you can use `tf.compat.v1.data.make_one_shot_iterator(dataset)`.\n"
     ]
    }
   ],
   "source": [
    "features, labels = input_fn()[0], input_fn()[1]"
   ]
  },
  {
   "cell_type": "code",
   "execution_count": 4,
   "metadata": {},
   "outputs": [
    {
     "name": "stdout",
     "output_type": "stream",
     "text": [
      "WARNING:tensorflow:From /home/ec2-user/SageMaker/deepmath/deepmath/deephol/train/utils.py:18: The name tf.gfile.Open is deprecated. Please use tf.io.gfile.GFile instead.\n",
      "\n",
      "WARNING:tensorflow:\n",
      "The TensorFlow contrib module will not be included in TensorFlow 2.0.\n",
      "For more information, please see:\n",
      "  * https://github.com/tensorflow/community/blob/master/rfcs/20180907-contrib-sunset.md\n",
      "  * https://github.com/tensorflow/addons\n",
      "  * https://github.com/tensorflow/io (for I/O related ops)\n",
      "If you depend on functionality not listed there, please file an issue.\n",
      "\n",
      "goal_table\n",
      "<tensorflow.python.ops.lookup_ops.StaticHashTableV1 object at 0x7f96604a27b8>\n",
      "thms_table\n",
      "<tensorflow.python.ops.lookup_ops.StaticHashTableV1 object at 0x7f9660256128>\n"
     ]
    }
   ],
   "source": [
    "dataset_dir = params['dataset_dir']\n",
    "goal_file = os.path.join(dataset_dir, params['goal_vocab'])\n",
    "goal_table = utils.vocab_table_from_file(goal_file)\n",
    "print('goal_table')\n",
    "print(goal_table)\n",
    "thms_file = os.path.join(dataset_dir, params['thm_vocab'])\n",
    "thms_table = utils.vocab_table_from_file(thms_file)\n",
    "print('thms_table')\n",
    "print(thms_table)\n",
    "# check if there is a significant difference between static and hash table"
   ]
  },
  {
   "cell_type": "code",
   "execution_count": 5,
   "metadata": {},
   "outputs": [
    {
     "data": {
      "text/plain": [
       "{'goal': <tf.Tensor: id=234, shape=(4,), dtype=string, numpy=\n",
       " array([b\"(a (c (fun (fun (fun (cart (real) N) (bool)) (bool)) (bool)) ?) (l (v (fun (cart (real) N) (bool)) u2') (a (a (c (fun (bool) (fun (bool) (bool))) /\\\\) (a (a (c (fun (fun (cart (real) (finite_sum N (1))) (cart (real) N)) (fun (fun (cart (real) (finite_sum N (1))) (bool)) (bool))) continuous_on) (v (fun (cart (real) (finite_sum N (1))) (cart (real) N)) f)) (v (fun (cart (real) (finite_sum N (1))) (bool)) t))) (a (a (c (fun (bool) (fun (bool) (bool))) /\\\\) (a (a (c (fun (fun (cart (real) N) (bool)) (fun (fun (cart (real) N) (bool)) (bool))) SUBSET) (a (a (c (fun (fun (cart (real) (finite_sum N (1))) (cart (real) N)) (fun (fun (cart (real) (finite_sum N (1))) (bool)) (fun (cart (real) N) (bool)))) IMAGE) (v (fun (cart (real) (finite_sum N (1))) (cart (real) N)) f)) (v (fun (cart (real) (finite_sum N (1))) (bool)) t))) (a (a (c (fun (fun (cart (real) N) (bool)) (fun (fun (cart (real) N) (bool)) (fun (cart (real) N) (bool)))) UNION) (v (fun (cart (real) N) (bool)) u1)) (v (fun (cart (real) N) (bool)) u2)))) (a (a (c (fun (bool) (fun (bool) (bool))) /\\\\) (a (c (fun (fun (cart (real) N) (bool)) (bool)) ANR) (v (fun (cart (real) N) (bool)) u1))) (a (a (c (fun (bool) (fun (bool) (bool))) /\\\\) (a (c (fun (fun (cart (real) N) (bool)) (bool)) ANR) (v (fun (cart (real) N) (bool)) u2'))) (a (a (c (fun (bool) (fun (bool) (bool))) /\\\\) (a (c (fun (fun (cart (real) N) (bool)) (bool)) ANR) (a (a (c (fun (fun (cart (real) N) (bool)) (fun (fun (cart (real) N) (bool)) (fun (cart (real) N) (bool)))) INTER) (v (fun (cart (real) N) (bool)) u1)) (v (fun (cart (real) N) (bool)) u2')))) (a (a (c (fun (bool) (fun (bool) (bool))) /\\\\) (a (a (c (fun (fun (cart (real) N) (bool)) (fun (fun (cart (real) N) (bool)) (bool))) =) (a (a (c (fun (fun (cart (real) N) (bool)) (fun (fun (cart (real) N) (bool)) (fun (cart (real) N) (bool)))) UNION) (v (fun (cart (real) N) (bool)) u1)) (v (fun (cart (real) N) (bool)) u2'))) (a (a (c (fun (fun (cart (real) N) (bool)) (fun (fun (cart (real) N) (bool)) (fun (cart (real) N) (bool)))) UNION) (v (fun (cart (real) N) (bool)) u1)) (v (fun (cart (real) N) (bool)) u2)))) (a (a (c (fun (bool) (fun (bool) (bool))) /\\\\) (a (a (c (fun (topology (cart (real) (finite_sum N (1)))) (fun (fun (cart (real) (finite_sum N (1))) (bool)) (bool))) closed_in) (a (a (c (fun (topology (cart (real) (finite_sum N (1)))) (fun (fun (cart (real) (finite_sum N (1))) (bool)) (topology (cart (real) (finite_sum N (1)))))) subtopology) (c (topology (cart (real) (finite_sum N (1)))) euclidean)) (v (fun (cart (real) (finite_sum N (1))) (bool)) s))) (v (fun (cart (real) (finite_sum N (1))) (bool)) t))) (a (a (c (fun (bool) (fun (bool) (bool))) /\\\\) (a (a (c (fun (topology (cart (real) (finite_sum N (1)))) (fun (fun (cart (real) (finite_sum N (1))) (bool)) (bool))) closed_in) (a (a (c (fun (topology (cart (real) (finite_sum N (1)))) (fun (fun (cart (real) (finite_sum N (1))) (bool)) (topology (cart (real) (finite_sum N (1)))))) subtopology) (c (topology (cart (real) (finite_sum N (1)))) euclidean)) (v (fun (cart (real) (finite_sum N (1))) (bool)) s))) (a (c (fun (fun (cart (real) (finite_sum N (1))) (bool)) (fun (cart (real) (finite_sum N (1))) (bool))) GSPEC) (l (v (cart (real) (finite_sum N (1))) GEN%PVAR%0) (a (c (fun (fun (cart (real) (finite_sum N (1))) (bool)) (bool)) ?) (l (v (cart (real) (finite_sum N (1))) x) (a (a (a (c (fun (cart (real) (finite_sum N (1))) (fun (bool) (fun (cart (real) (finite_sum N (1))) (bool)))) SETSPEC) (v (cart (real) (finite_sum N (1))) GEN%PVAR%0)) (a (a (c (fun (bool) (fun (bool) (bool))) /\\\\) (a (a (c (fun (cart (real) (finite_sum N (1))) (fun (fun (cart (real) (finite_sum N (1))) (bool)) (bool))) IN) (v (cart (real) (finite_sum N (1))) x)) (v (fun (cart (real) (finite_sum N (1))) (bool)) s))) (a (a (c (fun (cart (real) (1)) (fun (fun (cart (real) (1)) (bool)) (bool))) IN) (a (v (fun (cart (real) (finite_sum N (1))) (cart (real) (1))) l) (v (cart (real) (finite_sum N (1))) x))) (a (c (fun (fun (cart (real) (1)) (bool)) (fun (cart (real) (1)) (bool))) GSPEC) (l (v (cart (real) (1)) GEN%PVAR%1) (a (c (fun (fun (cart (real) (1)) (bool)) (bool)) ?) (l (v (cart (real) (1)) y) (a (a (a (c (fun (cart (real) (1)) (fun (bool) (fun (cart (real) (1)) (bool)))) SETSPEC) (v (cart (real) (1)) GEN%PVAR%1)) (a (a (c (fun (real) (fun (real) (bool))) real_le) (a (c (fun (cart (real) (1)) (real)) drop) (v (cart (real) (1)) y))) (a (a (c (fun (real) (fun (real) (real))) real_div) (a (c (fun (num) (real)) real_of_num) (a (c (fun (num) (num)) NUMERAL) (a (c (fun (num) (num)) BIT1) (c (num) _0))))) (a (c (fun (num) (real)) real_of_num) (a (c (fun (num) (num)) NUMERAL) (a (c (fun (num) (num)) BIT0) (a (c (fun (num) (num)) BIT1) (c (num) _0)))))))) (v (cart (real) (1)) y))))))))) (v (cart (real) (finite_sum N (1))) x)))))))) (a (a (c (fun (bool) (fun (bool) (bool))) /\\\\) (a (a (c (fun (topology (cart (real) (finite_sum N (1)))) (fun (fun (cart (real) (finite_sum N (1))) (bool)) (bool))) closed_in) (a (a (c (fun (topology (cart (real) (finite_sum N (1)))) (fun (fun (cart (real) (finite_sum N (1))) (bool)) (topology (cart (real) (finite_sum N (1)))))) subtopology) (c (topology (cart (real) (finite_sum N (1)))) euclidean)) (v (fun (cart (real) (finite_sum N (1))) (bool)) s))) (a (c (fun (fun (cart (real) (finite_sum N (1))) (bool)) (fun (cart (real) (finite_sum N (1))) (bool))) GSPEC) (l (v (cart (real) (finite_sum N (1))) GEN%PVAR%0) (a (c (fun (fun (cart (real) (finite_sum N (1))) (bool)) (bool)) ?) (l (v (cart (real) (finite_sum N (1))) x) (a (a (a (c (fun (cart (real) (finite_sum N (1))) (fun (bool) (fun (cart (real) (finite_sum N (1))) (bool)))) SETSPEC) (v (cart (real) (finite_sum N (1))) GEN%PVAR%0)) (a (a (c (fun (bool) (fun (bool) (bool))) /\\\\) (a (a (c (fun (cart (real) (finite_sum N (1))) (fun (fun (cart (real) (finite_sum N (1))) (bool)) (bool))) IN) (v (cart (real) (finite_sum N (1))) x)) (v (fun (cart (real) (finite_sum N (1))) (bool)) s))) (a (a (c (fun (cart (real) (1)) (fun (fun (cart (real) (1)) (bool)) (bool))) IN) (a (v (fun (cart (real) (finite_sum N (1))) (cart (real) (1))) l) (v (cart (real) (finite_sum N (1))) x))) (a (c (fun (fun (cart (real) (1)) (bool)) (fun (cart (real) (1)) (bool))) GSPEC) (l (v (cart (real) (1)) GEN%PVAR%1) (a (c (fun (fun (cart (real) (1)) (bool)) (bool)) ?) (l (v (cart (real) (1)) y) (a (a (a (c (fun (cart (real) (1)) (fun (bool) (fun (cart (real) (1)) (bool)))) SETSPEC) (v (cart (real) (1)) GEN%PVAR%1)) (a (a (c (fun (real) (fun (real) (bool))) real_ge) (a (c (fun (cart (real) (1)) (real)) drop) (v (cart (real) (1)) y))) (a (a (c (fun (real) (fun (real) (real))) real_div) (a (c (fun (num) (real)) real_of_num) (a (c (fun (num) (num)) NUMERAL) (a (c (fun (num) (num)) BIT1) (c (num) _0))))) (a (c (fun (num) (real)) real_of_num) (a (c (fun (num) (num)) NUMERAL) (a (c (fun (num) (num)) BIT0) (a (c (fun (num) (num)) BIT1) (c (num) _0)))))))) (v (cart (real) (1)) y))))))))) (v (cart (real) (finite_sum N (1))) x)))))))) (a (a (c (fun (bool) (fun (bool) (bool))) /\\\\) (a (a (c (fun (fun (cart (real) (finite_sum N (1))) (bool)) (fun (fun (cart (real) (finite_sum N (1))) (bool)) (bool))) =) (a (a (c (fun (fun (cart (real) (finite_sum N (1))) (bool)) (fun (fun (cart (real) (finite_sum N (1))) (bool)) (fun (cart (real) (finite_sum N (1))) (bool)))) UNION) (a (c (fun (fun (cart (real) (finite_sum N (1))) (bool)) (fun (cart (real) (finite_sum N (1))) (bool))) GSPEC) (l (v (cart (real) (finite_sum N (1))) GEN%PVAR%0) (a (c (fun (fun (cart (real) (finite_sum N (1))) (bool)) (bool)) ?) (l (v (cart (real) (finite_sum N (1))) x) (a (a (a (c (fun (cart (real) (finite_sum N (1))) (fun (bool) (fun (cart (real) (finite_sum N (1))) (bool)))) SETSPEC) (v (cart (real) (finite_sum N (1))) GEN%PVAR%0)) (a (a (c (fun (bool) (fun (bool) (bool))) /\\\\) (a (a (c (fun (cart (real) (finite_sum N (1))) (fun (fun (cart (real) (finite_sum N (1))) (bool)) (bool))) IN) (v (cart (real) (finite_sum N (1))) x)) (v (fun (cart (real) (finite_sum N (1))) (bool)) s))) (a (a (c (fun (cart (real) (1)) (fun (fun (cart (real) (1)) (bool)) (bool))) IN) (a (v (fun (cart (real) (finite_sum N (1))) (cart (real) (1))) l) (v (cart (real) (finite_sum N (1))) x))) (a (c (fun (fun (cart (real) (1)) (bool)) (fun (cart (real) (1)) (bool))) GSPEC) (l (v (cart (real) (1)) GEN%PVAR%1) (a (c (fun (fun (cart (real) (1)) (bool)) (bool)) ?) (l (v (cart (real) (1)) y) (a (a (a (c (fun (cart (real) (1)) (fun (bool) (fun (cart (real) (1)) (bool)))) SETSPEC) (v (cart (real) (1)) GEN%PVAR%1)) (a (a (c (fun (real) (fun (real) (bool))) real_le) (a (c (fun (cart (real) (1)) (real)) drop) (v (cart (real) (1)) y))) (a (a (c (fun (real) (fun (real) (real))) real_div) (a (c (fun (num) (real)) real_of_num) (a (c (fun (num) (num)) NUMERAL) (a (c (fun (num) (num)) BIT1) (c (num) _0))))) (a (c (fun (num) (real)) real_of_num) (a (c (fun (num) (num)) NUMERAL) (a (c (fun (num) (num)) BIT0) (a (c (fun (num) (num)) BIT1) (c (num) _0)))))))) (v (cart (real) (1)) y))))))))) (v (cart (real) (finite_sum N (1))) x))))))) (a (c (fun (fun (cart (real) (finite_sum N (1))) (bool)) (fun (cart (real) (finite_sum N (1))) (bool))) GSPEC) (l (v (cart (real) (finite_sum N (1))) GEN%PVAR%0) (a (c (fun (fun (cart (real) (finite_sum N (1))) (bool)) (bool)) ?) (l (v (cart (real) (finite_sum N (1))) x) (a (a (a (c (fun (cart (real) (finite_sum N (1))) (fun (bool) (fun (cart (real) (finite_sum N (1))) (bool)))) SETSPEC) (v (cart (real) (finite_sum N (1))) GEN%PVAR%0)) (a (a (c (fun (bool) (fun (bool) (bool))) /\\\\) (a (a (c (fun (cart (real) (finite_sum N (1))) (fun (fun (cart (real) (finite_sum N (1))) (bool)) (bool))) IN) (v (cart (real) (finite_sum N (1))) x)) (v (fun (cart (real) (finite_sum N (1))) (bool)) s))) (a (a (c (fun (cart (real) (1)) (fun (fun (cart (real) (1)) (bool)) (bool))) IN) (a (v (fun (cart (real) (finite_sum N (1))) (cart (real) (1))) l) (v (cart (real) (finite_sum N (1))) x))) (a (c (fun (fun (cart (real) (1)) (bool)) (fun (cart (real) (1)) (bool))) GSPEC) (l (v (cart (real) (1)) GEN%PVAR%1) (a (c (fun (fun (cart (real) (1)) (bool)) (bool)) ?) (l (v (cart (real) (1)) y) (a (a (a (c (fun (cart (real) (1)) (fun (bool) (fun (cart (real) (1)) (bool)))) SETSPEC) (v (cart (real) (1)) GEN%PVAR%1)) (a (a (c (fun (real) (fun (real) (bool))) real_ge) (a (c (fun (cart (real) (1)) (real)) drop) (v (cart (real) (1)) y))) (a (a (c (fun (real) (fun (real) (real))) real_div) (a (c (fun (num) (real)) real_of_num) (a (c (fun (num) (num)) NUMERAL) (a (c (fun (num) (num)) BIT1) (c (num) _0))))) (a (c (fun (num) (real)) real_of_num) (a (c (fun (num) (num)) NUMERAL) (a (c (fun (num) (num)) BIT0) (a (c (fun (num) (num)) BIT1) (c (num) _0)))))))) (v (cart (real) (1)) y))))))))) (v (cart (real) (finite_sum N (1))) x)))))))) (v (fun (cart (real) (finite_sum N (1))) (bool)) s))) (a (a (c (fun (bool) (fun (bool) (bool))) /\\\\) (a (a (c (fun (fun (cart (real) N) (bool)) (fun (fun (cart (real) N) (bool)) (bool))) SUBSET) (a (a (c (fun (fun (cart (real) (finite_sum N (1))) (cart (real) N)) (fun (fun (cart (real) (finite_sum N (1))) (bool)) (fun (cart (real) N) (bool)))) IMAGE) (v (fun (cart (real) (finite_sum N (1))) (cart (real) N)) f)) (a (a (c (fun (fun (cart (real) (finite_sum N (1))) (bool)) (fun (fun (cart (real) (finite_sum N (1))) (bool)) (fun (cart (real) (finite_sum N (1))) (bool)))) INTER) (v (fun (cart (real) (finite_sum N (1))) (bool)) t)) (a (c (fun (fun (cart (real) (finite_sum N (1))) (bool)) (fun (cart (real) (finite_sum N (1))) (bool))) GSPEC) (l (v (cart (real) (finite_sum N (1))) GEN%PVAR%0) (a (c (fun (fun (cart (real) (finite_sum N (1))) (bool)) (bool)) ?) (l (v (cart (real) (finite_sum N (1))) x) (a (a (a (c (fun (cart (real) (finite_sum N (1))) (fun (bool) (fun (cart (real) (finite_sum N (1))) (bool)))) SETSPEC) (v (cart (real) (finite_sum N (1))) GEN%PVAR%0)) (a (a (c (fun (bool) (fun (bool) (bool))) /\\\\) (a (a (c (fun (cart (real) (finite_sum N (1))) (fun (fun (cart (real) (finite_sum N (1))) (bool)) (bool))) IN) (v (cart (real) (finite_sum N (1))) x)) (v (fun (cart (real) (finite_sum N (1))) (bool)) s))) (a (a (c (fun (cart (real) (1)) (fun (fun (cart (real) (1)) (bool)) (bool))) IN) (a (v (fun (cart (real) (finite_sum N (1))) (cart (real) (1))) l) (v (cart (real) (finite_sum N (1))) x))) (a (c (fun (fun (cart (real) (1)) (bool)) (fun (cart (real) (1)) (bool))) GSPEC) (l (v (cart (real) (1)) GEN%PVAR%1) (a (c (fun (fun (cart (real) (1)) (bool)) (bool)) ?) (l (v (cart (real) (1)) y) (a (a (a (c (fun (cart (real) (1)) (fun (bool) (fun (cart (real) (1)) (bool)))) SETSPEC) (v (cart (real) (1)) GEN%PVAR%1)) (a (a (c (fun (real) (fun (real) (bool))) real_le) (a (c (fun (cart (real) (1)) (real)) drop) (v (cart (real) (1)) y))) (a (a (c (fun (real) (fun (real) (real))) real_div) (a (c (fun (num) (real)) real_of_num) (a (c (fun (num) (num)) NUMERAL) (a (c (fun (num) (num)) BIT1) (c (num) _0))))) (a (c (fun (num) (real)) real_of_num) (a (c (fun (num) (num)) NUMERAL) (a (c (fun (num) (num)) BIT0) (a (c (fun (num) (num)) BIT1) (c (num) _0)))))))) (v (cart (real) (1)) y))))))))) (v (cart (real) (finite_sum N (1))) x))))))))) (v (fun (cart (real) N) (bool)) u1))) (a (a (c (fun (fun (cart (real) N) (bool)) (fun (fun (cart (real) N) (bool)) (bool))) SUBSET) (a (a (c (fun (fun (cart (real) (finite_sum N (1))) (cart (real) N)) (fun (fun (cart (real) (finite_sum N (1))) (bool)) (fun (cart (real) N) (bool)))) IMAGE) (v (fun (cart (real) (finite_sum N (1))) (cart (real) N)) f)) (a (a (c (fun (fun (cart (real) (finite_sum N (1))) (bool)) (fun (fun (cart (real) (finite_sum N (1))) (bool)) (fun (cart (real) (finite_sum N (1))) (bool)))) INTER) (v (fun (cart (real) (finite_sum N (1))) (bool)) t)) (a (c (fun (fun (cart (real) (finite_sum N (1))) (bool)) (fun (cart (real) (finite_sum N (1))) (bool))) GSPEC) (l (v (cart (real) (finite_sum N (1))) GEN%PVAR%0) (a (c (fun (fun (cart (real) (finite_sum N (1))) (bool)) (bool)) ?) (l (v (cart (real) (finite_sum N (1))) x) (a (a (a (c (fun (cart (real) (finite_sum N (1))) (fun (bool) (fun (cart (real) (finite_sum N (1))) (bool)))) SETSPEC) (v (cart (real) (finite_sum N (1))) GEN%PVAR%0)) (a (a (c (fun (bool) (fun (bool) (bool))) /\\\\) (a (a (c (fun (cart (real) (finite_sum N (1))) (fun (fun (cart (real) (finite_sum N (1))) (bool)) (bool))) IN) (v (cart (real) (finite_sum N (1))) x)) (v (fun (cart (real) (finite_sum N (1))) (bool)) s))) (a (a (c (fun (cart (real) (1)) (fun (fun (cart (real) (1)) (bool)) (bool))) IN) (a (v (fun (cart (real) (finite_sum N (1))) (cart (real) (1))) l) (v (cart (real) (finite_sum N (1))) x))) (a (c (fun (fun (cart (real) (1)) (bool)) (fun (cart (real) (1)) (bool))) GSPEC) (l (v (cart (real) (1)) GEN%PVAR%1) (a (c (fun (fun (cart (real) (1)) (bool)) (bool)) ?) (l (v (cart (real) (1)) y) (a (a (a (c (fun (cart (real) (1)) (fun (bool) (fun (cart (real) (1)) (bool)))) SETSPEC) (v (cart (real) (1)) GEN%PVAR%1)) (a (a (c (fun (real) (fun (real) (bool))) real_ge) (a (c (fun (cart (real) (1)) (real)) drop) (v (cart (real) (1)) y))) (a (a (c (fun (real) (fun (real) (real))) real_div) (a (c (fun (num) (real)) real_of_num) (a (c (fun (num) (num)) NUMERAL) (a (c (fun (num) (num)) BIT1) (c (num) _0))))) (a (c (fun (num) (real)) real_of_num) (a (c (fun (num) (num)) NUMERAL) (a (c (fun (num) (num)) BIT0) (a (c (fun (num) (num)) BIT1) (c (num) _0)))))))) (v (cart (real) (1)) y))))))))) (v (cart (real) (finite_sum N (1))) x))))))))) (v (fun (cart (real) N) (bool)) u2')))))))))))))))\",\n",
       "        b'(a (a (c (fun (real) (fun (real) (bool))) real_le) (a (a (c (fun (real) (fun (real) (real))) real_mul) (v (real) w)) (v (real) z))) (a (a (c (fun (real) (fun (real) (real))) real_mul) (v (real) x)) (v (real) z)))',\n",
       "        b'(a (a (c (fun (bool) (fun (bool) (bool))) ==>) (a (a (c (fun (bool) (fun (bool) (bool))) /\\\\) (a (a (c (fun (bool) (fun (bool) (bool))) /\\\\) (a (a (c (fun (fun (fun (cart (real) (1)) (bool)) (bool)) (fun (fun (cart (real) (1)) (bool)) (bool))) division_of) (v (fun (fun (cart (real) (1)) (bool)) (bool)) d)) (v (fun (cart (real) (1)) (bool)) t))) (a (a (c (fun (fun (cart (real) (1)) (bool)) (fun (fun (cart (real) (1)) (bool)) (bool))) SUBSET) (v (fun (cart (real) (1)) (bool)) t)) (v (fun (cart (real) (1)) (bool)) s)))) (a (c (fun (bool) (bool)) ~) (a (a (c (fun (real) (fun (real) (bool))) real_le) (a (a (c (fun (fun (fun (cart (real) (1)) (bool)) (bool)) (fun (fun (fun (cart (real) (1)) (bool)) (real)) (real))) sum) (v (fun (fun (cart (real) (1)) (bool)) (bool)) d)) (l (v (fun (cart (real) (1)) (bool)) k) (a (c (fun (cart (real) N) (real)) vector_norm) (a (a (c (fun (cart (real) N) (fun (cart (real) N) (cart (real) N))) vector_sub) (a (v (fun (cart (real) (1)) (cart (real) N)) f) (a (c (fun (fun (cart (real) (1)) (bool)) (cart (real) (1))) interval_upperbound) (v (fun (cart (real) (1)) (bool)) k)))) (a (v (fun (cart (real) (1)) (cart (real) N)) f) (a (c (fun (fun (cart (real) (1)) (bool)) (cart (real) (1))) interval_lowerbound) (v (fun (cart (real) (1)) (bool)) k)))))))) (a (a (c (fun (real) (fun (real) (real))) real_sub) (a (a (c (fun (fun (cart (real) (1)) (bool)) (fun (fun (cart (real) (1)) (cart (real) N)) (real))) vector_variation) (v (fun (cart (real) (1)) (bool)) s)) (v (fun (cart (real) (1)) (cart (real) N)) f))) (a (a (c (fun (real) (fun (real) (real))) real_div) (v (real) e)) (a (c (fun (num) (real)) real_of_num) (a (c (fun (num) (num)) NUMERAL) (a (c (fun (num) (num)) BIT0) (a (c (fun (num) (num)) BIT1) (c (num) _0))))))))))) (a (c (fun (fun (cart (real) (1)) (bool)) (bool)) ?) (l (v (cart (real) (1)) a) (a (c (fun (fun (cart (real) (1)) (bool)) (bool)) ?) (l (v (cart (real) (1)) b) (a (a (c (fun (bool) (fun (bool) (bool))) /\\\\) (a (a (c (fun (cart (real) (1)) (fun (fun (cart (real) (1)) (bool)) (bool))) IN) (v (cart (real) (1)) a)) (v (fun (cart (real) (1)) (bool)) s))) (a (a (c (fun (bool) (fun (bool) (bool))) /\\\\) (a (a (c (fun (cart (real) (1)) (fun (fun (cart (real) (1)) (bool)) (bool))) IN) (v (cart (real) (1)) b)) (v (fun (cart (real) (1)) (bool)) s))) (a (a (c (fun (bool) (fun (bool) (bool))) /\\\\) (a (a (c (fun (real) (fun (real) (bool))) real_lt) (a (c (fun (cart (real) (1)) (real)) drop) (v (cart (real) (1)) a))) (a (c (fun (cart (real) (1)) (real)) drop) (v (cart (real) (1)) b)))) (a (a (c (fun (bool) (fun (bool) (bool))) /\\\\) (a (a (c (fun (real) (fun (real) (bool))) real_lt) (a (a (c (fun (real) (fun (real) (real))) real_sub) (a (a (c (fun (fun (cart (real) (1)) (bool)) (fun (fun (cart (real) (1)) (cart (real) N)) (real))) vector_variation) (v (fun (cart (real) (1)) (bool)) s)) (v (fun (cart (real) (1)) (cart (real) N)) f))) (a (a (c (fun (real) (fun (real) (real))) real_div) (v (real) e)) (a (c (fun (num) (real)) real_of_num) (a (c (fun (num) (num)) NUMERAL) (a (c (fun (num) (num)) BIT0) (a (c (fun (num) (num)) BIT1) (c (num) _0)))))))) (a (a (c (fun (fun (cart (real) (1)) (bool)) (fun (fun (cart (real) (1)) (cart (real) N)) (real))) vector_variation) (a (c (fun (list (prod (cart (real) (1)) (cart (real) (1)))) (fun (cart (real) (1)) (bool))) closed_interval) (a (a (c (fun (prod (cart (real) (1)) (cart (real) (1))) (fun (list (prod (cart (real) (1)) (cart (real) (1)))) (list (prod (cart (real) (1)) (cart (real) (1)))))) CONS) (a (a (c (fun (cart (real) (1)) (fun (cart (real) (1)) (prod (cart (real) (1)) (cart (real) (1))))) ,) (v (cart (real) (1)) a)) (v (cart (real) (1)) b))) (c (list (prod (cart (real) (1)) (cart (real) (1)))) NIL)))) (v (fun (cart (real) (1)) (cart (real) N)) f)))) (a (a (c (fun (real) (fun (real) (bool))) real_le) (a (a (c (fun (fun (cart (real) (1)) (bool)) (fun (fun (cart (real) (1)) (cart (real) N)) (real))) vector_variation) (a (c (fun (list (prod (cart (real) (1)) (cart (real) (1)))) (fun (cart (real) (1)) (bool))) closed_interval) (a (a (c (fun (prod (cart (real) (1)) (cart (real) (1))) (fun (list (prod (cart (real) (1)) (cart (real) (1)))) (list (prod (cart (real) (1)) (cart (real) (1)))))) CONS) (a (a (c (fun (cart (real) (1)) (fun (cart (real) (1)) (prod (cart (real) (1)) (cart (real) (1))))) ,) (v (cart (real) (1)) a)) (v (cart (real) (1)) b))) (c (list (prod (cart (real) (1)) (cart (real) (1)))) NIL)))) (v (fun (cart (real) (1)) (cart (real) N)) f))) (a (a (c (fun (fun (cart (real) (1)) (bool)) (fun (fun (cart (real) (1)) (cart (real) N)) (real))) vector_variation) (v (fun (cart (real) (1)) (bool)) s)) (v (fun (cart (real) (1)) (cart (real) N)) f))))))))))))',\n",
       "        b'(a (a (c (fun (bool) (fun (bool) (bool))) ==>) (a (c (fun (bool) (bool)) ~) (a (a (c (fun (fun (cart (real) (1)) (bool)) (fun (fun (cart (real) (1)) (bool)) (bool))) =) (a (c (fun (list (prod (cart (real) (1)) (cart (real) (1)))) (fun (cart (real) (1)) (bool))) closed_interval) (a (a (c (fun (prod (cart (real) (1)) (cart (real) (1))) (fun (list (prod (cart (real) (1)) (cart (real) (1)))) (list (prod (cart (real) (1)) (cart (real) (1)))))) CONS) (a (a (c (fun (cart (real) (1)) (fun (cart (real) (1)) (prod (cart (real) (1)) (cart (real) (1))))) ,) (v (cart (real) (1)) a)) (v (cart (real) (1)) b))) (c (list (prod (cart (real) (1)) (cart (real) (1)))) NIL)))) (c (fun (cart (real) (1)) (bool)) EMPTY)))) (a (a (c (fun (bool) (fun (bool) (bool))) ==>) (a (c (fun (bool) (bool)) ~) (a (a (c (fun (cart (real) (1)) (fun (cart (real) (1)) (bool))) =) (v (cart (real) (1)) b)) (v (cart (real) (1)) a)))) (a (a (c (fun (num) (fun (num) (bool))) <=) (a (c (fun (num) (num)) NUMERAL) (a (c (fun (num) (num)) BIT1) (c (num) _0)))) (v (num) n))))'],\n",
       "       dtype=object)>,\n",
       " 'thms': <tf.Tensor: id=235, shape=(4,), dtype=string, numpy=\n",
       " array([b'',\n",
       "        b'(a (c (fun (fun (real) (bool)) (bool)) !) (l (v (real) x) (a (c (fun (fun (real) (bool)) (bool)) !) (l (v (real) y) (a (c (fun (fun (real) (bool)) (bool)) !) (l (v (real) z) (a (a (c (fun (bool) (fun (bool) (bool))) ==>) (a (a (c (fun (bool) (fun (bool) (bool))) /\\\\) (a (a (c (fun (real) (fun (real) (bool))) real_le) (v (real) x)) (v (real) y))) (a (a (c (fun (real) (fun (real) (bool))) real_le) (a (c (fun (num) (real)) real_of_num) (a (c (fun (num) (num)) NUMERAL) (c (num) _0)))) (v (real) z)))) (a (a (c (fun (real) (fun (real) (bool))) real_le) (a (a (c (fun (real) (fun (real) (real))) real_mul) (v (real) x)) (v (real) z))) (a (a (c (fun (real) (fun (real) (real))) real_mul) (v (real) y)) (v (real) z))))))))))',\n",
       "        b'(a (a (c (fun (bool) (fun (bool) (bool))) =) (a (a (c (fun (bool) (fun (bool) (bool))) ==>) (a (a (c (fun (bool) (fun (bool) (bool))) /\\\\) (v (bool) p)) (v (bool) q))) (v (bool) r))) (a (a (c (fun (bool) (fun (bool) (bool))) ==>) (v (bool) p)) (a (a (c (fun (bool) (fun (bool) (bool))) ==>) (v (bool) q)) (v (bool) r))))',\n",
       "        b''], dtype=object)>,\n",
       " 'thms_hard_negatives': <tf.Tensor: id=236, shape=(4, 7), dtype=string, numpy=\n",
       " array([[b'<NULL>', b'<NULL>', b'<NULL>', b'<NULL>', b'<NULL>', b'<NULL>',\n",
       "         b'<NULL>'],\n",
       "        [b'<NULL>', b'<NULL>', b'<NULL>', b'<NULL>', b'<NULL>', b'<NULL>',\n",
       "         b'<NULL>'],\n",
       "        [b'<NULL>', b'<NULL>', b'<NULL>', b'<NULL>', b'<NULL>', b'<NULL>',\n",
       "         b'<NULL>'],\n",
       "        [b'<NULL>', b'<NULL>', b'<NULL>', b'<NULL>', b'<NULL>', b'<NULL>',\n",
       "         b'<NULL>']], dtype=object)>}"
      ]
     },
     "execution_count": 5,
     "metadata": {},
     "output_type": "execute_result"
    }
   ],
   "source": [
    "features"
   ]
  },
  {
   "cell_type": "code",
   "execution_count": 6,
   "metadata": {},
   "outputs": [
    {
     "data": {
      "text/plain": [
       "{'tac_id': <tf.Tensor: id=352, shape=(4,), dtype=int64, numpy=array([ 3,  5, 15, 15])>}"
      ]
     },
     "execution_count": 6,
     "metadata": {},
     "output_type": "execute_result"
    }
   ],
   "source": [
    "labels"
   ]
  },
  {
   "cell_type": "code",
   "execution_count": 7,
   "metadata": {},
   "outputs": [
    {
     "name": "stdout",
     "output_type": "stream",
     "text": [
      "WARNING:tensorflow:From /home/ec2-user/SageMaker/deepmath/deepmath/deephol/train/extractor2.py:52: to_int32 (from tensorflow.python.ops.math_ops) is deprecated and will be removed in a future version.\n",
      "Instructions for updating:\n",
      "Use `tf.cast` instead.\n"
     ]
    }
   ],
   "source": [
    "features, labels = extractor2.Extractor(params).extractor(features, labels)"
   ]
  },
  {
   "cell_type": "code",
   "execution_count": 8,
   "metadata": {},
   "outputs": [
    {
     "data": {
      "text/plain": [
       "{'goal_ids': <tf.Tensor: id=418, shape=(4, 1000), dtype=int32, numpy=\n",
       " array([[ 2,  6,  9, ...,  7,  5, 45],\n",
       "        [ 2,  6,  6, ...,  0,  0,  0],\n",
       "        [ 2,  6,  6, ...,  0,  0,  0],\n",
       "        [ 2,  6,  6, ...,  0,  0,  0]], dtype=int32)>,\n",
       " 'thm_ids': <tf.Tensor: id=444, shape=(4, 137), dtype=int32, numpy=\n",
       " array([[ 2,  3,  0,  0,  0,  0,  0,  0,  0,  0,  0,  0,  0,  0,  0,  0,\n",
       "          0,  0,  0,  0,  0,  0,  0,  0,  0,  0,  0,  0,  0,  0,  0,  0,\n",
       "          0,  0,  0,  0,  0,  0,  0,  0,  0,  0,  0,  0,  0,  0,  0,  0,\n",
       "          0,  0,  0,  0,  0,  0,  0,  0,  0,  0,  0,  0,  0,  0,  0,  0,\n",
       "          0,  0,  0,  0,  0,  0,  0,  0,  0,  0,  0,  0,  0,  0,  0,  0,\n",
       "          0,  0,  0,  0,  0,  0,  0,  0,  0,  0,  0,  0,  0,  0,  0,  0,\n",
       "          0,  0,  0,  0,  0,  0,  0,  0,  0,  0,  0,  0,  0,  0,  0,  0,\n",
       "          0,  0,  0,  0,  0,  0,  0,  0,  0,  0,  0,  0,  0,  0,  0,  0,\n",
       "          0,  0,  0,  0,  0,  0,  0,  0,  0],\n",
       "        [ 2,  6,  8,  4,  4,  7,  5,  5, 19, 15, 10,  7, 16,  6,  8,  4,\n",
       "          4,  7,  5,  5, 19, 15, 10,  7, 30,  6,  8,  4,  4,  7,  5,  5,\n",
       "         19, 15, 10,  7, 53,  6,  6,  8,  4,  5,  4,  5,  5, 40,  6,  6,\n",
       "          8,  4,  5,  4,  5,  5, 24,  6,  6,  8,  4,  7,  4,  7,  5, 54,\n",
       "         10,  7, 16, 10,  7, 30,  6,  6,  8,  4,  7,  4,  7,  5, 54,  6,\n",
       "          8,  4, 11,  7, 37,  6,  8,  4, 11, 11, 28,  8, 11, 26, 10,  7,\n",
       "         53,  6,  6,  8,  4,  7,  4,  7,  5, 54,  6,  6,  8,  4,  7,  4,\n",
       "          7,  7, 80, 10,  7, 16, 10,  7, 53,  6,  6,  8,  4,  7,  4,  7,\n",
       "          7, 80, 10,  7, 30, 10,  7, 53,  3],\n",
       "        [ 2,  6,  6,  8,  4,  5,  4,  5,  5, 21,  6,  6,  8,  4,  5,  4,\n",
       "          5,  5, 40,  6,  6,  8,  4,  5,  4,  5,  5, 24, 10,  5, 41, 10,\n",
       "          5, 96, 10,  5, 73,  6,  6,  8,  4,  5,  4,  5,  5, 40, 10,  5,\n",
       "         41,  6,  6,  8,  4,  5,  4,  5,  5, 40, 10,  5, 96, 10,  5, 73,\n",
       "          3,  0,  0,  0,  0,  0,  0,  0,  0,  0,  0,  0,  0,  0,  0,  0,\n",
       "          0,  0,  0,  0,  0,  0,  0,  0,  0,  0,  0,  0,  0,  0,  0,  0,\n",
       "          0,  0,  0,  0,  0,  0,  0,  0,  0,  0,  0,  0,  0,  0,  0,  0,\n",
       "          0,  0,  0,  0,  0,  0,  0,  0,  0,  0,  0,  0,  0,  0,  0,  0,\n",
       "          0,  0,  0,  0,  0,  0,  0,  0,  0],\n",
       "        [ 2,  3,  0,  0,  0,  0,  0,  0,  0,  0,  0,  0,  0,  0,  0,  0,\n",
       "          0,  0,  0,  0,  0,  0,  0,  0,  0,  0,  0,  0,  0,  0,  0,  0,\n",
       "          0,  0,  0,  0,  0,  0,  0,  0,  0,  0,  0,  0,  0,  0,  0,  0,\n",
       "          0,  0,  0,  0,  0,  0,  0,  0,  0,  0,  0,  0,  0,  0,  0,  0,\n",
       "          0,  0,  0,  0,  0,  0,  0,  0,  0,  0,  0,  0,  0,  0,  0,  0,\n",
       "          0,  0,  0,  0,  0,  0,  0,  0,  0,  0,  0,  0,  0,  0,  0,  0,\n",
       "          0,  0,  0,  0,  0,  0,  0,  0,  0,  0,  0,  0,  0,  0,  0,  0,\n",
       "          0,  0,  0,  0,  0,  0,  0,  0,  0,  0,  0,  0,  0,  0,  0,  0,\n",
       "          0,  0,  0,  0,  0,  0,  0,  0,  0]], dtype=int32)>}"
      ]
     },
     "execution_count": 8,
     "metadata": {},
     "output_type": "execute_result"
    }
   ],
   "source": [
    "features"
   ]
  },
  {
   "cell_type": "code",
   "execution_count": 9,
   "metadata": {},
   "outputs": [
    {
     "data": {
      "text/plain": [
       "{'tac_id': <tf.Tensor: id=352, shape=(4,), dtype=int64, numpy=array([ 3,  5, 15, 15])>}"
      ]
     },
     "execution_count": 9,
     "metadata": {},
     "output_type": "execute_result"
    }
   ],
   "source": [
    "labels"
   ]
  },
  {
   "cell_type": "code",
   "execution_count": null,
   "metadata": {},
   "outputs": [],
   "source": []
  }
 ],
 "metadata": {
  "kernelspec": {
   "display_name": "conda_tensorflow_p36",
   "language": "python",
   "name": "conda_tensorflow_p36"
  },
  "language_info": {
   "codemirror_mode": {
    "name": "ipython",
    "version": 3
   },
   "file_extension": ".py",
   "mimetype": "text/x-python",
   "name": "python",
   "nbconvert_exporter": "python",
   "pygments_lexer": "ipython3",
   "version": "3.6.5"
  }
 },
 "nbformat": 4,
 "nbformat_minor": 4
}

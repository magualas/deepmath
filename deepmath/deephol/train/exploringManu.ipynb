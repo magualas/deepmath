{
 "cells": [
  {
   "cell_type": "code",
   "execution_count": 11,
   "metadata": {},
   "outputs": [
    {
     "name": "stdout",
     "output_type": "stream",
     "text": [
      "1.14.0\n"
     ]
    }
   ],
   "source": [
    "import os\n",
    "import pandas as pd\n",
    "import numpy as np\n",
    "import tensorflow as tf\n",
    "import tensorflow.contrib.eager as tfe\n",
    "# tf.compat.v1.enable_eager_execution()\n",
    "print(tf.__version__)\n",
    "\n",
    "import time\n",
    "import ingestor\n",
    "import extractor2\n",
    "import utils\n",
    "import data\n",
    "import functools"
   ]
  },
  {
   "cell_type": "code",
   "execution_count": 12,
   "metadata": {},
   "outputs": [],
   "source": [
    "params = ingestor.get_params()"
   ]
  },
  {
   "cell_type": "code",
   "execution_count": 13,
   "metadata": {},
   "outputs": [],
   "source": [
    "train_data = data.get_train_dataset(params)\n",
    "parser = data.tristan_parser\n",
    "train_parsed = train_data.map(functools.partial(parser, params=params))"
   ]
  },
  {
   "cell_type": "code",
   "execution_count": 14,
   "metadata": {},
   "outputs": [],
   "source": [
    "# set features and labels\n",
    "features = {'goal': [], 'goal_asl': [], 'thms': [], 'thms_hard_negatives': []}\n",
    "labels = {'tac_id': []}\n",
    "\n",
    "# iterate over dataset to extract data into arrays. remove 'take' part to iterate over the entire dataset\n",
    "for raw_record in train_parsed.take(2000):\n",
    "    fx, lx = raw_record[0], raw_record[1]\n",
    "    features['goal'].append(fx['goal'])\n",
    "    features['goal_asl'].append(fx['goal_asl'])\n",
    "    features['thms'].append(fx['thms'])\n",
    "    features['thms_hard_negatives'].append(fx['thms_hard_negatives'])\n",
    "    labels['tac_id'].append(lx['tac_id'])\n",
    "\n",
    "# instantiate extractor object\n",
    "ex = extractor2.Extractor(params)\n",
    "\n",
    "# tokenize goals\n",
    "temp = ex.tokenize(features['goal'], ex.vocab_table)\n",
    "features['goal_ids'] = temp\n",
    "#pad all goals to be of length 1000\n",
    "# goal_list = []\n",
    "# for j in range(len(temp)):\n",
    "#         l = len(temp[j])\n",
    "#         h = tf.pad(temp[j], [[0, 1000-l]], constant_values=0)\n",
    "#         goal_list.append(h)\n",
    "# features['goal_ids'] = goal_list\n",
    "\n",
    "# tokenize hypotheses\n",
    "length = len(features['goal'])\n",
    "features['goal_asl_ids'] = []\n",
    "\n",
    "for i in range(length):\n",
    "    temp = ex.tokenize(features['goal_asl'][i], ex.vocab_table)\n",
    "    features['goal_asl_ids'].append(temp)\n",
    "#     #pad all hypotheses to be of length 1000\n",
    "#     hypo_list = []\n",
    "#     for j in range(len(temp)):\n",
    "#         l = len(temp[j])\n",
    "#         h = tf.pad(temp[j], [[0, 1000-l]], constant_values=0)\n",
    "#         hypo_list.append(h)\n",
    "#     features['goal_asl_ids'].append(hypo_list)\n",
    "\n",
    "del features['goal']\n",
    "del features['goal_asl']\n",
    "del features['thms']\n",
    "del features['thms_hard_negatives']\n",
    "\n",
    "# # FEATURES\n",
    "# # 'goal_ids': an array of LENGTH OF DATASET containing arrays which are the tokenized goals of length 1000\n",
    "# # below is an example of how to access the entire array as numpy arrays\n",
    "# print(features['goal_ids'][0].numpy())\n",
    "# print(len(features['goal_ids'][0].numpy()))\n",
    "# # 'goal_asl_ids': this below is an array of LENGTH OF DATASET containing lists of tokenized hypotheses \n",
    "# # where each hypothesis is of length 1000. below is an example of how to access the first hypothesis \n",
    "# # from the list of hypotheses corresponding to the first training example\n",
    "# print(features['goal_asl_ids'][0][0].numpy())\n",
    "# print(len(features['goal_asl_ids'][0][0].numpy()))\n",
    "\n",
    "# # LABELS\n",
    "# # 'tac_id': array containing tactic ids. below is an example of how to access the first tactic\n",
    "# print(labels['tac_id'][0].numpy())"
   ]
  },
  {
   "cell_type": "code",
   "execution_count": 15,
   "metadata": {},
   "outputs": [
    {
     "name": "stderr",
     "output_type": "stream",
     "text": [
      "IOPub data rate exceeded.\n",
      "The notebook server will temporarily stop sending output\n",
      "to the client in order to avoid crashing it.\n",
      "To change this limit, set the config variable\n",
      "`--NotebookApp.iopub_data_rate_limit`.\n",
      "\n",
      "Current values:\n",
      "NotebookApp.iopub_data_rate_limit=1000000.0 (bytes/sec)\n",
      "NotebookApp.rate_limit_window=3.0 (secs)\n",
      "\n"
     ]
    }
   ],
   "source": [
    "# features['goal_ids'] is now an array of size 2000 x 1000\n",
    "features['goal_ids'] = features['goal_ids'].numpy()\n",
    "print(features['goal_ids'])\n",
    "print('Number of training examples:', len(features['goal_ids']))\n",
    "print('Size of training examples:', len(features['goal_ids'][0]))\n",
    "\n",
    "# features['goal_asl_ids'] is now an array of size 2000 x ? x 1000\n",
    "length = len(features['goal_asl_ids'])\n",
    "for i in range(length):\n",
    "    features['goal_asl_ids'][i] = [hypothesis.numpy() for hypothesis in features['goal_asl_ids'][i]]  \n",
    "\n",
    "print(features['goal_asl_ids'])\n",
    "print('Number of training examples:', len(features['goal_asl_ids']))\n",
    "print('Number of hypotheses for an example:', len(features['goal_asl_ids'][0]))\n",
    "print('Size of each hypothesis:', len(features['goal_asl_ids'][0][0]))\n",
    "\n",
    "# features['tactic_ids'] is now an array of size 2000 x 1\n",
    "labels['tac_id'] = [i.numpy() for i in labels['tac_id']]\n",
    "print(labels['tac_id'])\n",
    "print('Number of training examples:', len(labels['tac_id']))"
   ]
  },
  {
   "cell_type": "code",
   "execution_count": 16,
   "metadata": {},
   "outputs": [
    {
     "name": "stdout",
     "output_type": "stream",
     "text": [
      "(2000, 1000)\n"
     ]
    }
   ],
   "source": [
    "# convert goals to numpy arrays\n",
    "goals = np.array(features['goal_ids'])\n",
    "print(np.shape(goals))"
   ]
  },
  {
   "cell_type": "code",
   "execution_count": 17,
   "metadata": {},
   "outputs": [
    {
     "name": "stdout",
     "output_type": "stream",
     "text": [
      "(2000, 3000)\n"
     ]
    }
   ],
   "source": [
    "# convert goal hypotheses to numpy arrays and concatenate\n",
    "hypotheses = features['goal_asl_ids']\n",
    "length_hyp = len(hypotheses)\n",
    "\n",
    "for i in range(length_hyp):\n",
    "    if (len(hypotheses[i]) != 0):\n",
    "        # concatenate hypotheses in a given hypothesis list\n",
    "        hypotheses[i] = np.concatenate(hypotheses[i])\n",
    "        # remove zeroes in between\n",
    "        hypotheses[i] = hypotheses[i][hypotheses[i] != 0]\n",
    "        # truncate to max hypothesis length of 3000 characters, i.e. truncating less than 10% of data\n",
    "        hypotheses[i] = hypotheses[i][0:3000]\n",
    "        # pad with zeroes to make length 3000 (to save as csv)\n",
    "        len_conc = len(hypotheses[i])\n",
    "        hypotheses[i] = np.pad(hypotheses[i], (0, 3000-len_conc), mode='constant')\n",
    "    else:\n",
    "        hypotheses[i] = np.zeros(3000, dtype = 'int32')\n",
    "\n",
    "    \n",
    "np.set_printoptions(threshold=np.sys.maxsize)\n",
    "print(np.shape(hypotheses))\n"
   ]
  },
  {
   "cell_type": "code",
   "execution_count": 18,
   "metadata": {},
   "outputs": [
    {
     "name": "stdout",
     "output_type": "stream",
     "text": [
      "[  2  70   6   9   4   4   8   5  12   7   7 454  11   4   8   5  12   7\n",
      "  27   3   2  70   6   9   4   4   4   4   8   5  12   7   7   7   7  23\n",
      "  18  11   4   4   8   5  12   7   7 113   6   6   9   4   7   4   7   7\n",
      "  26   6   6   9   4   4   4   8   5  12   7   7   4   4   4   8   5  12\n",
      "   7   7   7 225  11   4   4   8   5  12   7   7 113  11   4   4   8   5\n",
      "  12   7   7  32   6   6   9   4   4   8   5  12   7   4   4   8   5  12\n",
      "   7   7 225  11   4   8   5  12   7  27   6   6   9   4   4   8   5  12\n",
      "   7   4   4   8   5  12   7   4   8   5  12   7  87   6   6   9   4   4\n",
      "   4   8   5  12   7   7   4   4   8   5  12   7   4   8   5  12   7 124\n",
      "   9   4   4   8   5  12   7   7 164  11   4   8   5  12   7  27   6   9\n",
      "   4   4   4   8   5  12   7   7   4   8   5  12   7 171  11   4   4   8\n",
      "   5  12   7   7 113   3   2  70   6   9   4   4   4   8   5  12   7   7\n",
      "   7  23  18  11   4   8   5  12   7  70   6   6   9   4   7   4   7   7\n",
      "  26   6   6   9   4   4   8   5  12   7   4   4   4   8   5  12   7   7\n",
      "   7  31  11   4   8   5  12   7  70  11   4   4   8   5  12   7   7  32\n",
      "   6   6   9   4   7   4   7   7  22   6   9   4   7   7  48   6   6   9\n",
      "   4   8   5  12   4   8   5  12   7  25   6  11   4   4   8   5  12   7\n",
      "   8   5  12   6  11   4   8   5  12   7  70   6   9   4  10   8   5  12\n",
      "  53   6   9   4  10  10  21   9  10  20   6   6   9   4   4   8   5  12\n",
      "   7   4   4   8   5  12   7   7  25  11   4   8   5  12   7  70   6   9\n",
      "   4   4   8   5  12   7   4   8   5  12   7  69  18  11   8   5  12  54\n",
      "   6   9   4   4   8   5  12   7   7  40  18  11   8   5  12  17   6   6\n",
      "   6   9   4   8   5  12   4   7   4   8   5  12   7  68  11   8   5  12\n",
      "  54   6   6   9   4   5   4   5   7  43   6   6   9   4   8   5  12   4\n",
      "   8   5  12   5 122   6  11   4   4   8   5  12   7   8   5  12   6  11\n",
      "   4   8   5  12   7  70  11   8   5  12  17   6  11   4   4   8   5  12\n",
      "   7   5  41  11   4   8   5  12   7  70  11   8   5  12  17   3   2  70\n",
      "   6   6   9   4   4   8   5  12   7   4   4   8   5  12   7   7  25  11\n",
      "   4   8   5  12   7  27   6   6   9   4   4   8   5  12   7   4   4   8\n",
      "   5  12   7   4   8   5  12   7  87   6   6   9   4   4   4   8   5  12\n",
      "   7   7   4   4   8   5  12   7   4   8   5  12   7 124   9   4   4   8\n",
      "   5  12   7   7 164  11   4   8   5  12   7  27   6   9   4   4   4   8\n",
      "   5  12   7   7   4   8   5  12   7 171  11   4   4   8   5  12   7   7\n",
      "  32   3   2  70   6   9   4   4   4   8   5  12   7   7   7 129  11   4\n",
      "   4   8   5  12   7   7  32   3   2  70   6   9   4   7   7  48   6   6\n",
      "   9   4   4   8   5  12   7   4   4   8   5  12   7   7  25  11   4   8\n",
      "   5  12   7  27   9   4   8   5  12   7  83   3   0   0   0   0   0   0\n",
      "   0   0   0   0   0   0   0   0   0   0   0   0   0   0   0   0   0   0\n",
      "   0   0   0   0   0   0   0   0   0   0   0   0   0   0   0   0   0   0\n",
      "   0   0   0   0   0   0   0   0   0   0   0   0   0   0   0   0   0   0\n",
      "   0   0   0   0   0   0   0   0   0   0   0   0   0   0   0   0   0   0\n",
      "   0   0   0   0   0   0   0   0   0   0   0   0   0   0   0   0   0   0\n",
      "   0   0   0   0   0   0   0   0   0   0   0   0   0   0   0   0   0   0\n",
      "   0   0   0   0   0   0   0   0   0   0   0   0   0   0   0   0   0   0\n",
      "   0   0   0   0   0   0   0   0   0   0   0   0   0   0   0   0   0   0\n",
      "   0   0   0   0   0   0   0   0   0   0   0   0   0   0   0   0   0   0\n",
      "   0   0   0   0   0   0   0   0   0   0   0   0   0   0   0   0   0   0\n",
      "   0   0   0   0   0   0   0   0   0   0   0   0   0   0   0   0   0   0\n",
      "   0   0   0   0   0   0   0   0   0   0   0   0   0   0   0   0   0   0\n",
      "   0   0   0   0   0   0   0   0   0   0   0   0   0   0   0   0   0   0\n",
      "   0   0   0   0   0   0   0   0   0   0   0   0   0   0   0   0   0   0\n",
      "   0   0   0   0   0   0   0   0   0   0   0   0   0   0   0   0   0   0\n",
      "   0   0   0   0   0   0   0   0   0   0   0   0   0   0   0   0   0   0\n",
      "   0   0   0   0   0   0   0   0   0   0   0   0   0   0   0   0   0   0\n",
      "   0   0   0   0   0   0   0   0   0   0   0   0   0   0   0   0   0   0\n",
      "   0   0   0   0   0   0   0   0   0   0   0   0   0   0   0   0   0   0\n",
      "   0   0   0   0   0   0   0   0   0   0   0   0   0   0   0   0   0   0\n",
      "   0   0   0   0   0   0   0   0   0   0   0   0   0   0   0   0   0   0\n",
      "   0   0   0   0   0   0   0   0   0   0   0   0   0   0   0   0   0   0\n",
      "   0   0   0   0   0   0   0   0   0   0   0   0   0   0   0   0   0   0\n",
      "   0   0   0   0   0   0   0   0   0   0   0   0   0   0   0   0   0   0\n",
      "   0   0   0   0   0   0   0   0   0   0   0   0   0   0   0   0   0   0\n",
      "   0   0   0   0   0   0   0   0   0   0   0   0   0   0   0   0   0   0\n",
      "   0   0   0   0   0   0   0   0   0   0   0   0   0   0   0   0   0   0\n",
      "   0   0   0   0   0   0   0   0   0   0   0   0   0   0   0   0   0   0\n",
      "   0   0   0   0   0   0   0   0   0   0   0   0   0   0   0   0   0   0\n",
      "   0   0   0   0   0   0   0   0   0   0   0   0   0   0   0   0   0   0\n",
      "   0   0   0   0   0   0   0   0   0   0   0   0   0   0   0   0   0   0\n",
      "   0   0   0   0   0   0   0   0   0   0   0   0   0   0   0   0   0   0\n",
      "   0   0   0   0   0   0   0   0   0   0   0   0   0   0   0   0   0   0\n",
      "   0   0   0   0   0   0   0   0   0   0   0   0   0   0   0   0   0   0\n",
      "   0   0   0   0   0   0   0   0   0   0   0   0   0   0   0   0   0   0\n",
      "   0   0   0   0   0   0   0   0   0   0   0   0   0   0   0   0   0   0\n",
      "   0   0   0   0   0   0   0   0   0   0   0   0   0   0   0   0   0   0\n",
      "   0   0   0   0   0   0   0   0   0   0   0   0   0   0   0   0   0   0\n",
      "   0   0   0   0   0   0   0   0   0   0   0   0   0   0   0   0   0   0\n",
      "   0   0   0   0   0   0   0   0   0   0   0   0   0   0   0   0   0   0\n",
      "   0   0   0   0   0   0   0   0   0   0   0   0   0   0   0   0   0   0\n",
      "   0   0   0   0   0   0   0   0   0   0   0   0   0   0   0   0   0   0\n",
      "   0   0   0   0   0   0   0   0   0   0   0   0   0   0   0   0   0   0\n",
      "   0   0   0   0   0   0   0   0   0   0   0   0   0   0   0   0   0   0\n",
      "   0   0   0   0   0   0   0   0   0   0   0   0   0   0   0   0   0   0\n",
      "   0   0   0   0   0   0   0   0   0   0   0   0   0   0   0   0   0   0\n",
      "   0   0   0   0   0   0   0   0   0   0   0   0   0   0   0   0   0   0\n",
      "   0   0   0   0   0   0   0   0   0   0   0   0   0   0   0   0   0   0\n",
      "   0   0   0   0   0   0   0   0   0   0   0   0   0   0   0   0   0   0\n",
      "   0   0   0   0   0   0   0   0   0   0   0   0   0   0   0   0   0   0\n",
      "   0   0   0   0   0   0   0   0   0   0   0   0   0   0   0   0   0   0\n",
      "   0   0   0   0   0   0   0   0   0   0   0   0   0   0   0   0   0   0\n",
      "   0   0   0   0   0   0   0   0   0   0   0   0   0   0   0   0   0   0\n",
      "   0   0   0   0   0   0   0   0   0   0   0   0   0   0   0   0   0   0\n",
      "   0   0   0   0   0   0   0   0   0   0   0   0   0   0   0   0   0   0\n",
      "   0   0   0   0   0   0   0   0   0   0   0   0   0   0   0   0   0   0\n",
      "   0   0   0   0   0   0   0   0   0   0   0   0   0   0   0   0   0   0\n",
      "   0   0   0   0   0   0   0   0   0   0   0   0   0   0   0   0   0   0\n",
      "   0   0   0   0   0   0   0   0   0   0   0   0   0   0   0   0   0   0\n",
      "   0   0   0   0   0   0   0   0   0   0   0   0   0   0   0   0   0   0\n",
      "   0   0   0   0   0   0   0   0   0   0   0   0   0   0   0   0   0   0\n",
      "   0   0   0   0   0   0   0   0   0   0   0   0   0   0   0   0   0   0\n",
      "   0   0   0   0   0   0   0   0   0   0   0   0   0   0   0   0   0   0\n",
      "   0   0   0   0   0   0   0   0   0   0   0   0   0   0   0   0   0   0\n",
      "   0   0   0   0   0   0   0   0   0   0   0   0   0   0   0   0   0   0\n",
      "   0   0   0   0   0   0   0   0   0   0   0   0   0   0   0   0   0   0\n",
      "   0   0   0   0   0   0   0   0   0   0   0   0   0   0   0   0   0   0\n",
      "   0   0   0   0   0   0   0   0   0   0   0   0   0   0   0   0   0   0\n",
      "   0   0   0   0   0   0   0   0   0   0   0   0   0   0   0   0   0   0\n",
      "   0   0   0   0   0   0   0   0   0   0   0   0   0   0   0   0   0   0\n",
      "   0   0   0   0   0   0   0   0   0   0   0   0   0   0   0   0   0   0\n",
      "   0   0   0   0   0   0   0   0   0   0   0   0   0   0   0   0   0   0\n",
      "   0   0   0   0   0   0   0   0   0   0   0   0   0   0   0   0   0   0\n",
      "   0   0   0   0   0   0   0   0   0   0   0   0   0   0   0   0   0   0\n",
      "   0   0   0   0   0   0   0   0   0   0   0   0   0   0   0   0   0   0\n",
      "   0   0   0   0   0   0   0   0   0   0   0   0   0   0   0   0   0   0\n",
      "   0   0   0   0   0   0   0   0   0   0   0   0   0   0   0   0   0   0\n",
      "   0   0   0   0   0   0   0   0   0   0   0   0   0   0   0   0   0   0\n",
      "   0   0   0   0   0   0   0   0   0   0   0   0   0   0   0   0   0   0\n",
      "   0   0   0   0   0   0   0   0   0   0   0   0   0   0   0   0   0   0\n",
      "   0   0   0   0   0   0   0   0   0   0   0   0   0   0   0   0   0   0\n",
      "   0   0   0   0   0   0   0   0   0   0   0   0   0   0   0   0   0   0\n",
      "   0   0   0   0   0   0   0   0   0   0   0   0   0   0   0   0   0   0\n",
      "   0   0   0   0   0   0   0   0   0   0   0   0   0   0   0   0   0   0\n",
      "   0   0   0   0   0   0   0   0   0   0   0   0   0   0   0   0   0   0\n",
      "   0   0   0   0   0   0   0   0   0   0   0   0   0   0   0   0   0   0\n",
      "   0   0   0   0   0   0   0   0   0   0   0   0   0   0   0   0   0   0\n",
      "   0   0   0   0   0   0   0   0   0   0   0   0   0   0   0   0   0   0\n",
      "   0   0   0   0   0   0   0   0   0   0   0   0   0   0   0   0   0   0\n",
      "   0   0   0   0   0   0   0   0   0   0   0   0   0   0   0   0   0   0\n",
      "   0   0   0   0   0   0   0   0   0   0   0   0   0   0   0   0   0   0\n",
      "   0   0   0   0   0   0   0   0   0   0   0   0   0   0   0   0   0   0\n",
      "   0   0   0   0   0   0   0   0   0   0   0   0   0   0   0   0   0   0\n",
      "   0   0   0   0   0   0   0   0   0   0   0   0   0   0   0   0   0   0\n",
      "   0   0   0   0   0   0   0   0   0   0   0   0   0   0   0   0   0   0\n",
      "   0   0   0   0   0   0   0   0   0   0   0   0   0   0   0   0   0   0\n",
      "   0   0   0   0   0   0   0   0   0   0   0   0   0   0   0   0   0   0\n",
      "   0   0   0   0   0   0   0   0   0   0   0   0   0   0   0   0   0   0\n",
      "   0   0   0   0   0   0   0   0   0   0   0   0   0   0   0   0   0   0\n",
      "   0   0   0   0   0   0   0   0   0   0   0   0   0   0   0   0   0   0\n",
      "   0   0   0   0   0   0   0   0   0   0   0   0   0   0   0   0   0   0\n",
      "   0   0   0   0   0   0   0   0   0   0   0   0   0   0   0   0   0   0\n",
      "   0   0   0   0   0   0   0   0   0   0   0   0   0   0   0   0   0   0\n",
      "   0   0   0   0   0   0   0   0   0   0   0   0   0   0   0   0   0   0\n",
      "   0   0   0   0   0   0   0   0   0   0   0   0   0   0   0   0   0   0\n",
      "   0   0   0   0   0   0   0   0   0   0   0   0   0   0   0   0   0   0\n",
      "   0   0   0   0   0   0   0   0   0   0   0   0   0   0   0   0   0   0\n",
      "   0   0   0   0   0   0   0   0   0   0   0   0   0   0   0   0   0   0\n",
      "   0   0   0   0   0   0   0   0   0   0   0   0   0   0   0   0   0   0\n",
      "   0   0   0   0   0   0   0   0   0   0   0   0   0   0   0   0   0   0\n",
      "   0   0   0   0   0   0   0   0   0   0   0   0   0   0   0   0   0   0\n",
      "   0   0   0   0   0   0   0   0   0   0   0   0   0   0   0   0   0   0\n",
      "   0   0   0   0   0   0   0   0   0   0   0   0   0   0   0   0   0   0\n",
      "   0   0   0   0   0   0   0   0   0   0   0   0   0   0   0   0   0   0\n",
      "   0   0   0   0   0   0   0   0   0   0   0   0   0   0   0   0   0   0\n",
      "   0   0   0   0   0   0   0   0   0   0   0   0   0   0   0   0   0   0\n",
      "   0   0   0   0   0   0   0   0   0   0   0   0   0   0   0   0   0   0\n",
      "   0   0   0   0   0   0   0   0   0   0   0   0   0   0   0   0   0   0\n",
      "   0   0   0   0   0   0   0   0   0   0   0   0   0   0   0   0   0   0\n",
      "   0   0   0   0   0   0   0   0   0   0   0   0   0   0   0   0   0   0\n",
      "   0   0   0   0   0   0   0   0   0   0   0   0   0   0   0   0   0   0\n",
      "   0   0   0   0   0   0   0   0   0   0   0   0   0   0   0   0   0   0\n",
      "   0   0   0   0   0   0   0   0   0   0   0   0   0   0   0   0   0   0\n",
      "   0   0   0   0   0   0   0   0   0   0   0   0   0   0   0   0   0   0\n",
      "   0   0   0   0   0   0   0   0   0   0   0   0   0   0   0   0   0   0\n",
      "   0   0   0   0   0   0   0   0   0   0   0   0   0   0   0   0   0   0\n",
      "   0   0   0   0   0   0   0   0   0   0   0   0   0   0   0   0   0   0\n",
      "   0   0   0   0   0   0   0   0   0   0   0   0   0   0   0   0   0   0\n",
      "   0   0   0   0   0   0   0   0   0   0   0   0   0   0   0   0   0   0\n",
      "   0   0   0   0   0   0   0   0   0   0   0   0]\n"
     ]
    }
   ],
   "source": [
    "print(hypotheses[0])"
   ]
  },
  {
   "cell_type": "code",
   "execution_count": 19,
   "metadata": {},
   "outputs": [
    {
     "name": "stdout",
     "output_type": "stream",
     "text": [
      "(2000, 41)\n"
     ]
    }
   ],
   "source": [
    "# convert tactics to numpy arrays and one-hot encode\n",
    "a = np.array(labels['tac_id'])\n",
    "tactics = np.zeros((a.size, 40+1))\n",
    "tactics[np.arange(a.size),a] = 1\n",
    "print(np.shape(tactics))"
   ]
  },
  {
   "cell_type": "code",
   "execution_count": 20,
   "metadata": {},
   "outputs": [
    {
     "name": "stdout",
     "output_type": "stream",
     "text": [
      "(2000, 1000)\n",
      "(2000, 41)\n",
      "(2000, 3000)\n"
     ]
    }
   ],
   "source": [
    "X_train, Y_train = goals, tactics\n",
    "print(np.shape(X_train))\n",
    "print(np.shape(Y_train))\n",
    "print(np.shape(hypotheses))"
   ]
  },
  {
   "cell_type": "code",
   "execution_count": 19,
   "metadata": {},
   "outputs": [],
   "source": [
    "# save numpy array as csv file\n",
    "from numpy import asarray\n",
    "from numpy import savetxt\n",
    "\n",
    "# save to csv file\n",
    "savetxt('x_train2.csv', X_train, delimiter=',')\n",
    "savetxt('y_train2.csv', Y_train, delimiter=',')\n",
    "savetxt('hypotheses2.csv', hypotheses, delimiter=',')"
   ]
  },
  {
   "cell_type": "code",
   "execution_count": null,
   "metadata": {},
   "outputs": [],
   "source": []
  }
 ],
 "metadata": {
  "kernelspec": {
   "display_name": "conda_tensorflow_p36",
   "language": "python",
   "name": "conda_tensorflow_p36"
  },
  "language_info": {
   "codemirror_mode": {
    "name": "ipython",
    "version": 3
   },
   "file_extension": ".py",
   "mimetype": "text/x-python",
   "name": "python",
   "nbconvert_exporter": "python",
   "pygments_lexer": "ipython3",
   "version": "3.6.5"
  }
 },
 "nbformat": 4,
 "nbformat_minor": 4
}

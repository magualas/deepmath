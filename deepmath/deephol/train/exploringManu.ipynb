{
 "cells": [
  {
   "cell_type": "code",
   "execution_count": 1,
   "metadata": {},
   "outputs": [
    {
     "name": "stdout",
     "output_type": "stream",
     "text": [
      "1.14.0\n",
      "Tesor Flow Version: 1.14.0 Ingest File\n",
      "Tesor Flow Version: 1.14.0  Utility File\n",
      "Tesor Flow Version: 1.14.0 Extactor 2\n"
     ]
    }
   ],
   "source": [
    "import os\n",
    "import pandas as pd\n",
    "import numpy as np\n",
    "import tensorflow as tf\n",
    "import tensorflow.contrib.eager as tfe\n",
    "# tf.compat.v1.enable_eager_execution()\n",
    "print(tf.__version__)\n",
    "\n",
    "import time\n",
    "import ingestor\n",
    "import extractor2\n",
    "import utils\n",
    "import data\n",
    "import functools"
   ]
  },
  {
   "cell_type": "code",
   "execution_count": 2,
   "metadata": {},
   "outputs": [
    {
     "name": "stderr",
     "output_type": "stream",
     "text": [
      "Using TensorFlow backend.\n"
     ]
    }
   ],
   "source": [
    "from keras.models import Sequential\n",
    "from keras.layers import Dense, Embedding, LSTM, SpatialDropout1D\n",
    "from sklearn.model_selection import train_test_split\n",
    "from keras.utils.np_utils import to_categorical\n",
    "from keras.callbacks import EarlyStopping\n",
    "from keras.layers import Dropout"
   ]
  },
  {
   "cell_type": "code",
   "execution_count": 3,
   "metadata": {},
   "outputs": [],
   "source": [
    "params = ingestor.get_params()"
   ]
  },
  {
   "cell_type": "code",
   "execution_count": 4,
   "metadata": {},
   "outputs": [
    {
     "name": "stdout",
     "output_type": "stream",
     "text": [
      "WARNING:tensorflow:From /home/ec2-user/SageMaker/deepmath/deepmath/deephol/train/data.py:66: The name tf.parse_single_example is deprecated. Please use tf.io.parse_single_example instead.\n",
      "\n",
      "WARNING:tensorflow:From /home/ec2-user/SageMaker/deepmath/deepmath/deephol/train/data.py:71: The name tf.FixedLenFeature is deprecated. Please use tf.io.FixedLenFeature instead.\n",
      "\n",
      "WARNING:tensorflow:From /home/ec2-user/SageMaker/deepmath/deepmath/deephol/train/data.py:73: The name tf.VarLenFeature is deprecated. Please use tf.io.VarLenFeature instead.\n",
      "\n",
      "WARNING:tensorflow:From /home/ec2-user/SageMaker/deepmath/deepmath/deephol/train/data.py:88: The name tf.sparse_tensor_to_dense is deprecated. Please use tf.sparse.to_dense instead.\n",
      "\n"
     ]
    }
   ],
   "source": [
    "train_data = data.get_train_dataset(params)\n",
    "parser = data.tristan_parser\n",
    "train_parsed = train_data.map(functools.partial(parser, params=params))"
   ]
  },
  {
   "cell_type": "code",
   "execution_count": 7,
   "metadata": {},
   "outputs": [],
   "source": [
    "# set features and labels\n",
    "features = {'goal': [], 'goal_asl': [], 'thms': [], 'thms_hard_negatives': []}\n",
    "labels = {'tac_id': []}\n",
    "\n",
    "# iterate over dataset to extract data into arrays. remove 'take' part to iterate over the entire dataset\n",
    "for raw_record in train_parsed.take(2000):\n",
    "    fx, lx = raw_record[0], raw_record[1]\n",
    "    features['goal'].append(fx['goal'])\n",
    "    features['goal_asl'].append(fx['goal_asl'])\n",
    "    features['thms'].append(fx['thms'])\n",
    "    features['thms_hard_negatives'].append(fx['thms_hard_negatives'])\n",
    "    labels['tac_id'].append(lx['tac_id'])\n",
    "\n",
    "# instantiate extractor object\n",
    "ex = extractor2.Extractor(params)\n",
    "\n",
    "# tokenize goals\n",
    "temp = ex.tokenize(features['goal'], ex.vocab_table)\n",
    "#pad all goals to be of length 1000\n",
    "# goal_list = []\n",
    "# for j in range(len(temp)):\n",
    "#         l = len(temp[j])\n",
    "#         h = tf.pad(temp[j], [[0, 1000-l]], constant_values=0)\n",
    "#         goal_list.append(h)\n",
    "# features['goal_ids'] = goal_list\n",
    "features['goal_ids'] = temp\n",
    "\n",
    "# tokenize hypotheses. this requires more work since there may be more than one hypothesis\n",
    "length = len(features['goal'])\n",
    "features['goal_asl_ids'] = []\n",
    "\n",
    "for i in range(length):\n",
    "    temp = ex.tokenize(features['goal_asl'][i], ex.vocab_table)\n",
    "    #pad all hypotheses to be of length 1000\n",
    "    hypo_list = []\n",
    "    for j in range(len(temp)):\n",
    "        l = len(temp[j])\n",
    "        h = tf.pad(temp[j], [[0, 1000-l]], constant_values=0)\n",
    "        hypo_list.append(h)\n",
    "    features['goal_asl_ids'].append(hypo_list)\n",
    "\n",
    "del features['goal']\n",
    "del features['goal_asl']\n",
    "del features['thms']\n",
    "del features['thms_hard_negatives']\n",
    "\n",
    "# # FEATURES\n",
    "# # 'goal_ids': an array of LENGTH OF DATASET containing arrays which are the tokenized goals of length 1000\n",
    "# # below is an example of how to access the entire array as numpy arrays\n",
    "# print(features['goal_ids'][0].numpy())\n",
    "# print(len(features['goal_ids'][0].numpy()))\n",
    "# # 'goal_asl_ids': this below is an array of LENGTH OF DATASET containing lists of tokenized hypotheses \n",
    "# # where each hypothesis is of length 1000. below is an example of how to access the first hypothesis \n",
    "# # from the list of hypotheses corresponding to the first training example\n",
    "# print(features['goal_asl_ids'][0][0].numpy())\n",
    "# print(len(features['goal_asl_ids'][0][0].numpy()))\n",
    "\n",
    "# # LABELS\n",
    "# # 'tac_id': array containing tactic ids. below is an example of how to access the first tactic\n",
    "# print(labels['tac_id'][0].numpy())"
   ]
  },
  {
   "cell_type": "code",
   "execution_count": 8,
   "metadata": {},
   "outputs": [
    {
     "name": "stdout",
     "output_type": "stream",
     "text": [
      "[[2 6 9 ... 0 0 0]\n",
      " [2 6 6 ... 0 0 0]\n",
      " [2 6 6 ... 0 0 0]\n",
      " ...\n",
      " [2 6 6 ... 0 0 0]\n",
      " [2 6 6 ... 0 0 0]\n",
      " [2 6 9 ... 0 0 0]]\n",
      "Number of training examples: 2000\n",
      "Size of training examples: 1000\n",
      "[34, 37, 5, 3, 26, 37, 24, 22, 5, 3, 8, 37, 26, 37, 5, 3, 24, 4, 37, 13, 8, 29, 15, 24, 27, 13, 28, 31, 5, 3, 28, 26, 22, 37, 5, 5, 28, 22, 28, 3, 37, 3, 31, 15, 37, 24, 3, 5, 3, 3, 5, 28, 5, 22, 37, 3, 15, 13, 5, 34, 16, 13, 5, 28, 13, 5, 5, 28, 24, 0, 37, 5, 31, 22, 15, 8, 27, 4, 29, 37, 3, 28, 13, 3, 32, 29, 13, 22, 3, 15, 28, 37, 5, 24, 37, 13, 38, 5, 4, 37, 3, 37, 3, 15, 22, 26, 5, 8, 3, 15, 37, 3, 3, 24, 5, 13, 13, 22, 32, 37, 24, 24, 12, 24, 8, 3, 3, 23, 37, 15, 8, 39, 37, 3, 0, 24, 5, 3, 32, 8, 5, 24, 8, 38, 8, 37, 22, 26, 37, 3, 38, 3, 22, 3, 24, 22, 8, 5, 37, 24, 31, 24, 24, 5, 16, 3, 19, 13, 26, 3, 5, 34, 19, 39, 13, 33, 37, 5, 8, 5, 37, 15, 5, 5, 16, 3, 8, 32, 8, 15, 15, 28, 15, 13, 32, 15, 24, 28, 13, 3, 3, 13, 8, 5, 3, 15, 3, 37, 3, 5, 24, 22, 26, 17, 3, 3, 8, 38, 15, 5, 15, 15, 3, 22, 5, 13, 32, 15, 31, 3, 16, 32, 22, 31, 37, 37, 38, 3, 3, 5, 8, 8, 32, 8, 5, 5, 5, 36, 5, 16, 26, 5, 24, 37, 5, 8, 37, 13, 29, 37, 3, 5, 3, 26, 8, 3, 5, 37, 26, 37, 24, 37, 28, 3, 5, 37, 22, 5, 22, 5, 15, 5, 4, 13, 37, 31, 0, 5, 3, 3, 39, 5, 15, 13, 15, 27, 8, 13, 37, 24, 0, 15, 15, 5, 5, 2, 3, 5, 16, 3, 1, 37, 3, 8, 3, 37, 8, 3, 22, 31, 8, 37, 13, 37, 38, 22, 26, 3, 37, 3, 3, 37, 5, 3, 15, 13, 8, 3, 3, 15, 8, 3, 8, 3, 3, 3, 3, 26, 15, 15, 34, 37, 13, 28, 5, 3, 3, 8, 5, 32, 8, 29, 8, 37, 37, 0, 37, 3, 24, 5, 37, 33, 5, 5, 4, 37, 13, 37, 37, 37, 24, 22, 3, 5, 5, 5, 13, 3, 28, 37, 24, 37, 8, 3, 37, 15, 16, 31, 8, 5, 26, 0, 37, 13, 15, 5, 2, 37, 13, 8, 16, 5, 28, 37, 5, 3, 5, 37, 2, 24, 15, 5, 22, 8, 15, 16, 3, 5, 37, 37, 8, 16, 26, 8, 22, 15, 32, 5, 3, 37, 13, 32, 32, 8, 37, 3, 3, 13, 32, 37, 31, 3, 5, 37, 5, 5, 8, 22, 5, 15, 5, 4, 37, 5, 3, 22, 5, 22, 5, 13, 3, 31, 5, 31, 5, 8, 5, 3, 3, 5, 24, 26, 15, 24, 3, 8, 8, 37, 8, 3, 3, 15, 5, 15, 19, 8, 5, 13, 5, 3, 3, 37, 37, 3, 4, 5, 8, 37, 5, 33, 15, 3, 37, 3, 19, 22, 37, 37, 5, 13, 27, 3, 16, 28, 3, 15, 15, 5, 22, 15, 37, 40, 3, 3, 28, 5, 16, 22, 32, 3, 15, 31, 2, 15, 8, 22, 3, 15, 28, 15, 16, 32, 32, 5, 37, 26, 5, 0, 2, 13, 13, 32, 13, 15, 3, 5, 13, 24, 5, 3, 5, 13, 15, 8, 3, 32, 32, 5, 2, 8, 22, 24, 22, 12, 8, 37, 3, 5, 15, 13, 3, 3, 2, 32, 26, 5, 22, 5, 16, 5, 37, 22, 16, 15, 3, 22, 15, 13, 37, 32, 2, 8, 28, 31, 5, 15, 3, 22, 22, 3, 37, 15, 37, 32, 24, 5, 37, 5, 5, 13, 32, 22, 16, 3, 5, 24, 22, 15, 5, 13, 5, 3, 3, 37, 3, 5, 37, 5, 5, 38, 37, 24, 5, 3, 5, 5, 5, 5, 3, 5, 3, 3, 3, 19, 5, 31, 15, 5, 28, 3, 15, 5, 22, 0, 24, 8, 37, 7, 8, 15, 37, 5, 19, 16, 31, 32, 3, 32, 3, 3, 3, 22, 37, 0, 37, 22, 13, 0, 15, 16, 34, 8, 3, 3, 0, 13, 37, 3, 15, 3, 37, 15, 16, 24, 37, 5, 37, 3, 8, 16, 34, 3, 37, 5, 15, 5, 37, 8, 3, 3, 5, 22, 24, 3, 24, 37, 26, 4, 37, 8, 5, 8, 5, 7, 5, 37, 32, 22, 15, 5, 13, 3, 15, 3, 8, 10, 16, 13, 37, 8, 1, 36, 5, 3, 3, 16, 3, 22, 3, 3, 13, 5, 22, 15, 15, 15, 13, 2, 24, 5, 37, 26, 3, 3, 3, 5, 24, 28, 5, 31, 8, 8, 8, 37, 5, 24, 3, 0, 3, 24, 38, 15, 3, 3, 15, 4, 37, 5, 3, 8, 5, 5, 37, 3, 15, 5, 3, 24, 3, 15, 3, 15, 3, 5, 3, 3, 5, 32, 13, 10, 24, 5, 24, 5, 5, 5, 16, 8, 5, 26, 37, 37, 5, 26, 37, 37, 5, 24, 37, 3, 5, 34, 8, 5, 5, 15, 10, 15, 15, 13, 27, 28, 3, 22, 15, 3, 5, 37, 15, 37, 5, 15, 5, 32, 3, 24, 13, 5, 3, 8, 3, 16, 28, 16, 37, 5, 15, 13, 15, 15, 13, 8, 26, 13, 3, 5, 13, 5, 15, 5, 15, 37, 24, 3, 5, 22, 15, 37, 38, 3, 27, 39, 15, 32, 22, 15, 15, 24, 5, 28, 37, 16, 3, 15, 8, 16, 8, 8, 13, 5, 5, 3, 3, 3, 8, 4, 5, 31, 16, 28, 32, 28, 31, 5, 8, 31, 24, 8, 15, 28, 32, 31, 15, 3, 37, 16, 13, 32, 13, 37, 8, 8, 8, 5, 37, 16, 22, 4, 28, 37, 5, 37, 3, 26, 15, 3, 15, 5, 16, 4, 3, 5, 37, 37, 32, 5, 28, 5, 32, 5, 3, 15, 24, 5, 37, 3, 15, 5, 0, 3, 15, 15, 2, 8, 2, 8, 37, 37, 5, 24, 15, 15, 5, 3, 15, 16, 16, 37, 25, 8, 37, 13, 28, 37, 3, 37, 5, 26, 37, 3, 37, 5, 37, 15, 3, 16, 3, 8, 37, 15, 4, 28, 37, 0, 0, 5, 3, 24, 37, 37, 22, 37, 16, 8, 27, 5, 24, 4, 3, 3, 27, 3, 5, 28, 5, 16, 26, 37, 27, 5, 31, 8, 28, 8, 26, 15, 0, 1, 15, 10, 5, 15, 24, 15, 37, 3, 15, 5, 8, 38, 29, 24, 27, 15, 37, 16, 13, 28, 3, 3, 16, 37, 37, 3, 3, 37, 5, 37, 4, 15, 16, 26, 22, 0, 3, 3, 37, 5, 24, 32, 5, 3, 5, 8, 24, 16, 5, 22, 22, 5, 10, 28, 37, 8, 5, 2, 32, 37, 3, 3, 5, 15, 13, 15, 5, 22, 37, 22, 26, 35, 15, 15, 5, 5, 8, 22, 15, 37, 3, 37, 37, 13, 15, 22, 22, 32, 5, 8, 24, 5, 24, 4, 28, 5, 15, 15, 8, 5, 28, 37, 15, 13, 5, 3, 15, 0, 22, 2, 37, 28, 8, 2, 15, 28, 16, 5, 5, 5, 37, 5, 8, 16, 37, 5, 3, 39, 15, 22, 2, 3, 32, 15, 37, 5, 37, 32, 3, 15, 15, 5, 3, 4, 15, 3, 32, 37, 16, 5, 13, 24, 34, 0, 16, 27, 5, 37, 2, 3, 15, 12, 3, 39, 3, 15, 10, 28, 15, 3, 2, 16, 24, 15, 8, 19, 37, 5, 15, 37, 28, 15, 37, 24, 37, 8, 5, 13, 15, 15, 37, 3, 3, 15, 4, 8, 4, 16, 3, 37, 24, 34, 8, 8, 37, 37, 37, 13, 8, 31, 28, 5, 13, 37, 3, 28, 24, 37, 5, 3, 15, 13, 8, 31, 22, 15, 15, 3, 15, 32, 13, 7, 22, 28, 13, 5, 37, 15, 3, 24, 37, 37, 3, 37, 2, 8, 26, 8, 32, 13, 16, 8, 0, 13, 16, 37, 13, 15, 8, 3, 37, 8, 8, 15, 15, 37, 3, 24, 3, 24, 5, 37, 8, 4, 38, 37, 37, 8, 39, 16, 5, 37, 5, 13, 37, 3, 5, 16, 3, 36, 3, 5, 37, 32, 15, 5, 3, 22, 3, 8, 26, 28, 8, 13, 15, 3, 16, 15, 5, 22, 37, 8, 0, 37, 24, 26, 5, 22, 28, 32, 28, 5, 3, 37, 8, 15, 16, 39, 27, 26, 5, 8, 3, 37, 22, 15, 5, 15, 5, 5, 37, 8, 3, 24, 3, 15, 37, 33, 37, 32, 8, 0, 15, 8, 5, 16, 37, 5, 3, 0, 5, 13, 13, 28, 5, 15, 37, 37, 5, 8, 5, 15, 15, 37, 3, 36, 22, 37, 29, 37, 37, 4, 8, 28, 3, 37, 5, 31, 3, 22, 37, 37, 32, 5, 22, 31, 37, 1, 15, 37, 3, 5, 37, 22, 5, 3, 3, 5, 5, 13, 3, 3, 34, 5, 5, 3, 16, 24, 15, 0, 40, 3, 22, 8, 13, 3, 28, 29, 13, 16, 3, 5, 5, 13, 8, 5, 26, 15, 8, 37, 13, 13, 5, 3, 0, 37, 5, 3, 13, 16, 24, 37, 37, 37, 15, 36, 3, 32, 5, 13, 13, 3, 15, 5, 32, 13, 37, 39, 26, 13, 38, 38, 15, 5, 37, 5, 37, 37, 28, 19, 5, 2, 33, 32, 8, 37, 26, 31, 15, 16, 24, 37, 22, 37, 16, 28, 5, 3, 15, 5, 28, 16, 4, 8, 22, 22, 8, 15, 15, 15, 16, 3, 13, 5, 13, 15, 3, 3, 5, 31, 5, 26, 22, 3, 32, 3, 24, 15, 8, 5, 31, 28, 22, 16, 32, 5, 24, 5, 37, 5, 15, 25, 28, 3, 3, 16, 15, 3, 16, 16, 37, 24, 39, 13, 37, 37, 5, 22, 24, 8, 37, 24, 16, 24, 13, 16, 3, 2, 15, 13, 31, 8, 13, 37, 37, 10, 15, 16, 5, 15, 5, 5, 3, 8, 32, 5, 22, 15, 24, 33, 15, 24, 5, 3, 3, 37, 8, 15, 8, 0, 26, 5, 26, 31, 3, 37, 10, 37, 5, 5, 5, 38, 5, 37, 38, 5, 15, 15, 28, 22, 15, 15, 37, 3, 3, 32, 8, 26, 28, 3, 24, 36, 37, 28, 22, 5, 13, 15, 3, 24, 3, 8, 5, 24, 5, 5, 5, 15, 3, 16, 8, 5, 5, 37, 28, 37, 8, 3, 3, 37, 27, 5, 24, 22, 5, 5, 27, 31, 22, 15, 2, 13, 2, 32, 37, 5, 3, 27, 5, 22, 13, 4, 8, 3, 15, 0, 5, 5, 5, 32, 16, 3, 26, 3, 3, 22, 39, 15, 15, 3, 5, 15, 27, 8, 22, 37, 5, 3, 15, 5, 5, 5, 37, 15, 22, 37, 5, 10, 26, 5, 32, 24, 31, 0, 22, 22, 5, 37, 24, 5, 5, 13, 4, 3, 21, 24, 8, 2, 13, 2, 3, 22, 5, 19, 24, 5, 8, 5, 36, 5, 37, 5, 3, 37, 37, 5, 31, 22, 15, 22, 37, 15, 34, 3, 13, 3, 5, 5, 22, 5, 13, 24, 15, 37, 3, 8, 16, 37, 16, 38, 28, 13, 28, 16, 24, 15, 3, 22, 5, 37, 15, 24, 3, 37, 16, 13, 5, 8, 5, 8, 8, 3, 24, 16, 37, 37, 24, 13, 28, 3, 13, 8, 3, 22, 31, 31, 37, 3, 3, 29, 8, 13, 3, 3, 13, 25, 13, 37, 5, 37, 16, 24, 15, 34, 16, 5, 37, 15, 34, 37, 5, 28, 0, 5, 22, 15, 37, 3, 37, 26, 3, 16, 15, 37, 10, 13, 27, 5, 3, 24, 15, 22, 5, 8, 22, 16, 5, 0, 5, 8, 3, 37, 5, 26, 5, 16, 37, 28, 37, 24, 16, 16, 5, 10, 0, 37, 5, 13, 3, 37, 5, 13, 0, 3, 5, 5, 3, 26, 5, 5, 13, 8, 3, 24, 5, 32, 3, 37, 28, 5, 5, 8, 3, 13, 19, 28, 39, 24, 5, 37, 37, 22]\n",
      "Number of training examples: 2000\n"
     ]
    }
   ],
   "source": [
    "# features['goal_ids'] is now an array of size 2000 x 1000\n",
    "features['goal_ids'] = features['goal_ids'].numpy()\n",
    "print(features['goal_ids'])\n",
    "print('Number of training examples:', len(features['goal_ids']))\n",
    "print('Size of training examples:', len(features['goal_ids'][0]))\n",
    "\n",
    "# features['goal_ids'] is now an array of size 2000 x 1000\n",
    "labels['tac_id'] = [i.numpy() for i in labels['tac_id']]\n",
    "print(labels['tac_id'])\n",
    "print('Number of training examples:', len(labels['tac_id']))"
   ]
  },
  {
   "cell_type": "code",
   "execution_count": 9,
   "metadata": {},
   "outputs": [
    {
     "data": {
      "text/plain": [
       "array([[2, 6, 9, ..., 0, 0, 0],\n",
       "       [2, 6, 6, ..., 0, 0, 0],\n",
       "       [2, 6, 6, ..., 0, 0, 0],\n",
       "       ...,\n",
       "       [2, 6, 6, ..., 0, 0, 0],\n",
       "       [2, 6, 6, ..., 0, 0, 0],\n",
       "       [2, 6, 9, ..., 0, 0, 0]], dtype=int32)"
      ]
     },
     "execution_count": 9,
     "metadata": {},
     "output_type": "execute_result"
    }
   ],
   "source": [
    "# convert to numpy arrays\n",
    "goals = np.array(features['goal_ids'])\n",
    "goals"
   ]
  },
  {
   "cell_type": "code",
   "execution_count": 10,
   "metadata": {},
   "outputs": [],
   "source": [
    "# convert to numpy arrays and one-hot encode\n",
    "a = np.array(labels['tac_id'])\n",
    "tactics = np.zeros((a.size, a.max()+1))\n",
    "tactics[np.arange(a.size),a] = 1"
   ]
  },
  {
   "cell_type": "code",
   "execution_count": 11,
   "metadata": {},
   "outputs": [
    {
     "data": {
      "text/plain": [
       "array([[0., 0., 0., ..., 0., 0., 0.],\n",
       "       [0., 0., 0., ..., 0., 0., 0.],\n",
       "       [0., 0., 0., ..., 0., 0., 0.],\n",
       "       ...,\n",
       "       [0., 0., 0., ..., 0., 0., 0.],\n",
       "       [0., 0., 0., ..., 0., 0., 0.],\n",
       "       [0., 0., 0., ..., 0., 0., 0.]])"
      ]
     },
     "execution_count": 11,
     "metadata": {},
     "output_type": "execute_result"
    }
   ],
   "source": [
    "tactics"
   ]
  },
  {
   "cell_type": "code",
   "execution_count": 31,
   "metadata": {},
   "outputs": [
    {
     "name": "stdout",
     "output_type": "stream",
     "text": [
      "(2000, 1000)\n",
      "(2000, 41)\n"
     ]
    }
   ],
   "source": [
    "X_train, Y_train = goals, tactics\n",
    "print(np.shape(X_train))\n",
    "print(np.shape(Y_train))"
   ]
  },
  {
   "cell_type": "code",
   "execution_count": 32,
   "metadata": {},
   "outputs": [],
   "source": [
    "# save numpy array as csv file\n",
    "from numpy import asarray\n",
    "from numpy import savetxt\n",
    "\n",
    "# save to csv file\n",
    "savetxt('x_train.csv', X_train, delimiter=',')\n",
    "savetxt('y_train.csv', Y_train, delimiter=',')"
   ]
  },
  {
   "cell_type": "code",
   "execution_count": null,
   "metadata": {},
   "outputs": [],
   "source": []
  }
 ],
 "metadata": {
  "kernelspec": {
   "display_name": "conda_tensorflow_p36",
   "language": "python",
   "name": "conda_tensorflow_p36"
  },
  "language_info": {
   "codemirror_mode": {
    "name": "ipython",
    "version": 3
   },
   "file_extension": ".py",
   "mimetype": "text/x-python",
   "name": "python",
   "nbconvert_exporter": "python",
   "pygments_lexer": "ipython3",
   "version": "3.6.5"
  }
 },
 "nbformat": 4,
 "nbformat_minor": 4
}
